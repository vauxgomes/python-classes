{
 "cells": [
  {
   "cell_type": "markdown",
   "metadata": {},
   "source": [
    "### Nível 3\n",
    "\n",
    "Fonte: [https://codingbat.com/](https://codingbat.com/)"
   ]
  },
  {
   "cell_type": "markdown",
   "metadata": {},
   "source": [
    "### Somar dígitos I\n",
    "\n",
    "Escreva uma função que recebe uma lista de números e soma os valores desta lista.\n",
    "\n",
    "#### Exemplo\n",
    "```py\n",
    "soma_lista([38]) → 38\n",
    "soma_lista([25, 47, 28, 12, 28, 18, 46, 48, 46]) → 298\n",
    "soma_lista([6, 27, 43, 31, 4, 1, 19, 40, 19, 13, 11]) → 214\n",
    "```"
   ]
  },
  {
   "cell_type": "code",
   "execution_count": null,
   "metadata": {},
   "outputs": [],
   "source": []
  },
  {
   "cell_type": "markdown",
   "metadata": {},
   "source": [
    "### Somar dígitos II\n",
    "Escreva uma função que recebe uma lista de valores e soma os valores inteiros desta lista.\n",
    "\n",
    "```py\n",
    "soma_lista_int(['a', 6, 'b', 7]) → 13\n",
    "soma_lista_int([5, 47, 'c', 47, 5, 28, 3.14]) → 132\n",
    "soma_lista_int([8.0, 41, 24, 15.2, 23, 17, 37]) → 142\n",
    "```"
   ]
  },
  {
   "cell_type": "code",
   "execution_count": null,
   "metadata": {},
   "outputs": [],
   "source": []
  },
  {
   "cell_type": "markdown",
   "metadata": {},
   "source": [
    "### Conta valores\n",
    "Escreva uma função que recebe uma lista `l` e um valor `n` e retorna o número de vezes que `n` está presente em `l`. \n",
    "\n",
    "```py\n",
    "conta_valores([10, 10, 10, 9, 6, 2, 6], 10) → 3\n",
    "conta_valores([9, 7, 4, 2], 5) → 0\n",
    "conta_valores([9, 4, 2, 6, 5, 1, 4], 4) → 2\n",
    "```\n",
    "\n",
    "> Use loop"
   ]
  },
  {
   "cell_type": "code",
   "execution_count": null,
   "metadata": {},
   "outputs": [],
   "source": []
  },
  {
   "cell_type": "markdown",
   "metadata": {},
   "source": [
    "### Apenas 1 ou 4\n",
    "\n",
    "Escreva uma função que recebe uma lista e retorna `True` se todos os elementos da lista forem 1 ou 4.\n",
    "\n",
    "\n",
    "```py\n",
    "apenas14([1, 4, 1, 4]) → True\n",
    "apenas14([1, 4, 2, 4]) → False\n",
    "apenas14([1, 1]) → True\n",
    "```"
   ]
  },
  {
   "cell_type": "code",
   "execution_count": null,
   "metadata": {},
   "outputs": [],
   "source": []
  },
  {
   "cell_type": "markdown",
   "metadata": {},
   "source": [
    "### Soma separados\n",
    "Escreva uma função que recebe uma lista e retorna a soma de valores ímpares e a soma dos valores pares.\n",
    "\n",
    "```py\n",
    "soma_separados([9, 3, 3]) → (15, 0)\n",
    "soma_separados([3, 5, 4, 3, 1]) → (12, 4)\n",
    "soma_separados([4, 9, 2]) → (9, 6)\n",
    "```"
   ]
  },
  {
   "cell_type": "code",
   "execution_count": null,
   "metadata": {},
   "outputs": [],
   "source": []
  },
  {
   "cell_type": "markdown",
   "metadata": {},
   "source": [
    "### Subconjunto\n",
    "\n",
    "Dados duas listas ordenadas `a` e `b`, informe se a lista `b` está inclusa em `a`.\n",
    "\n",
    "```py\n",
    "subconjunto([1, 2, 4, 6, 8, 9, 10], [4, 6]) → True\n",
    "subconjunto([3, 4, 7, 7, 8, 9], [3, 4, 10]) → False\n",
    "subconjunto([2, 5, 5, 9], [1, 7, 8]) → False\n",
    "```"
   ]
  },
  {
   "cell_type": "code",
   "execution_count": null,
   "metadata": {},
   "outputs": [],
   "source": []
  }
 ],
 "metadata": {
  "kernelspec": {
   "display_name": "Python 3",
   "language": "python",
   "name": "python3"
  },
  "language_info": {
   "codemirror_mode": {
    "name": "ipython",
    "version": 3
   },
   "file_extension": ".py",
   "mimetype": "text/x-python",
   "name": "python",
   "nbconvert_exporter": "python",
   "pygments_lexer": "ipython3",
   "version": "3.8.5"
  }
 },
 "nbformat": 4,
 "nbformat_minor": 4
}
