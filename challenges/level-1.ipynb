{
 "cells": [
  {
   "cell_type": "markdown",
   "metadata": {},
   "source": [
    "# Nível 1\n",
    "\n",
    "Fonte: [http://devfuria.com.br/logica-de-programacao/](http://devfuria.com.br/logica-de-programacao/)"
   ]
  },
  {
   "cell_type": "markdown",
   "metadata": {},
   "source": [
    "### Operações aritiméticas\n",
    "\n",
    "Escreva quatro funções para as quatro operações aritiméticas abaixo:\n",
    "- Adição: `adc(a, b)`\n",
    "- Subtração: `sub(a, b)`\n",
    "- Divisão: `div(a, b)`\n",
    "- Multiplicação: `mult(a, b)`\n",
    "\n",
    "Utilize suas funções para encontrar o valor da expressão abaixo:\n",
    "\n",
    "```\n",
    "(228+126)*((12+73)/(100-85))\n",
    "```"
   ]
  },
  {
   "cell_type": "code",
   "execution_count": null,
   "metadata": {},
   "outputs": [],
   "source": []
  },
  {
   "cell_type": "code",
   "execution_count": null,
   "metadata": {},
   "outputs": [],
   "source": []
  },
  {
   "cell_type": "code",
   "execution_count": null,
   "metadata": {},
   "outputs": [],
   "source": []
  },
  {
   "cell_type": "code",
   "execution_count": null,
   "metadata": {},
   "outputs": [],
   "source": []
  },
  {
   "cell_type": "markdown",
   "metadata": {},
   "source": [
    "### Par ou ímpar\n",
    "Escreva uma função que recebe um valor `x` e retorna `True` se este valor for ímpar ou falso se este valor for par.\n",
    "\n",
    "> Teste sua função"
   ]
  },
  {
   "cell_type": "code",
   "execution_count": null,
   "metadata": {},
   "outputs": [],
   "source": []
  },
  {
   "cell_type": "markdown",
   "metadata": {},
   "source": [
    "### Juros simples\n",
    "\n",
    "Escreva uma função para calcular o ganho devido a juros simples segundo a fórmula abaixo.\n",
    "```\n",
    "T = i*m*j\n",
    "```\n",
    "\n",
    "- `T`: Total,\n",
    "- `i`: investimento (em reais)\n",
    "- `m`: meses transcorridos\n",
    "- `j`: juros por mês (0.0 ~ 1.0)\n",
    "\n",
    "> Teste sua função!"
   ]
  },
  {
   "cell_type": "code",
   "execution_count": null,
   "metadata": {},
   "outputs": [],
   "source": []
  },
  {
   "cell_type": "markdown",
   "metadata": {},
   "source": [
    "### Conversor\n",
    "Crie uma função que recebe dois valores `v` e `t`. A função converte o valor de `v` de metros para quilômetros se o valor de `t` for igual a `m` ou converte o valor de `v` de quilômetros para metros se o valor de `t` for diferente de `m`.\n",
    "\n",
    "> Teste sua função convertendo um valor de metros para quilômetros e realizando a conversão de volta para metros."
   ]
  },
  {
   "cell_type": "code",
   "execution_count": null,
   "metadata": {},
   "outputs": [],
   "source": []
  },
  {
   "cell_type": "markdown",
   "metadata": {},
   "source": [
    "### Média de três números\n",
    "Escreva um programa que recebe 3 valores `a`, `b`, e `c` do usuário e imprime a média ponderada destes valores, onde o peso de `a`, `b`, e `c`, é 2, 3, e 5 respectivamente.\n",
    "> Teste sua função!"
   ]
  },
  {
   "cell_type": "code",
   "execution_count": null,
   "metadata": {},
   "outputs": [],
   "source": []
  }
 ],
 "metadata": {
  "kernelspec": {
   "display_name": "Python 3",
   "language": "python",
   "name": "python3"
  },
  "language_info": {
   "codemirror_mode": {
    "name": "ipython",
    "version": 3
   },
   "file_extension": ".py",
   "mimetype": "text/x-python",
   "name": "python",
   "nbconvert_exporter": "python",
   "pygments_lexer": "ipython3",
   "version": "3.8.5"
  }
 },
 "nbformat": 4,
 "nbformat_minor": 4
}
