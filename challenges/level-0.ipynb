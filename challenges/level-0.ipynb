{
 "cells": [
  {
   "cell_type": "markdown",
   "metadata": {},
   "source": [
    "# Nível 0\n",
    "\n",
    "Fonte: [http://devfuria.com.br/logica-de-programacao/](http://devfuria.com.br/logica-de-programacao/)"
   ]
  },
  {
   "cell_type": "markdown",
   "metadata": {},
   "source": [
    "### Troca de variáveis\n",
    "\n",
    "Crie duas variáveis `a` e `b` inicializadas com os valores 12 e 20, respectivamente. Usando apenas atribuição de variáveis, faça com que o valor de `a` passe para e `b` e o valor de `b` passe para `a`."
   ]
  },
  {
   "cell_type": "code",
   "execution_count": null,
   "metadata": {},
   "outputs": [],
   "source": []
  },
  {
   "cell_type": "markdown",
   "metadata": {},
   "source": [
    "### O dobro de qualquer valor\n",
    "Escreva a função `dobro` que recebe um valor `x` e retorna o dobro deste valor.\n",
    "\n",
    "```py\n",
    "def dobro(x):\n",
    "    pass\n",
    "```\n",
    "\n",
    "Teste a sua função recebendo um valor `x` do usuário e imprimindo o trecho de código abaixo:\n",
    "```py\n",
    "print(f'o dobro de {x} é {dobro(x)}')\n",
    "```"
   ]
  },
  {
   "cell_type": "code",
   "execution_count": null,
   "metadata": {},
   "outputs": [],
   "source": []
  },
  {
   "cell_type": "markdown",
   "metadata": {},
   "source": [
    "### Área e perímetro\n",
    "Escreva um programa que recebe os valores de dois lados de um quadrilátero e imprime a área e o perímetro deste quadrilátero. Utilize a imagem para as fórmulas.\n",
    "\n",
    "![Fórmulas](https://escolaeducacao.com.br/wp-content/uploads/2020/02/area-perimetro-retangulo-1-1024x346.png)"
   ]
  },
  {
   "cell_type": "code",
   "execution_count": null,
   "metadata": {},
   "outputs": [],
   "source": []
  },
  {
   "cell_type": "markdown",
   "metadata": {},
   "source": [
    "### Antecessor e Sucessor\n",
    "Escreva um programa que recebe um valor `x` do usuário e imprime o antecessor e o sucessor de `x`."
   ]
  },
  {
   "cell_type": "code",
   "execution_count": null,
   "metadata": {},
   "outputs": [],
   "source": []
  },
  {
   "cell_type": "markdown",
   "metadata": {},
   "source": [
    "### Média de três números\n",
    "Escreva um programa que recebe 3 valores `a`, `b`, e `c` do usuário e imprime a média aritimética destes valores"
   ]
  },
  {
   "cell_type": "code",
   "execution_count": null,
   "metadata": {},
   "outputs": [],
   "source": []
  }
 ],
 "metadata": {
  "kernelspec": {
   "display_name": "Python 3",
   "language": "python",
   "name": "python3"
  },
  "language_info": {
   "codemirror_mode": {
    "name": "ipython",
    "version": 3
   },
   "file_extension": ".py",
   "mimetype": "text/x-python",
   "name": "python",
   "nbconvert_exporter": "python",
   "pygments_lexer": "ipython3",
   "version": "3.8.5"
  }
 },
 "nbformat": 4,
 "nbformat_minor": 4
}
