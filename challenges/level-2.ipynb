{
 "cells": [
  {
   "cell_type": "markdown",
   "metadata": {},
   "source": [
    "# Nível 2\n",
    "\n",
    "Fonte: [https://codingbat.com/](https://codingbat.com/)"
   ]
  },
  {
   "cell_type": "markdown",
   "metadata": {},
   "source": [
    "### Dia da preguiça\n",
    "\n",
    "Escreva uma função que recebe dois parâmetros `d`(dia) e `f` (férias). A sua função retorna `True` se o dia for sábado ou domingo ou se o valor de férias for verdadeiro.\n",
    "\n",
    "#### Exemplo\n",
    "```\n",
    "dia_preguica('sab', False) → True\n",
    "dia_preguica('dom', True) → True\n",
    "dia_preguica('seg', True) → True\n",
    "dia_preguica('qua', False) → False\n",
    "```"
   ]
  },
  {
   "cell_type": "code",
   "execution_count": null,
   "metadata": {},
   "outputs": [],
   "source": []
  },
  {
   "cell_type": "markdown",
   "metadata": {},
   "source": [
    "### Macaco mal humorado I\n",
    "Em um zoológico existem dois macacos que brigam sempre que os dois estão no mesmo humor. Escreva uma função que recebe dois parâmetros `m1` (macaco 1 sorrindo) e `m2` (macaco 2 sorrindo), ambas do tipo Boleano, que indicam se os macacos estão sorrindo. A função retorna verdadeiro sempre que os macacos estiverem brigando.\n",
    "\n",
    "```py\n",
    "def briga_macaco(m1, m2):\n",
    "    pass\n",
    "```\n",
    "\n",
    "> Teste sua função"
   ]
  },
  {
   "cell_type": "code",
   "execution_count": null,
   "metadata": {},
   "outputs": [],
   "source": []
  },
  {
   "cell_type": "markdown",
   "metadata": {},
   "source": [
    "### Repetidor\n",
    "\n",
    "Escreva uma função que recebe uma string e um número positivo de vezes que a string deve ser repetida.\n",
    "```\n",
    "repetidor('Hi', 2) → 'HiHi'\n",
    "repetidor('Hi', 3) → 'HiHiHi'\n",
    "repetidor('Hi', 1) → 'Hi'\n",
    "```"
   ]
  },
  {
   "cell_type": "code",
   "execution_count": null,
   "metadata": {},
   "outputs": [],
   "source": []
  },
  {
   "cell_type": "markdown",
   "metadata": {},
   "source": [
    "### Conta letras I\n",
    "Escreva um programa que pergunta o nome do usuário e imprime na tela quantas letras existem no nome dele."
   ]
  },
  {
   "cell_type": "code",
   "execution_count": null,
   "metadata": {},
   "outputs": [],
   "source": []
  },
  {
   "cell_type": "markdown",
   "metadata": {},
   "source": [
    "### Conta vogais\n",
    "Escreva um programa que pergunta o nome do usuário e imprime na tela quantas **vogais** existem no nome dele."
   ]
  },
  {
   "cell_type": "code",
   "execution_count": null,
   "metadata": {},
   "outputs": [],
   "source": []
  },
  {
   "cell_type": "markdown",
   "metadata": {},
   "source": [
    "### Inverter String\n",
    "Escreva um programa que pergunta o nome do usuário e imprime na tela o nome invertido."
   ]
  },
  {
   "cell_type": "code",
   "execution_count": null,
   "metadata": {},
   "outputs": [],
   "source": []
  }
 ],
 "metadata": {
  "kernelspec": {
   "display_name": "Python 3",
   "language": "python",
   "name": "python3"
  },
  "language_info": {
   "codemirror_mode": {
    "name": "ipython",
    "version": 3
   },
   "file_extension": ".py",
   "mimetype": "text/x-python",
   "name": "python",
   "nbconvert_exporter": "python",
   "pygments_lexer": "ipython3",
   "version": "3.8.5"
  }
 },
 "nbformat": 4,
 "nbformat_minor": 4
}
