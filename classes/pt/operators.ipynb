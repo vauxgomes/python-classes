{
 "cells": [
  {
   "cell_type": "markdown",
   "metadata": {},
   "source": [
    "---\n",
    "\n",
    "![Header](img/operators-header.png)\n",
    "\n",
    "---\n",
    "\n",
    "# Operadores\n",
    "\n",
    "Os operadores são usados para realizar operações sobre valores e variáveis. Os operadores manipulam e retornam valores de acordo com sua funcionalidade. Eles podem ser representados por palavras reservadas ou caracteres especiais (símbolos).\n",
    "\n",
    " - [Operadores Aritiméticos](#Operadores-Aritméticos)\n",
    " - [Operadores de Comparação](#Operadores-de-Comparação)\n",
    " - [Operadores de Atribuição](#Operadores-de-Atribuição)\n",
    " - [Operadores Lógicos](#Operadores-Lógicos)\n",
    "\n",
    "## Operadores Aritméticos\n",
    "Estes operadores são representados por símbolos e realizam calculos aritméticos como adição, subtração, multiplicação, etc. Segue a lista de operadores aritméticos:\n",
    " \n",
    " | Operador | Símbolo |\n",
    " |--|--|\n",
    " | Adição | + |\n",
    " | Subtração | - |\n",
    " | Multiplicação | * |\n",
    " | Divisão | / |\n",
    " | Divisão inteira | // |\n",
    " | Módulo | % |\n",
    " | Exponenciação | ** |\n",
    " \n",
    " [← Operadores](#Operadores)\n",
    " \n",
    " #### Exemplos"
   ]
  },
  {
   "cell_type": "code",
   "execution_count": null,
   "metadata": {
    "scrolled": true
   },
   "outputs": [],
   "source": [
    "# Variáveis\n",
    "a, b = 10, 3"
   ]
  },
  {
   "cell_type": "code",
   "execution_count": null,
   "metadata": {},
   "outputs": [],
   "source": [
    "# Adição\n",
    "print(a + b)"
   ]
  },
  {
   "cell_type": "code",
   "execution_count": null,
   "metadata": {},
   "outputs": [],
   "source": [
    "# Subtração\n",
    "print(a - b)"
   ]
  },
  {
   "cell_type": "code",
   "execution_count": null,
   "metadata": {},
   "outputs": [],
   "source": [
    "# Multiplicação\n",
    "print(a * b)"
   ]
  },
  {
   "cell_type": "code",
   "execution_count": null,
   "metadata": {},
   "outputs": [],
   "source": [
    "# Divisão\n",
    "print(a / b)"
   ]
  },
  {
   "cell_type": "code",
   "execution_count": null,
   "metadata": {},
   "outputs": [],
   "source": [
    "# Divisão inteira\n",
    "print(a // b)"
   ]
  },
  {
   "cell_type": "code",
   "execution_count": null,
   "metadata": {},
   "outputs": [],
   "source": [
    "# Módulo\n",
    "print(a % 2)\n",
    "print(a % 3)"
   ]
  },
  {
   "cell_type": "code",
   "execution_count": null,
   "metadata": {},
   "outputs": [],
   "source": [
    "# Exponenciação\n",
    "print(a**2)\n",
    "print(a**4)\n",
    "print(2**4)"
   ]
  },
  {
   "cell_type": "markdown",
   "metadata": {},
   "source": [
    "## Operadores de Comparação\n",
    "\n",
    "Estes operadores comparam os valores em cada lado do operando e determinam a relação entre eles. Eles também são conhecidos como operadores relacionais. Este operadores também são descritos por símbolos. Segue a lista de operadores:\n",
    "\n",
    "| Operador | Símbolo |\n",
    "|--|--|\n",
    "| Igualdade | == |\n",
    "| Diferença | != |\n",
    "| Maior que | > |\n",
    "| Maior ou igual a | >= |\n",
    "| Menor que | < |\n",
    "| Menor ou igual a | <= |\n",
    "\n",
    "Independente do operador utilizado, os resultados possíveis são `True` (Verdadeiro) ou `False` (Falso).\n",
    "\n",
    "[← Operadores](#Operadores)\n",
    "\n",
    "#### Exemples"
   ]
  },
  {
   "cell_type": "code",
   "execution_count": null,
   "metadata": {},
   "outputs": [],
   "source": [
    "# Variáveis\n",
    "x, y = 5, 4"
   ]
  },
  {
   "cell_type": "code",
   "execution_count": null,
   "metadata": {},
   "outputs": [],
   "source": [
    "# Igualdade\n",
    "print('x == y:', x == y)"
   ]
  },
  {
   "cell_type": "code",
   "execution_count": null,
   "metadata": {},
   "outputs": [],
   "source": [
    "# Diferença\n",
    "print('x != y:', x != y)"
   ]
  },
  {
   "cell_type": "code",
   "execution_count": null,
   "metadata": {},
   "outputs": [],
   "source": [
    "# Maior\n",
    "print('x > y: ', x > y)\n",
    "print('x >= y:', x >= y)"
   ]
  },
  {
   "cell_type": "code",
   "execution_count": null,
   "metadata": {},
   "outputs": [],
   "source": [
    "# Menor\n",
    "print('x < y: ', x < y)\n",
    "print('x <= y:', x <= y)"
   ]
  },
  {
   "cell_type": "markdown",
   "metadata": {},
   "source": [
    "## Operadores de Atribuição\n",
    "Realizam calculos aritméticos e atribuições de forma simplificada. Segue a lista de operadores\n",
    "\n",
    "| Operator | Symbol |\n",
    "|--|--|\n",
    "| Atribuição | = |\n",
    "| Adição | += |\n",
    "| Subtração | -= |\n",
    "| Multiplicação | *= |\n",
    "| Divisão | //= |\n",
    "| Divisão Inteira | /= |\n",
    "| Módulo | %= |\n",
    "| Exponenciação | **= |\n",
    "\n",
    "\n",
    "[← Operadores](#Operadores)\n",
    "\n",
    "#### Exemplos"
   ]
  },
  {
   "cell_type": "code",
   "execution_count": null,
   "metadata": {},
   "outputs": [],
   "source": [
    "# Variáveis\n",
    "a, b, c = 3, 2, 0"
   ]
  },
  {
   "cell_type": "code",
   "execution_count": null,
   "metadata": {},
   "outputs": [],
   "source": [
    "# Adição\n",
    "c += a\n",
    "print('C:', c)"
   ]
  },
  {
   "cell_type": "code",
   "execution_count": null,
   "metadata": {},
   "outputs": [],
   "source": [
    "# Multiplicação\n",
    "c *= a\n",
    "print('C:', c) "
   ]
  },
  {
   "cell_type": "code",
   "execution_count": null,
   "metadata": {},
   "outputs": [],
   "source": [
    "# Divisão\n",
    "c /= a \n",
    "print('C:', c)"
   ]
  },
  {
   "cell_type": "code",
   "execution_count": null,
   "metadata": {},
   "outputs": [],
   "source": [
    "# Módulo\n",
    "c = 10\n",
    "c %= a\n",
    "print('C:', c)"
   ]
  },
  {
   "cell_type": "code",
   "execution_count": null,
   "metadata": {},
   "outputs": [],
   "source": [
    "# Exponenciação\n",
    "c = 2\n",
    "c **= a\n",
    "print('C:', c)"
   ]
  },
  {
   "cell_type": "code",
   "execution_count": null,
   "metadata": {},
   "outputs": [],
   "source": [
    "# Divisão inteira\n",
    "c //= a\n",
    "print('C:', c)"
   ]
  },
  {
   "cell_type": "markdown",
   "metadata": {},
   "source": [
    "## Operadores Lógicos\n",
    "\n",
    "Utilizado para realizar calculos booleanos entre valores. Funcionam como nas tabelas-verdade. São representados por palavras reservadas.\n",
    "\n",
    "| Operador | Palavra reservada |\n",
    "| -- | -- | \n",
    "| E | `and` |\n",
    "| Ou | `or` |\n",
    "| Negação | `not` |\n",
    " \n",
    "[← Operadores](#Operadores)\n",
    "\n",
    "#### Exemplos"
   ]
  },
  {
   "cell_type": "code",
   "execution_count": null,
   "metadata": {},
   "outputs": [],
   "source": [
    "# Variáveis\n",
    "a, b = True, False"
   ]
  },
  {
   "cell_type": "code",
   "execution_count": null,
   "metadata": {},
   "outputs": [],
   "source": [
    "print('a AND b:', a and b)"
   ]
  },
  {
   "cell_type": "code",
   "execution_count": null,
   "metadata": {},
   "outputs": [],
   "source": [
    "print('a OR b:', a or b)"
   ]
  },
  {
   "cell_type": "code",
   "execution_count": null,
   "metadata": {},
   "outputs": [],
   "source": [
    "print('NOT a:', not a)"
   ]
  },
  {
   "cell_type": "code",
   "execution_count": null,
   "metadata": {},
   "outputs": [],
   "source": [
    "print('NOT (a AND b):', not(a and b))"
   ]
  },
  {
   "cell_type": "markdown",
   "metadata": {},
   "source": [
    "## Precedência de Operadores\n",
    "\n",
    "| Ordem | Operador | \n",
    "| -- |--|\n",
    "| 1º | ** |\n",
    "| 2º | *, /, //, % |\n",
    "| 3º | +, - |\n",
    "| 4º | <=, <, >, >= |\n",
    "| 5º | =, %=, /=, //=, -=, +=, *=, **= |\n",
    "| 6º | is, is not |\n",
    "| 7º | in, not in |\n",
    "| 8º | not, or, and |\n",
    "\n",
    "[← Operadores](#Operadores)"
   ]
  },
  {
   "cell_type": "markdown",
   "metadata": {},
   "source": [
    "## Exercícios\n",
    "\n",
    "Crie um programa que lê um número, soma 2 a este número e imprime o dobro deste novo valor."
   ]
  },
  {
   "cell_type": "code",
   "execution_count": null,
   "metadata": {},
   "outputs": [],
   "source": []
  },
  {
   "cell_type": "markdown",
   "metadata": {},
   "source": [
    "Crie um programa que lê dois números mostra se o primeiro número é maior que o segundo. A saída deve ser um booleano."
   ]
  },
  {
   "cell_type": "code",
   "execution_count": null,
   "metadata": {},
   "outputs": [],
   "source": []
  }
 ],
 "metadata": {
  "kernelspec": {
   "display_name": "Python 3",
   "language": "python",
   "name": "python3"
  },
  "language_info": {
   "codemirror_mode": {
    "name": "ipython",
    "version": 3
   },
   "file_extension": ".py",
   "mimetype": "text/x-python",
   "name": "python",
   "nbconvert_exporter": "python",
   "pygments_lexer": "ipython3",
   "version": "3.8.1"
  }
 },
 "nbformat": 4,
 "nbformat_minor": 2
}
