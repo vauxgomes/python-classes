{
 "cells": [
  {
   "cell_type": "markdown",
   "metadata": {},
   "source": [
    "---\n",
    "\n",
    "![Header](img/conditionals-header.png)\n",
    "\n",
    "---\n",
    "\n",
    "# Estrutura de controles de fluxo\n",
    "\n",
    "Servem para alterar a ordem dos passos de um algoritmo/programa.\n",
    "\n",
    "<img src=\"img/conditionals/control-flow.png\" width=\"600px\"/>\n",
    "\n",
    "## Tipos de estruturas de controle\n",
    "\n",
    " - Estruturas condicionais\n",
    " - Laços de repetição\n",
    " - Funções"
   ]
  },
  {
   "cell_type": "markdown",
   "metadata": {},
   "source": [
    "## Estruturas condicionais \n",
    "### Estrutura condicional `if`\n",
    "A estrutura `if` é utilizada sempre que precisarmos desviar o curso do programa de acordo com um ou mais **condições**.\n",
    "\n",
    "<img src=\"img/conditionals/if-statement.png\" width=\"250px\"/>\n",
    "\n",
    "#### Em código\n",
    "```py\n",
    "if <expr>:\n",
    "    <statement>\n",
    "```\n",
    "\n",
    "No trecho acima:\n",
    " - `<expr>` representa uma expressão Booleana\n",
    " - `<statement>` representa um bloco de código qualquer em Python\n",
    "   - Este bloco deve ser válido; e\n",
    "   - Deve estar identado\n",
    "\n",
    "#### Indentação\n",
    "Indentação é um recuo dado em uma ou mais linhas do código\n",
    "\n",
    "#### Exemplo\n",
    "*Se chover hoje eu vou lavar o meu carro!*"
   ]
  },
  {
   "cell_type": "code",
   "execution_count": null,
   "metadata": {},
   "outputs": [],
   "source": []
  },
  {
   "cell_type": "markdown",
   "metadata": {},
   "source": [
    "#### Exemplo\n",
    "*Se a temperatura estiver boa eu vou ao parque relaxar e levar o cachoro para caminhar*"
   ]
  },
  {
   "cell_type": "code",
   "execution_count": null,
   "metadata": {},
   "outputs": [],
   "source": []
  },
  {
   "cell_type": "markdown",
   "metadata": {},
   "source": [
    "### Estrutura condicional `else`\n",
    "Esta estutura é utilizada em conjunto com o `if` e serve para especificar uma alternativa para quando a condição do `if` **não for aceita**.\n",
    "\n",
    "> O `else` pode ser utilizado com outras estruturas de controle de fluxo\n",
    "\n",
    "<img src=\"img/conditionals/if-else-statement.png\" width=\"290px\"/>\n",
    "\n",
    "#### Em código\n",
    "```py\n",
    "if <expr>:\n",
    "    <statement>\n",
    "else:\n",
    "    <statement>\n",
    "```\n",
    "\n",
    "#### Exemplo\n",
    "*Se a nota do aluno for maior ou igual à média o sistema imprime \"aprovado\", caso contrário o sistema escreve \"reprovado\"*"
   ]
  },
  {
   "cell_type": "code",
   "execution_count": null,
   "metadata": {},
   "outputs": [],
   "source": []
  },
  {
   "cell_type": "markdown",
   "metadata": {},
   "source": [
    "### Estrutura condicional `elif`\n",
    "Esta estutura é utilizada em conjunto com o `if` e serve para testar uma nova condição para quando a condição do `if` **não for aceita**.\n",
    "\n",
    "<img src=\"img/conditionals/if-elif-statement.png\" width=\"290px\"/>\n",
    "\n",
    "#### Em código\n",
    "```py\n",
    "if <expr>:\n",
    "    <statement>\n",
    "elif:\n",
    "    <statement>\n",
    "```\n",
    "\n",
    "#### Exemplo\n",
    "*Se a nota do aluno for maior ou igual à média o sistema imprime \"aprovado\", caso contrário se a nota for maior ou igual à nota mínima da recuperação o sistema escreve \"recuperado\"*"
   ]
  },
  {
   "cell_type": "code",
   "execution_count": null,
   "metadata": {},
   "outputs": [],
   "source": []
  },
  {
   "cell_type": "markdown",
   "metadata": {},
   "source": [
    "#### Exemplo\n",
    "Crie um programa que pergunta o ano de nascimento de uma pessoa e informa o grupo etário baseado na tabela abaixo:\n",
    "\n",
    "| Grupo | Idade |\n",
    "| ----- | ----- | \n",
    "| Jóvem | até 14 anos |\n",
    "| PIA*  | até 64 anos |\n",
    "| Idóso | acima de 65 anos | \n",
    "\n",
    "> *PIA: População em Idade Ativa"
   ]
  },
  {
   "cell_type": "code",
   "execution_count": null,
   "metadata": {},
   "outputs": [],
   "source": []
  },
  {
   "cell_type": "markdown",
   "metadata": {},
   "source": [
    "#### Desafio\n",
    "Crie um programa que realiza até 5 perguntas e determina a qual dos cinco reinos um determado ser vivo pertence (Reino Monera, Reino Protista, Reino Fungi, Reino Animalia ou Reino Plantae)."
   ]
  },
  {
   "cell_type": "code",
   "execution_count": null,
   "metadata": {},
   "outputs": [],
   "source": []
  }
 ],
 "metadata": {
  "kernelspec": {
   "display_name": "Python 3",
   "language": "python",
   "name": "python3"
  },
  "language_info": {
   "codemirror_mode": {
    "name": "ipython",
    "version": 3
   },
   "file_extension": ".py",
   "mimetype": "text/x-python",
   "name": "python",
   "nbconvert_exporter": "python",
   "pygments_lexer": "ipython3",
   "version": "3.8.1"
  }
 },
 "nbformat": 4,
 "nbformat_minor": 2
}
