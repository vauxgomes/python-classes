{
 "cells": [
  {
   "cell_type": "markdown",
   "metadata": {},
   "source": [
    "---\n",
    "\n",
    "![Header](img/variables-header.png)\n",
    "\n",
    "---\n",
    "\n",
    "# Variáveis e constantes\n",
    "## Variáveis\n",
    "As variáveis são **locais nomeados** usados para armazenar dados em **memória**. Elas funcionam como *containers* que guardam informações e que podem ser modificadas/atualizadas ao longo da execução do programa.\n",
    "\n",
    "### Atribuindo valores a variáveis\n",
    "\n",
    "Para atribuir, isto é, para salvar um valor em uma variável usamos o operador `=`. A sintaxe utilizada é:\n",
    "\n",
    "```\n",
    "nome_da_variável = valor\n",
    "```\n",
    "\n",
    "> É comum usar nomes curtos para as variáveis.\n",
    "\n",
    "#### Exemplos:"
   ]
  },
  {
   "cell_type": "code",
   "execution_count": null,
   "metadata": {},
   "outputs": [],
   "source": [
    "a = 10\n",
    "print(a)"
   ]
  },
  {
   "cell_type": "code",
   "execution_count": null,
   "metadata": {},
   "outputs": [],
   "source": [
    "b = 'www.ifce.edu.br'\n",
    "print(b)"
   ]
  },
  {
   "cell_type": "markdown",
   "metadata": {},
   "source": [
    "### Atualizando o valor de uma variável"
   ]
  },
  {
   "cell_type": "code",
   "execution_count": null,
   "metadata": {},
   "outputs": [],
   "source": [
    "c = 10\n",
    "print(c)\n",
    "\n",
    "c = 20\n",
    "print(c)"
   ]
  },
  {
   "cell_type": "markdown",
   "metadata": {},
   "source": [
    "### Atribuindo valores a várias variáveis"
   ]
  },
  {
   "cell_type": "code",
   "execution_count": null,
   "metadata": {},
   "outputs": [],
   "source": [
    "# Valore diferentes\n",
    "a, b, c = 3, 1, 4\n",
    "\n",
    "print(a)\n",
    "print(b)\n",
    "print(c)"
   ]
  },
  {
   "cell_type": "code",
   "execution_count": null,
   "metadata": {},
   "outputs": [],
   "source": [
    "# Mesmo valor\n",
    "x = y = z = 'ifce'\n",
    "\n",
    "print(x)\n",
    "print(y)\n",
    "print(z)"
   ]
  },
  {
   "cell_type": "markdown",
   "metadata": {},
   "source": [
    "## Constantes\n",
    "Uma constante é um tipo de variável cujo valor não pode ser alterado.\n",
    "\n",
    "> Em Python, não existe este tipo de elemento constante. Assim, convencionou-se que devemos usar variável com nomes em maísculo.\n",
    "\n",
    "#### Exemplos"
   ]
  },
  {
   "cell_type": "code",
   "execution_count": null,
   "metadata": {},
   "outputs": [],
   "source": [
    "PI = 3.14\n",
    "GRAVITY = 9.8"
   ]
  },
  {
   "cell_type": "markdown",
   "metadata": {},
   "source": [
    "## Regras de nomenclatura\n",
    " 1. Crie nomes que façam sentido para o problema resolvido pela sua aplicação\n",
    " 2. Utilize o padrão PEP:\n",
    "     ```\n",
    "     first_name\n",
    "     last_name\n",
    "     ```\n",
    " 3. Declare constantes com letras maiúsculas:\n",
    "     ```\n",
    "     PI\n",
    "     MASS\n",
    "     TEMP\n",
    "     ```\n",
    " 4. Nunca use símbolos especiais como !, @, #, $, %, etc\n",
    " 5. Não inicie os nomes das variáveis com números\n",
    " 6. Não utilize nenhuma destas palavras como nome de variável:\n",
    "\n",
    "| .|. |. |. |. |\n",
    "|--|--|--|--|--|\n",
    "| and | del | from | None | True | \n",
    "| as | elif | global | nonlocal | try | \t\n",
    "| assert | else | if | not | while | \n",
    "| break | except | import | or | with | \n",
    "| class | False | in | pass | yield | \n",
    "| continue | finaly | is | raise | def | \n",
    "| for | lambda | return | \n",
    "\n",
    "#### Outros valores aceitáveis\n",
    "\n",
    "```\n",
    "_my_variable\n",
    "__my_variable\n",
    "_my_variable_\n",
    "__my_variable__\n",
    "```"
   ]
  },
  {
   "cell_type": "code",
   "execution_count": null,
   "metadata": {},
   "outputs": [],
   "source": [
    "_my_variable = 10"
   ]
  },
  {
   "cell_type": "markdown",
   "metadata": {},
   "source": [
    "## Entrada e saída de valores (básico)\n",
    "\n",
    "Para receber valores digitados pelo usuário da aplicação utilizamos a função `input`, enquanto para exibir os valores das variáveis utilizamos a função `print`."
   ]
  },
  {
   "cell_type": "code",
   "execution_count": null,
   "metadata": {},
   "outputs": [],
   "source": [
    "# Entrada\n",
    "idade = input('Digite a sua idade: ')\n",
    "\n",
    "# Saída\n",
    "print('Sua idade é:', idade, 'anos!')"
   ]
  }
 ],
 "metadata": {
  "kernelspec": {
   "display_name": "Python 3",
   "language": "python",
   "name": "python3"
  },
  "language_info": {
   "codemirror_mode": {
    "name": "ipython",
    "version": 3
   },
   "file_extension": ".py",
   "mimetype": "text/x-python",
   "name": "python",
   "nbconvert_exporter": "python",
   "pygments_lexer": "ipython3",
   "version": "3.8.1"
  }
 },
 "nbformat": 4,
 "nbformat_minor": 2
}
