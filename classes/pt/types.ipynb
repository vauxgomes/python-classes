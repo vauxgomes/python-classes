{
 "cells": [
  {
   "cell_type": "markdown",
   "metadata": {},
   "source": [
    "---\n",
    "\n",
    "![Header](img/types-header.png)\n",
    "\n",
    "---\n",
    "\n",
    "# Tipos básicos\n",
    "\n",
    "Em Python todos os tipos de dados são, na verdade, objetos. Dito de forma simplificada, as variáveis possuem métodos. Estes métodos variam de acordo com o tipo da variável.\n",
    "\n",
    "Os tipos das variáveis são importante para a máquina realizar suas computações. No Python, não é necessário declarar o tipo das variáveis, além disso as variáveis podem trocar de tipos durante a execução do programa. Em muitos aspéctos, isto facilita a programação.\n",
    "\n",
    "Para verificarmos o tipo de uma variável utilizamos a função `type()` do Python.\n",
    "\n",
    "```py\n",
    ">>> a = 10\n",
    ">>> print(type(a))\n",
    "<type, 'int'>\n",
    "```\n",
    "\n",
    "### Sumário\n",
    "\n",
    " - [Tipos numéricos](#Tipos-numéricos)\n",
    "   - [Inteiro](#Inteiro)\n",
    "   - [Ponto flutuante](#Ponto-flutuante)\n",
    "   - [Booleano](#Booleano)\n",
    " - [Tipos não numéricos](#Tipos-não-numéricos)\n",
    "   - [Strings](#Strings)\n",
    "\n",
    "## Tipos numéricos\n",
    "Os tipos numéricos se relacionam com os tipos da teoria dos conjuntos em matemática. Este tipos aceitam:\n",
    "\n",
    " - Adição (+)\n",
    " - Subtração (-)\n",
    " - Multiplicação (*)\n",
    " - Divisão (/, //)\n",
    " - Módulo (%)\n",
    " - Exponenciação (**)\n",
    " \n",
    "Existem relações entre os tipos, assim como na matemática.\n",
    "\n",
    "### Inteiro\n",
    "O inteiros é o conjunto do números que podem ser escritos sem um fracional.\n",
    " \n",
    "> Para converter um tipo numérico ou não numérico para inteiro usamos a função `int()`\n",
    "\n",
    "[← Tipos básicos](#Tipos-básicos)\n",
    " \n",
    " #### Exemplos"
   ]
  },
  {
   "cell_type": "code",
   "execution_count": null,
   "metadata": {
    "scrolled": true
   },
   "outputs": [],
   "source": [
    "# Variáveis\n",
    "a, b = 10, 3"
   ]
  },
  {
   "cell_type": "code",
   "execution_count": null,
   "metadata": {},
   "outputs": [],
   "source": [
    "# Adição\n",
    "print(a + b)"
   ]
  },
  {
   "cell_type": "code",
   "execution_count": null,
   "metadata": {},
   "outputs": [],
   "source": [
    "# Subtração\n",
    "print(a - b)"
   ]
  },
  {
   "cell_type": "code",
   "execution_count": null,
   "metadata": {},
   "outputs": [],
   "source": [
    "# Multiplicação\n",
    "print(a * b)"
   ]
  },
  {
   "cell_type": "code",
   "execution_count": null,
   "metadata": {},
   "outputs": [],
   "source": [
    "# Divisão não necessáriamente inteira\n",
    "print(a / b)"
   ]
  },
  {
   "cell_type": "code",
   "execution_count": null,
   "metadata": {},
   "outputs": [],
   "source": [
    "# Divisão inteira\n",
    "print(a // b)"
   ]
  },
  {
   "cell_type": "code",
   "execution_count": null,
   "metadata": {},
   "outputs": [],
   "source": [
    "# Módulo\n",
    "print(a % 2)\n",
    "print(a % 3)"
   ]
  },
  {
   "cell_type": "code",
   "execution_count": null,
   "metadata": {},
   "outputs": [],
   "source": [
    "# Exponenciação\n",
    "print(a**2)\n",
    "print(a**4)\n",
    "print(2**4)"
   ]
  },
  {
   "cell_type": "markdown",
   "metadata": {},
   "source": [
    "### Ponto flutuante\n",
    "\n",
    "Os valores em ponto flutuante simboloção o conjunto dos reais. Na sua exibição encontramos um `.` dividindo a parte inteira da parte decimal. O número de casas decimais é especificado pela máquina, mas pode ser alterado.\n",
    "\n",
    "> Para converter um tipo numérico ou não numérico para inteiro usamos a função `float()`\n",
    "\n",
    "> A representação de um ponto flutuante pode gastas mais memória.\n",
    "\n",
    "\n",
    "[← Tipos básicos](#Tipos-básicos)\n",
    "\n",
    "#### Exemplos"
   ]
  },
  {
   "cell_type": "code",
   "execution_count": null,
   "metadata": {},
   "outputs": [],
   "source": [
    "# Variáveis\n",
    "c = 5.0"
   ]
  },
  {
   "cell_type": "code",
   "execution_count": null,
   "metadata": {},
   "outputs": [],
   "source": [
    "# Soma\n",
    "print(c + 2)"
   ]
  },
  {
   "cell_type": "code",
   "execution_count": null,
   "metadata": {},
   "outputs": [],
   "source": [
    "# Multiplicação\n",
    "print(c*3)"
   ]
  },
  {
   "cell_type": "markdown",
   "metadata": {},
   "source": [
    "### Boleanos\n",
    "Os booleanos possuem apenas dois valores constantes: `False` (falso); e `True` (verdadeiro). Usamos os booleanos para representar valores da tabela verdade.\n",
    "\n",
    "Os tipos numéricos podem ser convertidos para booleando usando a função `bool()`:\n",
    " - 0 → False\n",
    " - Os demais valores → True\n",
    " \n",
    "[← Tipos básicos](#Tipos-básicos)"
   ]
  },
  {
   "cell_type": "markdown",
   "metadata": {},
   "source": [
    "## Tipos não numéricos\n",
    "### Strings\n",
    "Strings são sequências de caracteres. Um caractere pode ser um número, letras do alfabeto ou outros caracteres especiais como a vírgula.\n",
    "\n",
    "As strings são caracterizadas pelo uso de aspas (simples, duplas ou triplas).\n",
    "\n",
    "Para converter um tipo numérico para string usamos a função `str()`\n",
    "\n",
    "```py\n",
    ">>> a = 3.14\n",
    ">>> str(a)\n",
    "<class, 'str'>\n",
    "```\n",
    "\n",
    "As strings podem ser somadas por meio do operador `+`.\n",
    " \n",
    "[← Tipos básicos](#Tipos-básicos)\n",
    "\n",
    "#### Exemplos"
   ]
  },
  {
   "cell_type": "code",
   "execution_count": null,
   "metadata": {},
   "outputs": [],
   "source": [
    "# Nome de fulano\n",
    "nome = 'Fulano'"
   ]
  },
  {
   "cell_type": "code",
   "execution_count": null,
   "metadata": {},
   "outputs": [],
   "source": [
    "# Comentário em alguma postagem\n",
    "comentario = 'adorei essa sua foto!'"
   ]
  },
  {
   "cell_type": "code",
   "execution_count": null,
   "metadata": {},
   "outputs": [],
   "source": [
    "print(nome + ', ' + comentario)"
   ]
  },
  {
   "cell_type": "markdown",
   "metadata": {},
   "source": [
    "## Exercícios\n",
    "\n",
    "Crie um programa que lê um número e imprime o seu antecessor e o seu sucessor"
   ]
  },
  {
   "cell_type": "code",
   "execution_count": null,
   "metadata": {},
   "outputs": [],
   "source": []
  },
  {
   "cell_type": "markdown",
   "metadata": {},
   "source": [
    "Crie um que pergunta o nome e a idade do usuário"
   ]
  },
  {
   "cell_type": "code",
   "execution_count": null,
   "metadata": {},
   "outputs": [],
   "source": []
  }
 ],
 "metadata": {
  "kernelspec": {
   "display_name": "Python 3",
   "language": "python",
   "name": "python3"
  },
  "language_info": {
   "codemirror_mode": {
    "name": "ipython",
    "version": 3
   },
   "file_extension": ".py",
   "mimetype": "text/x-python",
   "name": "python",
   "nbconvert_exporter": "python",
   "pygments_lexer": "ipython3",
   "version": "3.8.1"
  }
 },
 "nbformat": 4,
 "nbformat_minor": 2
}
