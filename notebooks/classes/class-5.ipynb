{
 "cells": [
  {
   "cell_type": "markdown",
   "metadata": {},
   "source": [
    "# Introduction to loops\n",
    "## The `for` loop\n",
    "\n",
    "A `for` loop is used for iterating over a sequence (that is either a list, a tuple, a dictionary, a set, or a string).\n",
    "\n",
    "This is less like the for keyword in other programming languages, and works more like an iterator method as found in other object-orientated programming languages.\n",
    "\n",
    "With the `for` loop we can execute a set of statements, once for each item in a list, tuple, set etc.\n",
    "\n",
    "```\n",
    "for <variable> in <list, tuple, set, etc>:\n",
    "    <statements>\n",
    "```"
   ]
  },
  {
   "cell_type": "code",
   "execution_count": 44,
   "metadata": {},
   "outputs": [
    {
     "name": "stdout",
     "output_type": "stream",
     "text": [
      "apple\n",
      "banana\n",
      "orange\n"
     ]
    }
   ],
   "source": [
    "fruits = ['apple', 'banana', 'orange']\n",
    "\n",
    "for x in fruits:\n",
    "    print(x)"
   ]
  },
  {
   "cell_type": "markdown",
   "metadata": {},
   "source": [
    "#### Looping through a string"
   ]
  },
  {
   "cell_type": "code",
   "execution_count": 46,
   "metadata": {},
   "outputs": [
    {
     "name": "stdout",
     "output_type": "stream",
     "text": [
      "a\n",
      "p\n",
      "p\n",
      "l\n",
      "e\n"
     ]
    }
   ],
   "source": [
    "for x in 'apple':\n",
    "    print(x)"
   ]
  },
  {
   "cell_type": "markdown",
   "metadata": {},
   "source": [
    "### The `range()` function\n",
    "\n",
    "To loop through a set of code a specified number of times, we can use the `range()` function,\n",
    "\n",
    "The `range()` function returns a sequence of numbers, starting from 0 by default, and increments by 1 (by default), and ends at a specified number."
   ]
  },
  {
   "cell_type": "code",
   "execution_count": 36,
   "metadata": {},
   "outputs": [
    {
     "name": "stdout",
     "output_type": "stream",
     "text": [
      "0\n",
      "1\n",
      "2\n",
      "3\n",
      "4\n",
      "5\n"
     ]
    }
   ],
   "source": [
    "for x in range(6):\n",
    "    print(x)"
   ]
  },
  {
   "cell_type": "code",
   "execution_count": 42,
   "metadata": {},
   "outputs": [
    {
     "name": "stdout",
     "output_type": "stream",
     "text": [
      "3\n",
      "4\n",
      "5\n"
     ]
    }
   ],
   "source": [
    "for x in range(3, 6):\n",
    "    print(x)"
   ]
  },
  {
   "cell_type": "code",
   "execution_count": 41,
   "metadata": {},
   "outputs": [
    {
     "name": "stdout",
     "output_type": "stream",
     "text": [
      "2\n",
      "5\n",
      "8\n"
     ]
    }
   ],
   "source": [
    "for x in range(2, 10, 3):\n",
    "    print(x)"
   ]
  },
  {
   "cell_type": "markdown",
   "metadata": {},
   "source": [
    "#### Looping through a list indirectly "
   ]
  },
  {
   "cell_type": "code",
   "execution_count": 39,
   "metadata": {},
   "outputs": [
    {
     "name": "stdout",
     "output_type": "stream",
     "text": [
      "0 IFCE\n",
      "1 Jaguaribe\n",
      "2 Logic\n",
      "3 Python\n"
     ]
    }
   ],
   "source": [
    "arr = ['IFCE', 'Jaguaribe', 'Logic', 'Python']\n",
    "\n",
    "for i in range(len(arr)):\n",
    "    print(i, arr[i])"
   ]
  },
  {
   "cell_type": "markdown",
   "metadata": {},
   "source": [
    "### Nested loops"
   ]
  },
  {
   "cell_type": "code",
   "execution_count": 43,
   "metadata": {},
   "outputs": [
    {
     "name": "stdout",
     "output_type": "stream",
     "text": [
      "yellow apple\n",
      "yellow banana\n",
      "yellow orange\n",
      "green apple\n",
      "green banana\n",
      "green orange\n"
     ]
    }
   ],
   "source": [
    "colors = ['yellow', 'green']\n",
    "fruits = ['apple', 'banana', 'orange']\n",
    "\n",
    "for x in colors:\n",
    "    for y in fruits:\n",
    "        print(x, y)"
   ]
  },
  {
   "cell_type": "markdown",
   "metadata": {},
   "source": [
    "#### Building a matrix"
   ]
  },
  {
   "cell_type": "code",
   "execution_count": 8,
   "metadata": {},
   "outputs": [
    {
     "name": "stdout",
     "output_type": "stream",
     "text": [
      "[[0, 1, 2, 3], [-1, 0, 1, 2], [-2, -1, 0, 1]]\n"
     ]
    }
   ],
   "source": [
    "m, n = 3, 4\n",
    "matrix = []\n",
    "\n",
    "for i in range(m):\n",
    "    aux = []\n",
    "    \n",
    "    for j in range(n):\n",
    "        aux.append(-i + j)\n",
    "                \n",
    "    matrix.append(aux)\n",
    "    \n",
    "print(matrix)"
   ]
  },
  {
   "cell_type": "markdown",
   "metadata": {},
   "source": [
    "### The `continue` statement\n",
    "\n",
    "With the `continue` statement we can stop the current iteration of the loop, and continue with the next:"
   ]
  },
  {
   "cell_type": "code",
   "execution_count": 47,
   "metadata": {},
   "outputs": [
    {
     "name": "stdout",
     "output_type": "stream",
     "text": [
      "apple\n",
      "orange\n"
     ]
    }
   ],
   "source": [
    "fruits = [\"apple\", \"banana\", \"orange\"]\n",
    "for x in fruits:\n",
    "    if x == \"banana\":\n",
    "        continue\n",
    "    \n",
    "    print(x)"
   ]
  },
  {
   "cell_type": "markdown",
   "metadata": {},
   "source": [
    "### The `break` Statement\n",
    "With the `break` statement we can stop the loop before it has looped through all the items:"
   ]
  },
  {
   "cell_type": "code",
   "execution_count": 48,
   "metadata": {},
   "outputs": [
    {
     "name": "stdout",
     "output_type": "stream",
     "text": [
      "apple\n",
      "banana\n"
     ]
    }
   ],
   "source": [
    "fruits = [\"apple\", \"banana\", \"orange\"]\n",
    "for x in fruits:\n",
    "    print(x)\n",
    "    \n",
    "    if x == \"banana\":\n",
    "        break"
   ]
  },
  {
   "cell_type": "markdown",
   "metadata": {},
   "source": [
    "### The `else` in `for` Loop\n",
    "The `else` keyword in a for loop specifies a block of code to be executed when the loop is finished:"
   ]
  },
  {
   "cell_type": "code",
   "execution_count": 52,
   "metadata": {
    "scrolled": true
   },
   "outputs": [
    {
     "name": "stdout",
     "output_type": "stream",
     "text": [
      "0\n",
      "1\n",
      "2\n",
      "The end\n"
     ]
    }
   ],
   "source": [
    "for x in range(3):\n",
    "    print(x)\n",
    "else:\n",
    "    print(\"The end\")"
   ]
  },
  {
   "cell_type": "code",
   "execution_count": 53,
   "metadata": {},
   "outputs": [
    {
     "name": "stdout",
     "output_type": "stream",
     "text": [
      "The end\n"
     ]
    }
   ],
   "source": [
    "for x in range(0):\n",
    "    print(x)\n",
    "else:\n",
    "    print(\"The end\")"
   ]
  },
  {
   "cell_type": "markdown",
   "metadata": {},
   "source": [
    "# Exercices (Portuguese)\n",
    "\n",
    "### Usando `for`\n",
    "\n",
    "1. Escreva um programa em python que faz a soma dos números em uma lista.\n",
    "```py\n",
    "[3, 14, 15, 926, 5, 359]\n",
    "```\n",
    "2. Escreva um programa que encontra a posição do maior número em uma lista. `Exemplo usando a lista acima`:\n",
    "```\n",
    "    O maior valor é: 926\n",
    "    O maior valor está na posição: 3\n",
    "```\n",
    "3. Escreva um programa que lê uma lista e imprime a soma de todos os valores impares e a soma de todos os valores pares. `Exemplo usando a lista acima`:\n",
    "```\n",
    "    Soma dos ímpares: 382\n",
    "    Soma dos pares: 940\n",
    "```\n",
    "4. Escreva um programa que preenche uma lista de tamanho determinado pelo usuário e imprima a soma dos valores no final. Exemplo:\n",
    "```\n",
    "    Digite o tamanho da lista: 3\n",
    "    1. Digite um valor: 3\n",
    "    2. Digite um valor: 14\n",
    "    3. Digite um valor: 15\n",
    "    Soma: 32\n",
    "```\n",
    "5. Escreva um programa que imprime os valores de uma lista até que encontre um valor maior que 50. Utilize a lista acima."
   ]
  },
  {
   "cell_type": "markdown",
   "metadata": {},
   "source": [
    "---\n",
    "## The `while` loop\n",
    "\n",
    "With the `while` loop we can execute a set of statements as long as an expression is true.\n",
    "\n",
    "```\n",
    "while <expression, condition>:\n",
    "    <statements>\n",
    "```\n",
    "\n",
    "#### Exemple\n",
    "Print i as long as i is less than 6:"
   ]
  },
  {
   "cell_type": "code",
   "execution_count": 4,
   "metadata": {},
   "outputs": [
    {
     "name": "stdout",
     "output_type": "stream",
     "text": [
      "0\n",
      "1\n",
      "2\n",
      "3\n",
      "4\n",
      "5\n"
     ]
    }
   ],
   "source": [
    "i = 0\n",
    "\n",
    "while i < 6:\n",
    "    print(i)\n",
    "    i += 1"
   ]
  },
  {
   "cell_type": "markdown",
   "metadata": {},
   "source": [
    "The `while` loop requires relevant variables to be ready, in this example we need to define an indexing variable, i, which we set to 1.\n",
    "\n",
    "#### Example\n",
    "Input and print i as long as i is different of 10:"
   ]
  },
  {
   "cell_type": "code",
   "execution_count": 2,
   "metadata": {},
   "outputs": [
    {
     "name": "stdout",
     "output_type": "stream",
     "text": [
      "i: 6\n",
      "> 6\n",
      "i: 19\n",
      "> 19\n",
      "i: 10\n",
      "The End\n"
     ]
    }
   ],
   "source": [
    "i = int(input('i: '))\n",
    "\n",
    "while i != 10:\n",
    "    print(\">\", i)\n",
    "    i = int(input('i: '))\n",
    "    \n",
    "print('The End')"
   ]
  },
  {
   "cell_type": "markdown",
   "metadata": {},
   "source": [
    "#### Example\n",
    "Input and print i as long as i is different of exit:"
   ]
  },
  {
   "cell_type": "code",
   "execution_count": 3,
   "metadata": {},
   "outputs": [
    {
     "name": "stdout",
     "output_type": "stream",
     "text": [
      "i: hi\n",
      "> hi\n",
      "i: hello\n",
      "> hello\n",
      "i: exit\n",
      "The End\n"
     ]
    }
   ],
   "source": [
    "i = input('i: ')\n",
    "\n",
    "while i != 'exit':\n",
    "    print(\">\", i)\n",
    "    i = input('i: ')\n",
    "    \n",
    "print('The End')"
   ]
  },
  {
   "cell_type": "markdown",
   "metadata": {},
   "source": [
    "### The `break` statement"
   ]
  },
  {
   "cell_type": "code",
   "execution_count": 5,
   "metadata": {},
   "outputs": [
    {
     "name": "stdout",
     "output_type": "stream",
     "text": [
      "1\n",
      "2\n",
      "3\n"
     ]
    }
   ],
   "source": [
    "i = 1\n",
    "while i < 6:\n",
    "    print(i)\n",
    "    \n",
    "    if i == 3:\n",
    "        break\n",
    "    \n",
    "    i += 1"
   ]
  },
  {
   "cell_type": "markdown",
   "metadata": {},
   "source": [
    "### The `continue` statement"
   ]
  },
  {
   "cell_type": "code",
   "execution_count": 6,
   "metadata": {},
   "outputs": [
    {
     "name": "stdout",
     "output_type": "stream",
     "text": [
      "1\n",
      "2\n",
      "4\n",
      "5\n",
      "6\n"
     ]
    }
   ],
   "source": [
    "i = 0\n",
    "while i < 6:\n",
    "    i += 1\n",
    "    \n",
    "    if i == 3:\n",
    "        continue\n",
    "    \n",
    "    print(i)"
   ]
  },
  {
   "cell_type": "markdown",
   "metadata": {},
   "source": [
    "### The `else` in `while` Loop"
   ]
  },
  {
   "cell_type": "code",
   "execution_count": 7,
   "metadata": {},
   "outputs": [
    {
     "name": "stdout",
     "output_type": "stream",
     "text": [
      "1\n",
      "2\n",
      "3\n",
      "4\n",
      "5\n",
      "The End\n"
     ]
    }
   ],
   "source": [
    "i = 1\n",
    "while i < 6:\n",
    "    print(i)\n",
    "    i += 1\n",
    "else:\n",
    "    print(\"The End\")"
   ]
  },
  {
   "cell_type": "markdown",
   "metadata": {},
   "source": [
    "# Exercices (Portuguese)\n",
    "\n",
    "### Usando `while`\n",
    "\n",
    "1. Escreva um programa em python que faz a soma dos números em uma lista.\n",
    "```py\n",
    "[3, 14, 15, 926, 5, 359]\n",
    "```\n",
    "\n",
    "2. Escreva um programa que lê uma lista e imprime a soma de todos os valores impares e a soma de todos os valores pares. `Exemplo usando a lista acima`:\n",
    "```\n",
    "    Soma dos ímpares: 382\n",
    "    Soma dos pares: 940\n",
    "```\n",
    "\n",
    "3. Escreva um programa que recebe números de um usuário até que ele acerte o número secreto. Exemplo (número secreto = 50):\n",
    "\n",
    "```\n",
    "Digite o número secreto: 10\n",
    "Errou! O número secreto é MAIOR.\n",
    "Digite o número secreto: 100\n",
    "Errou! O número secreto é MENOR.\n",
    "Digite o número secreto: 50\n",
    "Assertou!\n",
    "Fim de jogo.\n",
    "```\n",
    "\n",
    "4. Modifique o código da questão anterior para que o usuário possa sair a qualquer momento digitando `sair`. Exemplo (número secreto = 50):\n",
    "\n",
    "```\n",
    "Digite o número secreto: 10\n",
    "Errou! O número secreto é MAIOR.\n",
    "Digite o número secreto: 100\n",
    "Errou! O número secreto é MENOR.\n",
    "Digite o número secreto: sair\n",
    "Fim de jogo.\n",
    "```\n"
   ]
  }
 ],
 "metadata": {
  "kernelspec": {
   "display_name": "Python 3",
   "language": "python",
   "name": "python3"
  },
  "language_info": {
   "codemirror_mode": {
    "name": "ipython",
    "version": 3
   },
   "file_extension": ".py",
   "mimetype": "text/x-python",
   "name": "python",
   "nbconvert_exporter": "python",
   "pygments_lexer": "ipython3",
   "version": "3.6.7"
  }
 },
 "nbformat": 4,
 "nbformat_minor": 2
}
