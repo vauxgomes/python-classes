{
 "cells": [
  {
   "cell_type": "markdown",
   "metadata": {},
   "source": [
    "# BeautifulSoup\n",
    "Beautiful Soup is a Python library for pulling data out of HTML and XML files. It works with your favorite parser to provide idiomatic ways of navigating, searching, and modifying the parse tree. It commonly saves programmers hours or days of work.\n",
    "\n",
    "```sh\n",
    "$ python -m pip install beautifulsoup4\n",
    "```"
   ]
  },
  {
   "cell_type": "code",
   "execution_count": 9,
   "metadata": {},
   "outputs": [
    {
     "name": "stdout",
     "output_type": "stream",
     "text": [
      "200\n",
      "https://busca.magazineluiza.com.br/busca?q=bicicleta\n",
      "Bicicleta  de metal - Btc decor 153.48 https://www.magazineluiza.com.br/bicicleta-de-metal-btc-decor/p/kbc1f9d3h0/es/elbk\n",
      "Bike Bag Bottle - Deuter 168.9 https://www.magazineluiza.com.br/bike-bag-bottle-deuter/p/he0hdgf5ea/es/elbk\n",
      "Bicicleta Aro 26 18 marchas Status Lenda - Status bike 355.0 https://www.magazineluiza.com.br/bicicleta-aro-26-18-marchas-status-lenda-status-bike/p/gb23f9cjbg/es/elbk\n"
     ]
    }
   ],
   "source": [
    "# Imports\n",
    "from bs4 import BeautifulSoup\n",
    "import requests\n",
    "import json\n",
    "\n",
    "# Variables\n",
    "baseURL = 'https://www.magazineluiza.com.br/'\n",
    "searchURL = 'https://busca.magazineluiza.com.br/busca'\n",
    "data = {'q': 'bicicleta'}\n",
    "\n",
    "r = requests.get(searchURL, params=data)\n",
    "\n",
    "print(r.status_code)\n",
    "print(r.url)\n",
    "\n",
    "# Safety\n",
    "if r.status_code != 200:\n",
    "    exit()\n",
    "    \n",
    "soup = BeautifulSoup(r.text)\n",
    "\n",
    "# Finding products\n",
    "ul = soup.find('ul', {'class': 'neemu-products-container'})\n",
    "prods = ul.findAll('li', {'class': 'nm-product-item'})\n",
    "\n",
    "# Listing\n",
    "l = []\n",
    "for p in prods:\n",
    "    prod_info = json.loads(p.a['data-product'])   \n",
    "    prod_info['name'] = p.a['alt']\n",
    "    prod_info['price'] = float(prod_info['price'])\n",
    "    \n",
    "    l.append(prod_info)\n",
    "\n",
    "l.sort(key = lambda x: x['price'])\n",
    "\n",
    "for i in l[:5]:\n",
    "    print(i['name'], i['price'], baseURL + i['title_url'] + '/p/' + i['product'] + '/es/elbk')"
   ]
  }
 ],
 "metadata": {
  "kernelspec": {
   "display_name": "Python 3",
   "language": "python",
   "name": "python3"
  },
  "language_info": {
   "codemirror_mode": {
    "name": "ipython",
    "version": 3
   },
   "file_extension": ".py",
   "mimetype": "text/x-python",
   "name": "python",
   "nbconvert_exporter": "python",
   "pygments_lexer": "ipython3",
   "version": "3.6.7"
  }
 },
 "nbformat": 4,
 "nbformat_minor": 2
}
