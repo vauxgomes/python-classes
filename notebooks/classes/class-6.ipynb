{
 "cells": [
  {
   "cell_type": "markdown",
   "metadata": {},
   "source": [
    "# Python Functions\n",
    "\n",
    "Function is a block of code which only runs when it is called.\n",
    "\n",
    "A function can:\n",
    " - Receive data (known as arguments/parameters)\n",
    " - Return data as a result of a computation\n",
    "\n",
    "## User-defined functions\n",
    "\n",
    "To create a function python uses the reserved word `def`\n",
    "\n",
    "```\n",
    "def my_function():\n",
    "    <statements>\n",
    "```"
   ]
  },
  {
   "cell_type": "code",
   "execution_count": 1,
   "metadata": {},
   "outputs": [],
   "source": [
    "def my_function():\n",
    "    print('This is my function') # Automatic 4 space identation (or a tab)\n",
    "    print('This is the last line of my function')"
   ]
  },
  {
   "cell_type": "markdown",
   "metadata": {},
   "source": [
    "### Calling functions"
   ]
  },
  {
   "cell_type": "code",
   "execution_count": 2,
   "metadata": {
    "scrolled": true
   },
   "outputs": [
    {
     "name": "stdout",
     "output_type": "stream",
     "text": [
      "This is my function\n",
      "This is the last line of my function\n"
     ]
    }
   ],
   "source": [
    "my_function()"
   ]
  },
  {
   "cell_type": "markdown",
   "metadata": {},
   "source": [
    "### Argumets of functions (parameters)\n",
    "Using arguments for function we can write more dynamic code. Arguments are declared within parenthesis as follows:\n",
    "```py\n",
    "    def my_function(arg1, arg2)\n",
    "        pass\n",
    "```\n",
    "\n",
    "> As python doesn't need to declare the type of a variable, arguments doesn't require any type declaration as well."
   ]
  },
  {
   "cell_type": "code",
   "execution_count": 3,
   "metadata": {},
   "outputs": [
    {
     "name": "stdout",
     "output_type": "stream",
     "text": [
      "This is my first argument\n",
      "This is my second argument\n"
     ]
    }
   ],
   "source": [
    "# Definition\n",
    "def my_function(arg1, arg2):\n",
    "    print(arg1)\n",
    "    print(arg2)\n",
    "    \n",
    "# Call\n",
    "my_function('This is my first argument', 'This is my second argument')"
   ]
  },
  {
   "cell_type": "code",
   "execution_count": 4,
   "metadata": {},
   "outputs": [
    {
     "name": "stdout",
     "output_type": "stream",
     "text": [
      "10\n",
      "10\n"
     ]
    }
   ],
   "source": [
    "my_function(10, '10')"
   ]
  },
  {
   "cell_type": "markdown",
   "metadata": {},
   "source": [
    "Besides the weekly typed language style, some rules has to be followed. For example, we still can't sum strings and numbers."
   ]
  },
  {
   "cell_type": "code",
   "execution_count": 5,
   "metadata": {},
   "outputs": [],
   "source": [
    "# Definition\n",
    "def presentation(name, age):\n",
    "    print('Hi, my name is ' + name + ' and my age is ' + age)"
   ]
  },
  {
   "cell_type": "code",
   "execution_count": 6,
   "metadata": {},
   "outputs": [
    {
     "name": "stdout",
     "output_type": "stream",
     "text": [
      "Hi, my name is Alice and my age is 22\n"
     ]
    }
   ],
   "source": [
    "# Call\n",
    "#presentation('Bob', 27) # wrong\n",
    "presentation('Alice', '22') # correct"
   ]
  },
  {
   "cell_type": "code",
   "execution_count": 7,
   "metadata": {
    "scrolled": true
   },
   "outputs": [
    {
     "name": "stdout",
     "output_type": "stream",
     "text": [
      "Hi, my name is Bob and my age is 27\n"
     ]
    }
   ],
   "source": [
    "# Redefinition\n",
    "def presentation(name, age):\n",
    "    print('Hi, my name is', name, 'and my age is',  age)\n",
    "\n",
    "# Call \n",
    "presentation('Bob', 27) # Correct"
   ]
  },
  {
   "cell_type": "markdown",
   "metadata": {},
   "source": [
    "### Default arguments\n",
    "It is a way of simplifying our callings to functions by having pre-set values to some (or all) arguments. These pre-set values will be used when the programmer does't pass a value. In other words, by passing a value in the parameter, the passed value it will have priority over the default value of an argument."
   ]
  },
  {
   "cell_type": "code",
   "execution_count": 8,
   "metadata": {},
   "outputs": [
    {
     "name": "stdout",
     "output_type": "stream",
     "text": [
      "Hi, my name is Someone and my age is Unknown\n",
      "Hi, my name is Bob and my age is Unknown\n",
      "Hi, my name is Bob and my age is 27\n"
     ]
    }
   ],
   "source": [
    "# Definition\n",
    "def presentation(name = 'Someone', age = 'Unknown'):\n",
    "    print('Hi, my name is', name, 'and my age is',  age)\n",
    "\n",
    "# Call \n",
    "presentation()\n",
    "presentation('Bob')\n",
    "presentation('Bob', 27)"
   ]
  },
  {
   "cell_type": "markdown",
   "metadata": {},
   "source": [
    "### Return value\n",
    "\n",
    "To let functions return data, we use the `return` keyword"
   ]
  },
  {
   "cell_type": "code",
   "execution_count": 9,
   "metadata": {},
   "outputs": [],
   "source": [
    "def times_five(x):\n",
    "    return 5 * x"
   ]
  },
  {
   "cell_type": "code",
   "execution_count": 10,
   "metadata": {},
   "outputs": [
    {
     "name": "stdout",
     "output_type": "stream",
     "text": [
      "10\n",
      "50\n"
     ]
    }
   ],
   "source": [
    "print(times_five(2))\n",
    "print(times_five(10))"
   ]
  },
  {
   "cell_type": "markdown",
   "metadata": {},
   "source": [
    "### Keyword arguments\n",
    "It is a way of specifying the value of an argument. As a result we could pass the values out of order or use it in conjunction with the default values to specifically set just a few values of arguments."
   ]
  },
  {
   "cell_type": "code",
   "execution_count": 11,
   "metadata": {
    "scrolled": true
   },
   "outputs": [
    {
     "name": "stdout",
     "output_type": "stream",
     "text": [
      "Hi, my name is 27 and my age is Unknown\n",
      "Hi, my name is Someone and my age is 27\n",
      "Hi, my name is Bob and my age is 27\n"
     ]
    }
   ],
   "source": [
    "# Definition\n",
    "def presentation(name = 'Someone', age = 'Unknown'):\n",
    "    print('Hi, my name is', name, 'and my age is',  age)\n",
    "\n",
    "# Call \n",
    "presentation(27) # without keyword argument\n",
    "presentation(age = 27)\n",
    "presentation(age = 27, name = 'Bob')"
   ]
  },
  {
   "cell_type": "markdown",
   "metadata": {},
   "source": [
    "# Exercices (Portuguese)\n",
    "\n",
    "1. `max_de_tres` Escreva uma função que recebe três valores e retorna o maior dos três valores."
   ]
  },
  {
   "cell_type": "markdown",
   "metadata": {},
   "source": [
    "2. `soma_lista` Escreva uma função que recebe uma lista de valores e imprime a soma de todos os valores da lista"
   ]
  },
  {
   "cell_type": "markdown",
   "metadata": {},
   "source": [
    "3. `is_impar` Escreva uma função que recebe um valor inteiro e retorna `True` se o valor for impar, caso contrário retorna `False`"
   ]
  },
  {
   "cell_type": "markdown",
   "metadata": {},
   "source": [
    "4. `is_impar_float` Escreva uma função que recebe um valor float, converte para inteiro e retorna o resultado da função `is_impar`"
   ]
  },
  {
   "cell_type": "markdown",
   "metadata": {},
   "source": [
    "5. `fatorial` Escreva uma função que recebe um inteiro positivo e retorna o seu fatorial. Lembrando que:\n",
    " - !0 = 1\n",
    " - !1 = 1\n",
    " - !2 = 2$\\cdot$1 = 2\n",
    " - !3 = 3$\\cdot$2$\\cdot$1 = 6"
   ]
  },
  {
   "cell_type": "markdown",
   "metadata": {},
   "source": [
    "6. `print_vertical` Escreva uma função que recebe uma string e imprime cada letra em uma linha"
   ]
  },
  {
   "cell_type": "markdown",
   "metadata": {},
   "source": [
    "7. `print_vertical_n` Escreva uma função que recebe uma string e um valor $n$ e escreve $n$ letras por linha. Exemplo:\n",
    "\n",
    "```py\n",
    "# Chamada\n",
    "print_vertical_n('John Snow', 3)\n",
    "\n",
    "# Saída\n",
    "Joh\n",
    "n S\n",
    "now\n",
    "```"
   ]
  },
  {
   "cell_type": "markdown",
   "metadata": {},
   "source": [
    "--------\n",
    "# Built-in functions\n",
    " - `print`, `str`, `int`, `float`, `bool`\n",
    " - `len`: arrays, strings\n",
    " - `sorted`"
   ]
  },
  {
   "cell_type": "markdown",
   "metadata": {},
   "source": [
    "#### `len`\n",
    "Length of arrays, dictionaries, strings, etc"
   ]
  },
  {
   "cell_type": "code",
   "execution_count": 12,
   "metadata": {},
   "outputs": [
    {
     "data": {
      "text/plain": [
       "7"
      ]
     },
     "execution_count": 12,
     "metadata": {},
     "output_type": "execute_result"
    }
   ],
   "source": [
    "len([3, 1, 4, 1, 5, 9, 2])"
   ]
  },
  {
   "cell_type": "code",
   "execution_count": 13,
   "metadata": {},
   "outputs": [
    {
     "data": {
      "text/plain": [
       "9"
      ]
     },
     "execution_count": 13,
     "metadata": {},
     "output_type": "execute_result"
    }
   ],
   "source": [
    "len('H e l l o')"
   ]
  },
  {
   "cell_type": "markdown",
   "metadata": {},
   "source": [
    "#### `sorted`\n",
    "Sort arrays of the same type"
   ]
  },
  {
   "cell_type": "code",
   "execution_count": 14,
   "metadata": {},
   "outputs": [
    {
     "data": {
      "text/plain": [
       "[1, 1, 2, 3, 4, 5, 9]"
      ]
     },
     "execution_count": 14,
     "metadata": {},
     "output_type": "execute_result"
    }
   ],
   "source": [
    "sorted([3, 1, 4, 1, 5, 9, 2])"
   ]
  },
  {
   "cell_type": "code",
   "execution_count": 15,
   "metadata": {},
   "outputs": [
    {
     "data": {
      "text/plain": [
       "['P', 'h', 'o', 't', 'y']"
      ]
     },
     "execution_count": 15,
     "metadata": {},
     "output_type": "execute_result"
    }
   ],
   "source": [
    "sorted(['P', 'y', 't', 'h', 'o'])"
   ]
  },
  {
   "cell_type": "code",
   "execution_count": 16,
   "metadata": {},
   "outputs": [
    {
     "data": {
      "text/plain": [
       "['0', '0.3', '0.5', '1', 'A', 'A1', 'a']"
      ]
     },
     "execution_count": 16,
     "metadata": {},
     "output_type": "execute_result"
    }
   ],
   "source": [
    "sorted(['a', 'A', 'A1', '1', '0', '0.5', '0.3'])"
   ]
  },
  {
   "cell_type": "markdown",
   "metadata": {},
   "source": [
    "**Note:** The following statement will yield an error because of mixed types:\n",
    "```py\n",
    "    sorted([1, 2, 3, '1', '2', '3'])\n",
    "```"
   ]
  },
  {
   "cell_type": "code",
   "execution_count": 17,
   "metadata": {},
   "outputs": [
    {
     "ename": "TypeError",
     "evalue": "'<' not supported between instances of 'str' and 'int'",
     "output_type": "error",
     "traceback": [
      "\u001b[0;31m---------------------------------------------------------------------------\u001b[0m",
      "\u001b[0;31mTypeError\u001b[0m                                 Traceback (most recent call last)",
      "\u001b[0;32m<ipython-input-17-b2d3a2660308>\u001b[0m in \u001b[0;36m<module>\u001b[0;34m()\u001b[0m\n\u001b[0;32m----> 1\u001b[0;31m \u001b[0msorted\u001b[0m\u001b[0;34m(\u001b[0m\u001b[0;34m[\u001b[0m\u001b[0;36m1\u001b[0m\u001b[0;34m,\u001b[0m \u001b[0;36m2\u001b[0m\u001b[0;34m,\u001b[0m \u001b[0;36m3\u001b[0m\u001b[0;34m,\u001b[0m \u001b[0;34m'1'\u001b[0m\u001b[0;34m,\u001b[0m \u001b[0;34m'2'\u001b[0m\u001b[0;34m,\u001b[0m \u001b[0;34m'3'\u001b[0m\u001b[0;34m]\u001b[0m\u001b[0;34m)\u001b[0m \u001b[0;31m# TypeError\u001b[0m\u001b[0;34m\u001b[0m\u001b[0;34m\u001b[0m\u001b[0m\n\u001b[0m",
      "\u001b[0;31mTypeError\u001b[0m: '<' not supported between instances of 'str' and 'int'"
     ]
    }
   ],
   "source": [
    "sorted([1, 2, 3, '1', '2', '3']) # TypeError"
   ]
  },
  {
   "cell_type": "markdown",
   "metadata": {},
   "source": [
    "<table>\n",
    "\t<thead>\n",
    "\t\t<tr><th colspan=5 class='h4 float'>Built-in functions</th></tr>\n",
    "\t</thead>\n",
    "\t<tbody>\n",
    "\t\t<tr><td>abs()</td><td>delattr()</td><td>hash()</td><td>memoryview()</td><td> set()</td></tr>\n",
    "\t\t<tr><td>all()</td><td>dict()</td><td>help()</td><td>min()</td><td> setattr()</td></tr>\n",
    "\t\t<tr><td>any()</td><td>dir()</td><td>hex()</td><td>next()</td><td> slice()</td></tr>\n",
    "\t\t<tr><td>ascii()</td><td>divmod()</td><td>id()</td><td>object()</td><td> sorted()</td></tr>\n",
    "\t\t<tr><td>bin()</td><td>enumerate()</td><td>input()</td><td>oct()</td><td> staticmethod()</td></tr>\n",
    "\t\t<tr><td>bool()</td><td>eval()</td><td>int()</td><td>open()</td><td> str()</td></tr>\n",
    "\t\t<tr><td>breakpoint()</td><td>exec()</td><td>isinstance()</td><td>ord()</td><td> sum()</td></tr>\n",
    "\t\t<tr><td>bytearray()</td><td>filter()</td><td>issubclass()</td><td>pow()</td><td> super()</td></tr>\n",
    "\t\t<tr><td>bytes()</td><td>float()</td><td>iter()</td><td>print()</td><td> tuple()</td></tr>\n",
    "\t\t<tr><td>callable()</td><td>format()</td><td>len()</td><td>property()</td><td> type()</td></tr>\n",
    "\t\t<tr><td>chr()</td><td>frozenset()</td><td>list()</td><td>range()</td><td> vars()</td></tr>\n",
    "\t\t<tr><td>classmethod()</td><td>getattr()</td><td>locals()</td><td>repr()</td><td> zip()</td></tr>\n",
    "\t\t<tr><td>compile()</td><td>globals()</td><td>map()</td><td>reversed()</td><td> __import__()</td></tr>\n",
    "\t\t<tr><td>complex()</td><td>hasattr()</td><td>max()</td><td>round()</td><td></td></tr>\n",
    "\t</tbody>\n",
    "</table>"
   ]
  }
 ],
 "metadata": {
  "kernelspec": {
   "display_name": "Python 3",
   "language": "python",
   "name": "python3"
  },
  "language_info": {
   "codemirror_mode": {
    "name": "ipython",
    "version": 3
   },
   "file_extension": ".py",
   "mimetype": "text/x-python",
   "name": "python",
   "nbconvert_exporter": "python",
   "pygments_lexer": "ipython3",
   "version": "3.7.5rc1"
  }
 },
 "nbformat": 4,
 "nbformat_minor": 2
}
