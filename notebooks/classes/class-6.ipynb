{
 "cells": [
  {
   "cell_type": "markdown",
   "metadata": {},
   "source": [
    "# Package Installer `pip`\n",
    "Pip is the package installer for Python. It come pre-installed with Python 3. If not, one can install using this tutorial: https://pip.pypa.io/en/stable/installing/\n",
    "\n",
    "## Usage\n",
    "In order to call `pip` the user could procede as follows:\n",
    "\n",
    "```sh\n",
    "# Using pip command\n",
    "$ pip <command> [options]\n",
    "\n",
    "# Calling pip with python\n",
    "$ python -m pip <command> [options]\n",
    "```\n",
    "\n",
    "For instance, I prefer the second option.\n",
    "\n",
    "## Installing a package\n",
    "I onder to install packages using pip we use the command `install` as can be seen bellow:\n",
    "\n",
    "```sh\n",
    "$ python -m pip install <package>\n",
    "```\n",
    "\n",
    "**Examples:**\n",
    "```sh\n",
    "# Installing numpy\n",
    "$ python -m pip install numpy\n",
    "\n",
    "# Installing and/or upgrading numpy\n",
    "$ python -m pip install numpy -U\n",
    "```\n",
    "\n",
    "**For more options type:**\n",
    "```sh\n",
    "$ python -m pip install --help\n",
    "```\n",
    "\n",
    "## Uninstall a package\n",
    "Use the command `uninstall` to remove a package.\n",
    "\n",
    "```sh\n",
    "$ python -m pip uninstall [options] <package>\n",
    "$ python -m pip uninstall [options] -r <requirements file>\n",
    "```\n",
    "\n",
    "**Examples:**\n",
    "```sh\n",
    "$ python -m pip uninstall numpy\n",
    "```\n",
    "\n",
    "**For more options type:**\n",
    "```sh\n",
    "$ python -m pip uninstall --help\n",
    "```\n",
    "\n",
    "## Listing installed packages\n",
    "\n",
    "```sh\n",
    "$ python -m pip list [options]\n",
    "```\n",
    "\n",
    "**Examples:**\n",
    "```sh\n",
    "$ python -m pip list\n",
    "```\n",
    "\n",
    "**For more options type:**\n",
    "```sh\n",
    "$ python -m pip list --help\n",
    "```\n",
    "\n",
    "## Other commands\n",
    "\n",
    "Commands:\n",
    " - `install`: Install packages.\n",
    " - `download`: Download packages.\n",
    " - `uninstall`: Uninstall packages.\n",
    " - `freeze`: Output installed packages in requirements format.\n",
    " - `list`: List installed packages.\n",
    " - `show`: Show information about installed packages.\n",
    " - `check`: Verify installed packages have compatible dependencies.\n",
    " - `config`: Manage local and global configuration.\n",
    " - `search`: Search PyPI for packages.\n",
    " - `wheel`: Build wheels from your requirements.\n",
    " - `hash`: Compute hashes of package archives.\n",
    " - `completion`: A helper command used for command completion.\n",
    " - `help`: Show help for commands."
   ]
  },
  {
   "cell_type": "markdown",
   "metadata": {},
   "source": [
    "# Virtual environment\n",
    "At its core, the main purpose of Python virtual environments is to **create an isolated environment for Python projects**. This means that **each project can have its own dependencies**, regardless of what dependencies every other project has.\n",
    "\n",
    "In case you're not using Python 3 use the following command to install Python's virtual environment tool:\n",
    "```sh\n",
    "$ python -m pip install virtualenv\n",
    "```\n",
    "\n",
    "## Initiate an environment\n",
    "Command\n",
    "```sh\n",
    "$ python3 -m venv [environment-folder]\n",
    "```\n",
    "\n",
    "Usually I go like this:\n",
    "```sh\n",
    "$ python3 -m venv env\n",
    "```\n",
    "\n",
    "After the above step a series of files will be created in the folder you passed as argument (*env*, in my case).\n",
    "```\n",
    "env\n",
    "├── bin\n",
    "│   ├── activate\n",
    "│   ├── activate.csh\n",
    "│   ├── activate.fish\n",
    "│   ├── easy_install\n",
    "│   ├── easy_install-3.7\n",
    "│   ├── pip\n",
    "│   ├── pip3\n",
    "│   ├── pip3.7\n",
    "│   ├── python\n",
    "│   └── python3\n",
    "├── include\n",
    "├── lib\n",
    "│   └── python3.7\n",
    "├── lib64\n",
    "│   └── python3.7\n",
    "├── share\n",
    "│   └── python-wheels\n",
    "└── pyvenv.cfg\n",
    "```\n",
    "\n",
    "## Active environment\n",
    "In order to use this environment’s packages/resources in isolation, you need to “activate” it. To do this, just run the following:\n",
    "\n",
    "```sh\n",
    "# Base command\n",
    "$ source [environment-folder]/bin/activate\n",
    "\n",
    "# Example\n",
    "$ source env/bin/activate\n",
    "```\n",
    "\n",
    "The terminal will show the name of the environment before the dollar sign: `(env) $`.\n",
    "\n",
    " > At this point we could install packages or package versions that we would just use within our environment.\n",
    " \n",
    "## Deactivate environment\n",
    "Use the command `deactivate` to end your environment section\n",
    "```sh\n",
    "(env) $ deactivate\n",
    "```"
   ]
  },
  {
   "cell_type": "markdown",
   "metadata": {},
   "source": [
    "# Module `requests`\n",
    " > \"_Requests is the only Non-GMO HTTP library for Python, safe for human consumption_\". (https://pypi.org/project/requests/)\n",
    "\n",
    "Request will allow us to send and retreave informations from pages and web API's. **HTTP** means HyperText Transfer Protocol. \n",
    "\n",
    "### Verbs\n",
    " - `GET`: The GET method requests a representation of the specified resource. Requests using GET should only retrieve data.\n",
    " - `HEAD`: The HEAD method asks for a response identical to that of a GET request, but without the response body.\n",
    " - `POST`: The POST method is used to submit an entity to the specified resource, often causing a change in state or side effects on the server.\n",
    " - `PUT`: The PUT method replaces all current representations of the target resource with the request payload.\n",
    " - `DELETE`: The DELETE method deletes the specified resource.\n",
    " - `CONNECT`: The CONNECT method establishes a tunnel to the server identified by the target resource.\n",
    " - `OPTIONS`: The OPTIONS method is used to describe the communication options for the target resource.\n",
    " - `TRACE`: The TRACE method performs a message loop-back test along the path to the target resource.\n",
    " - `PATCH`: The PATCH method is used to apply partial modifications to a resource.\n",
    " \n",
    "### Status code\n",
    "https://www.restapitutorial.com/httpstatuscodes.html\n",
    "\n",
    "### Request site"
   ]
  },
  {
   "cell_type": "code",
   "execution_count": 15,
   "metadata": {},
   "outputs": [
    {
     "name": "stdout",
     "output_type": "stream",
     "text": [
      "http://www.google.com/\n",
      "200\n"
     ]
    }
   ],
   "source": [
    "# Imports\n",
    "import requests\n",
    "\n",
    "# Request\n",
    "r = requests.get('http://www.google.com')\n",
    "\n",
    "# Results\n",
    "print(r.url)\n",
    "print(r.status_code) "
   ]
  },
  {
   "cell_type": "code",
   "execution_count": 18,
   "metadata": {},
   "outputs": [
    {
     "name": "stdout",
     "output_type": "stream",
     "text": [
      "OK\n"
     ]
    }
   ],
   "source": [
    "# Writing text\n",
    "with open('../../res/tmp.html','w') as handler:\n",
    "    handler.write(r.text)\n",
    "    print('OK')"
   ]
  },
  {
   "cell_type": "markdown",
   "metadata": {},
   "source": [
    "### Request image"
   ]
  },
  {
   "cell_type": "code",
   "execution_count": 47,
   "metadata": {},
   "outputs": [
    {
     "name": "stdout",
     "output_type": "stream",
     "text": [
      "https://ifce.edu.br/imagens/orgaosparceiros.jpg\n",
      "200\n"
     ]
    }
   ],
   "source": [
    "# Import\n",
    "import requests\n",
    "\n",
    "# Request\n",
    "r = requests.get('https://ifce.edu.br/imagens/orgaosparceiros.jpg')\n",
    "\n",
    "# Results\n",
    "print(r.url)\n",
    "print(r.status_code) "
   ]
  },
  {
   "cell_type": "markdown",
   "metadata": {},
   "source": [
    "#### Converting byte image\n",
    "```sh\n",
    "# If necessary\n",
    "$ python -m pip install Pillow -U\n",
    "```\n",
    "\n",
    "We are going to use the binary content of our request response"
   ]
  },
  {
   "cell_type": "code",
   "execution_count": 48,
   "metadata": {},
   "outputs": [
    {
     "name": "stdout",
     "output_type": "stream",
     "text": [
      "(686, 79)\n",
      "JPEG\n",
      "RGB\n"
     ]
    }
   ],
   "source": [
    "# Imports\n",
    "from io import BytesIO\n",
    "from PIL import Image\n",
    "\n",
    "# Converting bytes to image\n",
    "img = Image.open(BytesIO(r.content))\n",
    "\n",
    "# Results\n",
    "print(img.size)\n",
    "print(img.format)\n",
    "print(img.mode)"
   ]
  },
  {
   "cell_type": "markdown",
   "metadata": {},
   "source": [
    "#### Saving image"
   ]
  },
  {
   "cell_type": "code",
   "execution_count": 51,
   "metadata": {},
   "outputs": [
    {
     "name": "stdout",
     "output_type": "stream",
     "text": [
      "Image saved!\n"
     ]
    }
   ],
   "source": [
    "try:\n",
    "    img.save('../../res/tmp.' + img.format.lower(), img.format)\n",
    "    print('Image saved!')\n",
    "except IOError:\n",
    "    print('I can\\'t save this image')"
   ]
  },
  {
   "cell_type": "markdown",
   "metadata": {},
   "source": [
    "### Posting data\n",
    " > https://www.w3schools.com/php/demo_form_post.php"
   ]
  },
  {
   "cell_type": "code",
   "execution_count": 46,
   "metadata": {},
   "outputs": [
    {
     "name": "stdout",
     "output_type": "stream",
     "text": [
      "https://www.w3schools.com/php/welcome.php\n",
      "200\n",
      "<!DOCTYPE HTML>\r\n",
      "<html>\r\n",
      "<body>\r\n",
      "\r\n",
      "Welcome <br>\r\n",
      "Your email address is: \r\n",
      "</body>\r\n",
      "</html>\n"
     ]
    }
   ],
   "source": [
    "# Imports\n",
    "import requests\n",
    "\n",
    "# Variables\n",
    "baseURL = 'https://www.w3schools.com/php/'\n",
    "data = {\n",
    "    'name': '',\n",
    "    'email': ''\n",
    "}\n",
    "\n",
    "# Request\n",
    "r = requests.post(baseURL + 'welcome.php', data=data)\n",
    "\n",
    "# Results\n",
    "print(r.url)\n",
    "print(r.status_code) \n",
    "\n",
    "print(r.text)"
   ]
  }
 ],
 "metadata": {
  "kernelspec": {
   "display_name": "Python 3",
   "language": "python",
   "name": "python3"
  },
  "language_info": {
   "codemirror_mode": {
    "name": "ipython",
    "version": 3
   },
   "file_extension": ".py",
   "mimetype": "text/x-python",
   "name": "python",
   "nbconvert_exporter": "python",
   "pygments_lexer": "ipython3",
   "version": "3.7.3"
  }
 },
 "nbformat": 4,
 "nbformat_minor": 2
}
