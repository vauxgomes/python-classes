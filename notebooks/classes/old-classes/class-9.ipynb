{
 "cells": [
  {
   "cell_type": "markdown",
   "metadata": {},
   "source": [
    "# Testes unitários\n",
    "\n",
    "Testar o seu código é muito importante.\n",
    "\n",
    "Acostumar-se a escrever código de teste e a executar este código em paralelo agora é considerado um bom hábito. Usado sabiamente, esse método ajuda você a definir mais precisamente a intenção do seu código e ter uma arquitetura mais desacoplada.\n",
    "\n",
    "## [unittest](https://docs.python.org/3/library/unittest.html)\n",
    "\n",
    "A biblioteca `unittest` contém as classes e métodos necessários para executar-mos os nosso testes unitários. "
   ]
  },
  {
   "cell_type": "code",
   "execution_count": 6,
   "metadata": {},
   "outputs": [],
   "source": [
    "import unittest"
   ]
  },
  {
   "cell_type": "markdown",
   "metadata": {},
   "source": [
    "Agora vamos definir uma função simples para os nossos testes.\n",
    "A função abaixo apenas retorna o valor passado adicionado de uma unidade."
   ]
  },
  {
   "cell_type": "code",
   "execution_count": 8,
   "metadata": {},
   "outputs": [],
   "source": [
    "def fun(x):\n",
    "    return x + 1"
   ]
  },
  {
   "cell_type": "markdown",
   "metadata": {},
   "source": [
    "Devemos também implementar uma classe que conterá todos os testes de funções. Na classe abaixo temos uma função chamada `test_fun` que executará todos os testes referentes à função `fun` definida acima.\n",
    "\n",
    "No exemplo abaixo utilizamos o método `assertEqual` e passamos a chamada a função `fun(3)` juntamente com o valor `4`. A grosso modo, estamos testando a saída esperada da função `fun` quando passamos o valor `3`. "
   ]
  },
  {
   "cell_type": "code",
   "execution_count": 10,
   "metadata": {},
   "outputs": [],
   "source": [
    "class MyTest(unittest.TestCase):\n",
    "    def test_fun(self):\n",
    "        self.assertEqual(fun(3), 4)"
   ]
  },
  {
   "cell_type": "markdown",
   "metadata": {},
   "source": [
    "O nome da função dentro da classe não interessa, mas adotaremos o padrão `test_` seguido do nome da função que estamos testando.\n",
    "\n",
    "Por fim, para executar os testes basta completarmos o nosso script como segue."
   ]
  },
  {
   "cell_type": "code",
   "execution_count": 13,
   "metadata": {
    "collapsed": true
   },
   "outputs": [
    {
     "name": "stderr",
     "output_type": "stream",
     "text": [
      "C:\\Users\\vauxs\\AppData\\Roaming\\jupyter\\runtime\\kernel-40e795cf-9520-4780-9a82-2ef5273fbfb4 (unittest.loader._FailedTest) ... ERROR\n",
      "\n",
      "======================================================================\n",
      "ERROR: C:\\Users\\vauxs\\AppData\\Roaming\\jupyter\\runtime\\kernel-40e795cf-9520-4780-9a82-2ef5273fbfb4 (unittest.loader._FailedTest)\n",
      "----------------------------------------------------------------------\n",
      "AttributeError: module '__main__' has no attribute 'C:\\Users\\vauxs\\AppData\\Roaming\\jupyter\\runtime\\kernel-40e795cf-9520-4780-9a82-2ef5273fbfb4'\n",
      "\n",
      "----------------------------------------------------------------------\n",
      "Ran 1 test in 0.002s\n",
      "\n",
      "FAILED (errors=1)\n"
     ]
    },
    {
     "ename": "SystemExit",
     "evalue": "True",
     "output_type": "error",
     "traceback": [
      "An exception has occurred, use %tb to see the full traceback.\n",
      "\u001b[1;31mSystemExit\u001b[0m\u001b[1;31m:\u001b[0m True\n"
     ]
    },
    {
     "name": "stderr",
     "output_type": "stream",
     "text": [
      "c:\\users\\vauxs\\appdata\\local\\programs\\python\\python38-32\\lib\\site-packages\\IPython\\core\\interactiveshell.py:3327: UserWarning: To exit: use 'exit', 'quit', or Ctrl-D.\n",
      "  warn(\"To exit: use 'exit', 'quit', or Ctrl-D.\", stacklevel=1)\n"
     ]
    }
   ],
   "source": [
    "if __name__ == '__main__':\n",
    "    unittest.main()"
   ]
  },
  {
   "cell_type": "markdown",
   "metadata": {},
   "source": [
    "## Exercício rápido\n",
    "\n",
    "`multiplica_por_dois`: Crie a função que recebe um valor retorna o dobro dele."
   ]
  },
  {
   "cell_type": "code",
   "execution_count": 15,
   "metadata": {
    "collapsed": true
   },
   "outputs": [],
   "source": [
    "def multiplica_por_dois(x):\n",
    "    # Escreva aqui o seu código\n",
    "    pass"
   ]
  },
  {
   "cell_type": "markdown",
   "metadata": {},
   "source": [
    "Complete a classe de teste de software adicionando 3 chamadas ao `assertEqual`"
   ]
  },
  {
   "cell_type": "code",
   "execution_count": 16,
   "metadata": {},
   "outputs": [],
   "source": [
    "class MyTest(unittest.TestCase):\n",
    "    def test_multiplica_por_dois(self):\n",
    "        # Escreva aqui o seu código\n",
    "        pass"
   ]
  },
  {
   "cell_type": "markdown",
   "metadata": {},
   "source": [
    "### Execute os testes"
   ]
  },
  {
   "cell_type": "code",
   "execution_count": null,
   "metadata": {},
   "outputs": [],
   "source": [
    "if __name__ == '__main__':\n",
    "    unittest.main()"
   ]
  },
  {
   "cell_type": "markdown",
   "metadata": {},
   "source": [
    "## Lista de Asserts\n",
    "\n",
    "| Method                    | Checks that          | New in |\n",
    "|---------------------------|----------------------|--------|\n",
    "| assertEqual(a, b)         | a == b               |        |\n",
    "| assertNotEqual(a, b)      | a != b               |        |\n",
    "| assertTrue(x)             | bool(x) is True      |        |\n",
    "| assertFalse(x)            | bool(x) is False     |        |\n",
    "| assertIs(a, b)            | a is b               | 3.1    |\n",
    "| assertIsNot(a, b)         | a is not b           | 3.1    |\n",
    "| assertIsNone(x)           | x is None            | 3.1    |\n",
    "| assertIsNotNone(x)        | x is not None        | 3.1    |\n",
    "| assertIn(a, b)            | a in b               | 3.1    |\n",
    "| assertNotIn(a, b)         | a not in b           | 3.1    |\n",
    "| assertIsInstance(a, b)    | isinstance(a, b)     | 3.2    |\n",
    "| assertNotIsInstance(a, b) | not isinstance(a, b) | 3.2    |\n",
    "\n",
    "### Exemplo\n",
    "\n",
    "No exemplo abaixo fazemos uso do `assertTrue` e `assertFalse`."
   ]
  },
  {
   "cell_type": "code",
   "execution_count": 21,
   "metadata": {},
   "outputs": [],
   "source": [
    "import unittest\n",
    "\n",
    "def is_par(x):\n",
    "    return x % 2 == 0\n",
    "\n",
    "class MyTest(unittest.TestCase):\n",
    "    def test_is_par(self):\n",
    "        self.assertTrue(is_par(2)) # 2 é par?\n",
    "        self.assertTrue(is_par(4)) # 4 é par?\n",
    "        self.assertFalse(is_par(5)) # 5 NÃO é par?\n",
    "\n",
    "if __name__ == '__main__':\n",
    "    unittest.main()"
   ]
  },
  {
   "cell_type": "markdown",
   "metadata": {},
   "source": [
    "## Exercício\n",
    "\n",
    "`grupo etario`: Escreva uma função que recebe o ano de nascimento e o ano atual e retorna uma das\n",
    "seguintes saídas, considerando a diferença entre os anos lidos:\n",
    "\n",
    " - `(1 até 10)`: CRIANCA\n",
    " - `(11 até 17)`: ADOLESCENTE\n",
    " - `(18 até 60)`: ADULTO\n",
    " - `(60 até 100)`: MELHOR IDADE\n",
    " - `(maior que 100 ou menor que 1)`: None\n",
    " \n",
    "> **Exemplo:**\n",
    "> Se o ano de nascimento for 2000 e o ano atual for 2020, então a função deve retornar `ADULTO`. Da mesma forma, se o ano de nascimento for 1994 e o ano atual for 2007, a função também deve retornar `ADULTO`."
   ]
  },
  {
   "cell_type": "code",
   "execution_count": 17,
   "metadata": {},
   "outputs": [],
   "source": [
    "def grupo_etario(ano_nascimento, ano_atual):\n",
    "    # Escreva aqui o seu código\n",
    "    pass"
   ]
  },
  {
   "cell_type": "markdown",
   "metadata": {},
   "source": [
    "Complete a classe de teste"
   ]
  },
  {
   "cell_type": "code",
   "execution_count": 23,
   "metadata": {},
   "outputs": [],
   "source": [
    "class MyTest(unittest.TestCase):\n",
    "    def test_grupo_etario(self):\n",
    "        # Escreva aqui o seu código\n",
    "        pass"
   ]
  },
  {
   "cell_type": "markdown",
   "metadata": {},
   "source": [
    "## Exercício\n",
    "\n",
    "1. `pode votar`: Escreva e teste uma função que recebe o ano de nascimento de uma pessoa e retorna `True` se ela puder votar este ano (2020), caso contrário retorna `False`. Retorne `None` se o ano de nascimento for maior que o ano atual.\n",
    "\n",
    "\n",
    "2. `compra macas`: As maçãs custam RS 0,30 cada se forem compradas menos do que uma dúzia, e RS 0,25 se forem compradas pelo menos doze. Escreva e teste uma função que recebe o número de maçãs compradas, calcula e retorna o valor total da compra. Se o número de maçãs for negativo então a função deve retorna `False`.\n",
    "\n",
    "\n",
    "3. `menor_valor`: Escreva e teste uma função que retorna o menor valor em uma `lista` de valores.\n",
    "\n",
    "\n",
    "4. `soma_metade_lista`: Escreva e teste uma função que retorna a soma da metade inicial de uma lista. Use `//` para saber quantos itens serão usados na soma.\n",
    "> **Exemplo**: Se a lista for `[1, 2, 3, 4, 5, 6, 7, 8]` a função deve retornar 11, pois 1+2+3+4=11. Se a lista for `[8, 7, 6, 5, 4]` a função deve retornar 15, pois 8+7=15."
   ]
  }
 ],
 "metadata": {
  "kernelspec": {
   "display_name": "Python 3",
   "language": "python",
   "name": "python3"
  },
  "language_info": {
   "codemirror_mode": {
    "name": "ipython",
    "version": 3
   },
   "file_extension": ".py",
   "mimetype": "text/x-python",
   "name": "python",
   "nbconvert_exporter": "python",
   "pygments_lexer": "ipython3",
   "version": "3.8.1"
  }
 },
 "nbformat": 4,
 "nbformat_minor": 4
}
