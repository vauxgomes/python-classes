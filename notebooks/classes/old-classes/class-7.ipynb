{
 "cells": [
  {
   "cell_type": "markdown",
   "metadata": {},
   "source": [
    "# BeautifulSoup\n",
    "Beautiful Soup is a Python library for pulling data out of HTML and XML files. It works with your favorite parser to provide idiomatic ways of navigating, searching, and modifying the parse tree. It commonly saves programmers hours or days of work.\n",
    "\n",
    "```sh\n",
    "$ python -m pip install beautifulsoup4\n",
    "```"
   ]
  },
  {
   "cell_type": "markdown",
   "metadata": {},
   "source": [
    "#### HTML\n",
    "```html\n",
    "<html>\n",
    "    <body>\n",
    "        <h1>Title</h1>\n",
    "        <div>\n",
    "            Lorem Ipsum is simply dummy text of the printing and typesetting industry. Lorem Ipsum has been the industry's standard dummy text ever since the 1500s, when an unknown printer took a galley of type and scrambled it to make a type specimen book. It has survived not only five centuries, but also the leap into electronic typesetting, remaining essentially unchanged. It was popularised in the 1960s with the release of Letraset sheets containing Lorem Ipsum passages, and more recently with desktop publishing software like Aldus PageMaker including versions of Lorem Ipsum.\n",
    "        </div>\n",
    "        <ul>\n",
    "\t\t\t<li>Item 1</li>\n",
    "\t\t\t<li>Item 2</li>\n",
    "\t\t\t<li>Item 3</li>\n",
    "\t\t\t<li>Item 4</li>\n",
    "\t\t\t<li>Item 5</li>\n",
    "\t\t\t<li>Item 6</li>\n",
    "\t\t\t<li>Item 7</li>\n",
    "\t\t\t<li>Item 8</li>\n",
    "        </ul>\n",
    "    </body>\n",
    "</html>\n",
    "```"
   ]
  },
  {
   "cell_type": "markdown",
   "metadata": {},
   "source": [
    "### Parsing"
   ]
  },
  {
   "cell_type": "code",
   "execution_count": 5,
   "metadata": {},
   "outputs": [
    {
     "name": "stdout",
     "output_type": "stream",
     "text": [
      "produtosecador\n",
      "200\n",
      "https://busca.magazineluiza.com.br/busca?q=secador&sort=1\n",
      "Secador de Cabelo Britânia BSC2900 Red Turmalina - com Íons 2000W 2 Velocidades :::: 66.9 https://www.magazineluiza.com.br/secador-de-cabelo-britania-bsc2900-red-turmalina-com-ions-1900w-2-velocidades/p/220274200/es/elbk\n",
      "Secador de Cabelo Mondial com Íons 1900W - 2 Velocidades Power Shine Black :::: 74.9 https://www.magazineluiza.com.br/secador-de-cabelo-mondial-com-ions-1900w-2-velocidades-power-shine-black/p/108126500/es/elbk\n",
      "Secador de Cabelo Gama Italy Bella Pro - Vermelho com Íons 2100W 2 Velocidades :::: 119.9 https://www.magazineluiza.com.br/secador-de-cabelo-gama-italy-bella-pro-vermelho-com-ions-2100w-2-velocidades/p/222177000/es/elbk\n",
      "Secador de Cabelo 850W 2 Velocidades - Alisador c/ Função Íon Ultra Travel  SC-15 :::: 39.9 https://www.magazineluiza.com.br/secador-de-cabelo-850w-2-velocidades-alisador-c-funcao-ion-ultra-travel-sc-15/p/108195000/es/elbk\n",
      "Secador de Cabelo Profissional Ga.Ma Italy - Keration Ceramic Íon 2000W 2 Velocidades :::: 122.9 https://www.magazineluiza.com.br/secador-de-cabelo-profissional-ga-ma-italy-keration-ceramic-ion-2000w-2-velocidades/p/108507300/es/elbk\n"
     ]
    }
   ],
   "source": [
    "# Imports\n",
    "from bs4 import BeautifulSoup\n",
    "import requests\n",
    "import json\n",
    "\n",
    "# Variables\n",
    "baseURL = 'https://www.magazineluiza.com.br/'\n",
    "searchURL = 'https://busca.magazineluiza.com.br/busca'\n",
    "data = {'q': input('produto'), 'sort': '1'}\n",
    "\n",
    "r = requests.get(searchURL, params=data)\n",
    "\n",
    "print(r.status_code)\n",
    "print(r.url)\n",
    "\n",
    "# Safety\n",
    "if r.status_code != 200:\n",
    "    exit()\n",
    "    \n",
    "soup = BeautifulSoup(r.text)\n",
    "\n",
    "# Finding products\n",
    "ul = soup.find('ul', {'class': 'neemu-products-container'})\n",
    "prods = ul.findAll('li', {'class': 'nm-product-item'})\n",
    "\n",
    "# Listing\n",
    "l = []\n",
    "for p in prods:\n",
    "    prod_info = json.loads(p.a['data-product'])   \n",
    "    prod_info['name'] = p.a['alt']\n",
    "    prod_info['price'] = float(prod_info['price'])\n",
    "    \n",
    "    l.append(prod_info)\n",
    "\n",
    "#l.sort(key = lambda x: x['price'])\n",
    "\n",
    "for i in l[:5]:\n",
    "    print(i['name'], '::::', i['price'], baseURL + i['title_url'] + '/p/' + i['product'] + '/es/elbk')"
   ]
  },
  {
   "cell_type": "code",
   "execution_count": null,
   "metadata": {},
   "outputs": [],
   "source": []
  }
 ],
 "metadata": {
  "kernelspec": {
   "display_name": "Python 3",
   "language": "python",
   "name": "python3"
  },
  "language_info": {
   "codemirror_mode": {
    "name": "ipython",
    "version": 3
   },
   "file_extension": ".py",
   "mimetype": "text/x-python",
   "name": "python",
   "nbconvert_exporter": "python",
   "pygments_lexer": "ipython3",
   "version": "3.6.7"
  }
 },
 "nbformat": 4,
 "nbformat_minor": 2
}
