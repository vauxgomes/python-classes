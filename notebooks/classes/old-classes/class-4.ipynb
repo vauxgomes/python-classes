{
 "cells": [
  {
   "cell_type": "markdown",
   "metadata": {},
   "source": [
    "# User-defined functions\n",
    "Many different programming languages has functions. In Python we use the reserved key `def`. According with the PEP guide lines we use `_` for separating words in the name of our fuctions.\n",
    "\n",
    "Python uses **identation** to know where each block of code starts and ends."
   ]
  },
  {
   "cell_type": "code",
   "execution_count": 14,
   "metadata": {},
   "outputs": [],
   "source": [
    "def my_function():\n",
    "    print('This is my function') # Automatic 4 space identation\n",
    "    print('This is the last line of my function')"
   ]
  },
  {
   "cell_type": "markdown",
   "metadata": {},
   "source": [
    "## Calling functions"
   ]
  },
  {
   "cell_type": "code",
   "execution_count": 15,
   "metadata": {},
   "outputs": [
    {
     "name": "stdout",
     "output_type": "stream",
     "text": [
      "This is my function\n",
      "This is the last line of my function\n"
     ]
    }
   ],
   "source": [
    "my_function()"
   ]
  },
  {
   "cell_type": "markdown",
   "metadata": {},
   "source": [
    "## Argumets of functions\n",
    "Using arguments for function we can write more dynamic code. Arguments are declared within parenthesis as follows:\n",
    "```py\n",
    "    def my_function(arg1, arg2)\n",
    "        pass\n",
    "```\n",
    "\n",
    "> As python doesn't need to declare the type of a variable, arguments doesn't require any type declaration as well."
   ]
  },
  {
   "cell_type": "code",
   "execution_count": 17,
   "metadata": {},
   "outputs": [
    {
     "name": "stdout",
     "output_type": "stream",
     "text": [
      "This is my first argument\n",
      "This is my second argument\n"
     ]
    }
   ],
   "source": [
    "# Definition\n",
    "def my_function(arg1, arg2):\n",
    "    print(arg1)\n",
    "    print(arg2)\n",
    "    \n",
    "# Call\n",
    "my_function('This is my first argument', 'This is my second argument')"
   ]
  },
  {
   "cell_type": "code",
   "execution_count": 18,
   "metadata": {},
   "outputs": [
    {
     "name": "stdout",
     "output_type": "stream",
     "text": [
      "10\n",
      "10\n"
     ]
    }
   ],
   "source": [
    "my_function(10, '10')"
   ]
  },
  {
   "cell_type": "markdown",
   "metadata": {},
   "source": [
    "Besides the weekly typed language style, some rules has to be followed. For example, we still can't sum strings and numbers."
   ]
  },
  {
   "cell_type": "code",
   "execution_count": 22,
   "metadata": {},
   "outputs": [
    {
     "name": "stdout",
     "output_type": "stream",
     "text": [
      "Hi, my name is Alice and my age is 22\n"
     ]
    }
   ],
   "source": [
    "# Definition\n",
    "def presentation(name, age):\n",
    "    print('Hi, my name is ' + name + ' and my age is ' + age)\n",
    "\n",
    "# Call\n",
    "# presentation('Bob', 27) # wrong\n",
    "presentation('Alice', '22') # correct"
   ]
  },
  {
   "cell_type": "code",
   "execution_count": 23,
   "metadata": {},
   "outputs": [
    {
     "name": "stdout",
     "output_type": "stream",
     "text": [
      "Hi, my name is Bob and my age is 27\n"
     ]
    }
   ],
   "source": [
    "# Redefinition\n",
    "def presentation(name, age):\n",
    "    print('Hi, my name is', name, 'and my age is',  age)\n",
    "\n",
    "# Call \n",
    "presentation('Bob', 27) # Correct"
   ]
  },
  {
   "cell_type": "markdown",
   "metadata": {},
   "source": [
    "### Default arguments\n",
    "It is a way of simplifying our callings to functions by having pre-set values to some (or all) arguments. These pre-set values will be used when the programmer does't pass a value. In other words, by passing a value in the parameter, the passed value it will have priority over the default value of an argument."
   ]
  },
  {
   "cell_type": "code",
   "execution_count": 27,
   "metadata": {},
   "outputs": [
    {
     "name": "stdout",
     "output_type": "stream",
     "text": [
      "Hi, my name is Someone and my age is Unknown\n",
      "Hi, my name is Bob and my age is Unknown\n",
      "Hi, my name is Bob and my age is 27\n"
     ]
    }
   ],
   "source": [
    "# Definition\n",
    "def presentation(name = 'Someone', age = 'Unknown'):\n",
    "    print('Hi, my name is', name, 'and my age is',  age)\n",
    "\n",
    "# Call \n",
    "presentation()\n",
    "presentation('Bob')\n",
    "presentation('Bob', 27)"
   ]
  },
  {
   "cell_type": "markdown",
   "metadata": {},
   "source": [
    "### Keyword arguments\n",
    "It is a way of specifying the value of an argument. As a result we could pass the values out of order or use it in conjunction with the default values to specifically set just a few values of arguments."
   ]
  },
  {
   "cell_type": "code",
   "execution_count": 31,
   "metadata": {
    "scrolled": true
   },
   "outputs": [
    {
     "name": "stdout",
     "output_type": "stream",
     "text": [
      "Hi, my name is 27 and my age is Unknown\n",
      "Hi, my name is Someone and my age is 27\n",
      "Hi, my name is Bob and my age is 27\n"
     ]
    }
   ],
   "source": [
    "# Definition\n",
    "def presentation(name = 'Someone', age = 'Unknown'):\n",
    "    print('Hi, my name is', name, 'and my age is',  age)\n",
    "\n",
    "# Call \n",
    "presentation(27) # without keyword argument\n",
    "presentation(age = 27)\n",
    "presentation(age = 27, name = 'Bob')"
   ]
  },
  {
   "cell_type": "markdown",
   "metadata": {},
   "source": [
    "### Infinite / Flexible number of arguments"
   ]
  },
  {
   "cell_type": "code",
   "execution_count": 82,
   "metadata": {},
   "outputs": [
    {
     "name": "stdout",
     "output_type": "stream",
     "text": [
      "This person is Alice\n",
      "This person is Bob\n",
      "This person is Carl\n",
      "This person is Dan\n",
      "This person is Emili\n"
     ]
    }
   ],
   "source": [
    "# Definition\n",
    "def print_people(*people):\n",
    "    for person in people:\n",
    "        print('This person is', person)\n",
    "\n",
    "# Call\n",
    "print_people('Alice', 'Bob', 'Carl', 'Dan', 'Emili')"
   ]
  },
  {
   "cell_type": "markdown",
   "metadata": {},
   "source": [
    "### Returning value"
   ]
  },
  {
   "cell_type": "code",
   "execution_count": 80,
   "metadata": {},
   "outputs": [
    {
     "name": "stdout",
     "output_type": "stream",
     "text": [
      "13\n",
      "7\n",
      "10\n",
      "-15\n"
     ]
    }
   ],
   "source": [
    "# Sum function\n",
    "def sum_(a, b):\n",
    "    return a + b\n",
    "\n",
    "# Substraction function\n",
    "def subtract(a, b):\n",
    "    return a - b\n",
    "\n",
    "print(sum_(10, 3))\n",
    "print(subtract(10, 3))\n",
    "\n",
    "# -----------------------\n",
    "\n",
    "# Math function\n",
    "def math(func, *numbers):\n",
    "    acc = 0\n",
    "    \n",
    "    for n in numbers:\n",
    "        acc = func(acc, n)\n",
    "        \n",
    "    return acc\n",
    "\n",
    "# Call\n",
    "print(math(sum_, 1, 2, 3, 4))\n",
    "print(math(subtract, 10, 3, 2)) # -15?"
   ]
  },
  {
   "cell_type": "markdown",
   "metadata": {},
   "source": [
    "------\n",
    "# Conditional statements\n",
    "## `If` / `else` / `elif`\n",
    "\n",
    "We use `if`, `else`, `elif` to change the flow of a program accordingly with its state.\n",
    "\n",
    "**Note**:\n",
    " - Only `if` is necessary as it is the first of the three conditional statements\n",
    " - `else` statement must come as the last conditional statement\n",
    "   - It can only occur once per if statement\n",
    " - `elif` can occur zero to infinite times"
   ]
  },
  {
   "cell_type": "code",
   "execution_count": 78,
   "metadata": {},
   "outputs": [],
   "source": [
    "# Variable\n",
    "age = 27\n",
    "\n",
    "# Conditions\n",
    "if age <= 10:\n",
    "    print('You\\'re a child')"
   ]
  },
  {
   "cell_type": "code",
   "execution_count": 68,
   "metadata": {},
   "outputs": [
    {
     "name": "stdout",
     "output_type": "stream",
     "text": [
      "What is your age?: 0\n",
      "You're a lier\n",
      "You're child\n"
     ]
    }
   ],
   "source": [
    "# Variable\n",
    "age = int(input('What is your age?: '))\n",
    "\n",
    "# Conditions\n",
    "if age <= 0:\n",
    "    print('You\\'re a lier')\n",
    "    \n",
    "if age <= 10:\n",
    "    print('You\\'re a child')\n",
    "else:\n",
    "    print('You\\'re not a child')"
   ]
  },
  {
   "cell_type": "code",
   "execution_count": 70,
   "metadata": {},
   "outputs": [
    {
     "name": "stdout",
     "output_type": "stream",
     "text": [
      "What is your age?: 10\n",
      "You're child\n"
     ]
    }
   ],
   "source": [
    "# Variable\n",
    "age = int(input('What is your age?: '))\n",
    "\n",
    "# Conditions\n",
    "if age <= 0:\n",
    "    print('You\\'re a lier')\n",
    "elif age <= 10:\n",
    "    print('You\\'re a child')\n",
    "else:\n",
    "    print('You\\'re not a child')"
   ]
  },
  {
   "cell_type": "code",
   "execution_count": 75,
   "metadata": {},
   "outputs": [
    {
     "name": "stdout",
     "output_type": "stream",
     "text": [
      "What is your age?: 190\n",
      "You're old\n"
     ]
    }
   ],
   "source": [
    "# Variable\n",
    "age = int(input('What is your age?: '))\n",
    "\n",
    "# Conditions\n",
    "if age <= 0:\n",
    "    print('You\\'re a lier')\n",
    "elif age <= 10:\n",
    "    print('You\\'re a child')\n",
    "elif age < 18:\n",
    "    print('You\\'re an adolescent')\n",
    "else:\n",
    "    if age >= 60:\n",
    "        print('You\\'re old')\n",
    "    else:\n",
    "        print('You\\'re an adult')"
   ]
  },
  {
   "cell_type": "markdown",
   "metadata": {},
   "source": [
    "## `and` & `or`"
   ]
  },
  {
   "cell_type": "code",
   "execution_count": 113,
   "metadata": {},
   "outputs": [
    {
     "name": "stdout",
     "output_type": "stream",
     "text": [
      "black cats brings bad luck\n",
      "white cats don't bring bad luck\n",
      "black beetles brings bad luck\n",
      "green beetles don't bring bad luck\n"
     ]
    }
   ],
   "source": [
    "# Variable\n",
    "animals = [\n",
    "    { 'type': 'cat', 'color': 'black' },\n",
    "    { 'type': 'cat', 'color': 'white' },\n",
    "    { 'type': 'beetle', 'color': 'black' },\n",
    "    { 'type': 'beetle', 'color': 'green' }\n",
    "]\n",
    "\n",
    "# Checks if animal brings bad luck\n",
    "def has_bad_luck(animal):\n",
    "    if (animal['type'] is 'cat' or animal['type'] is 'beetle') and animal['color'] is 'black':\n",
    "        return True\n",
    "    \n",
    "    return False\n",
    "\n",
    "# Call\n",
    "for animal in animals:\n",
    "    if has_bad_luck(animal):\n",
    "        print(animal['color'], animal['type'] + 's brings bad luck')\n",
    "    else:\n",
    "        print(animal['color'], animal['type'] + 's don\\'t bring bad luck')"
   ]
  },
  {
   "cell_type": "markdown",
   "metadata": {},
   "source": [
    "---\n",
    "# Loops"
   ]
  },
  {
   "cell_type": "markdown",
   "metadata": {},
   "source": [
    "## For loop"
   ]
  },
  {
   "cell_type": "code",
   "execution_count": 85,
   "metadata": {},
   "outputs": [],
   "source": [
    "names = ['Alice', 'Bob', 'Carl', 'Dan', 'Emili']"
   ]
  },
  {
   "cell_type": "markdown",
   "metadata": {},
   "source": [
    "#### For in range"
   ]
  },
  {
   "cell_type": "code",
   "execution_count": 87,
   "metadata": {},
   "outputs": [
    {
     "name": "stdout",
     "output_type": "stream",
     "text": [
      "Alice\n",
      "Bob\n",
      "Carl\n",
      "Dan\n",
      "Emili\n"
     ]
    }
   ],
   "source": [
    "for i in range(len(names)):\n",
    "    print(names[i])"
   ]
  },
  {
   "cell_type": "markdown",
   "metadata": {},
   "source": [
    "#### For each"
   ]
  },
  {
   "cell_type": "code",
   "execution_count": 86,
   "metadata": {
    "scrolled": true
   },
   "outputs": [
    {
     "name": "stdout",
     "output_type": "stream",
     "text": [
      "Alice\n",
      "Bob\n",
      "Carl\n",
      "Dan\n",
      "Emili\n"
     ]
    }
   ],
   "source": [
    "# within this block of code n represents each of the names of the array, one per time\n",
    "for n in names:\n",
    "    print(n)"
   ]
  },
  {
   "cell_type": "markdown",
   "metadata": {},
   "source": [
    "#### For in dictionaries"
   ]
  },
  {
   "cell_type": "code",
   "execution_count": 122,
   "metadata": {},
   "outputs": [
    {
     "name": "stdout",
     "output_type": "stream",
     "text": [
      "{'name': 'Alice', 'age': 22}\n"
     ]
    }
   ],
   "source": [
    "person = {\n",
    "    'name': 'Alice',\n",
    "    'age': 22\n",
    "}\n",
    "\n",
    "print(person)"
   ]
  },
  {
   "cell_type": "code",
   "execution_count": 94,
   "metadata": {},
   "outputs": [
    {
     "name": "stdout",
     "output_type": "stream",
     "text": [
      "name\n",
      "age\n"
     ]
    }
   ],
   "source": [
    "# Printing keys\n",
    "for k in person:\n",
    "    print('key:', k)"
   ]
  },
  {
   "cell_type": "code",
   "execution_count": 121,
   "metadata": {},
   "outputs": [
    {
     "name": "stdout",
     "output_type": "stream",
     "text": [
      "value: Alice\n",
      "value: 22\n"
     ]
    }
   ],
   "source": [
    "# Printing values\n",
    "for v in person.values():\n",
    "    print('value:', v)"
   ]
  },
  {
   "cell_type": "code",
   "execution_count": 119,
   "metadata": {},
   "outputs": [
    {
     "name": "stdout",
     "output_type": "stream",
     "text": [
      "key: name \n",
      "value: Alice \n",
      "--\n",
      "key: age \n",
      "value: 22 \n",
      "--\n"
     ]
    }
   ],
   "source": [
    "# Printing keys and values\n",
    "for k in person:\n",
    "    print('key:', k, '\\nvalue:', person[k], '\\n--')"
   ]
  },
  {
   "cell_type": "code",
   "execution_count": 120,
   "metadata": {},
   "outputs": [
    {
     "name": "stdout",
     "output_type": "stream",
     "text": [
      "key: name \n",
      "value: Alice \n",
      "--\n",
      "key: age \n",
      "value: 22 \n",
      "--\n"
     ]
    }
   ],
   "source": [
    "# Printing keys and values\n",
    "for k,v in person.items():\n",
    "    print('key:', k, '\\nvalue:', v, '\\n--')"
   ]
  },
  {
   "cell_type": "markdown",
   "metadata": {},
   "source": [
    "## While loop"
   ]
  },
  {
   "cell_type": "code",
   "execution_count": 125,
   "metadata": {},
   "outputs": [
    {
     "name": "stdout",
     "output_type": "stream",
     "text": [
      "0\n",
      "1\n",
      "2\n",
      "3\n",
      "4\n",
      "5\n",
      "6\n",
      "7\n",
      "8\n",
      "9\n"
     ]
    }
   ],
   "source": [
    "# Variable\n",
    "run = True\n",
    "count = 0\n",
    "\n",
    "# Loop\n",
    "while run:\n",
    "    if count < 10:\n",
    "        print(count)\n",
    "        count += 1\n",
    "    else:\n",
    "        run = False"
   ]
  },
  {
   "cell_type": "markdown",
   "metadata": {},
   "source": [
    "## Other reserved words\n",
    "|-|-|-|-|-|\n",
    "|-|-|-|-|-|\n",
    "| False | class | finally | is | return |\n",
    "| None | continue | for | lambda | try |\n",
    "| True | def | from | nonlocal |while|\n",
    "| and | del | global | not | with |\n",
    "| as | elif | if | or | yield |\n",
    "| assert | else | import | pass | \n",
    "| break | except | in |raise |"
   ]
  }
 ],
 "metadata": {
  "kernelspec": {
   "display_name": "Python 3",
   "language": "python",
   "name": "python3"
  },
  "language_info": {
   "codemirror_mode": {
    "name": "ipython",
    "version": 3
   },
   "file_extension": ".py",
   "mimetype": "text/x-python",
   "name": "python",
   "nbconvert_exporter": "python",
   "pygments_lexer": "ipython3",
   "version": "3.7.3"
  }
 },
 "nbformat": 4,
 "nbformat_minor": 2
}
