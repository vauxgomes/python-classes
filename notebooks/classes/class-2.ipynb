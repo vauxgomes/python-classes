{
 "cells": [
  {
   "cell_type": "markdown",
   "metadata": {},
   "source": [
    "# Basic types\n",
    "## Numbers\n",
    "There are only two types of numbers in python\n",
    " - integer\n",
    " - floating point\n",
    " \n",
    "### Integers"
   ]
  },
  {
   "cell_type": "code",
   "execution_count": null,
   "metadata": {
    "scrolled": false
   },
   "outputs": [],
   "source": [
    "5"
   ]
  },
  {
   "cell_type": "code",
   "execution_count": null,
   "metadata": {},
   "outputs": [],
   "source": [
    "5 + 6"
   ]
  },
  {
   "cell_type": "code",
   "execution_count": null,
   "metadata": {},
   "outputs": [],
   "source": [
    "5 * 6"
   ]
  },
  {
   "cell_type": "markdown",
   "metadata": {},
   "source": [
    "Numbers in quotation are considered strings"
   ]
  },
  {
   "cell_type": "code",
   "execution_count": null,
   "metadata": {},
   "outputs": [],
   "source": [
    "'5' + '6'"
   ]
  },
  {
   "cell_type": "markdown",
   "metadata": {},
   "source": [
    "The following statement will generate an error because python can't `sum` strings and numbers:\n",
    "```py\n",
    "'5' + 6\n",
    "```"
   ]
  },
  {
   "cell_type": "code",
   "execution_count": null,
   "metadata": {},
   "outputs": [],
   "source": [
    "'5' + 6"
   ]
  },
  {
   "cell_type": "markdown",
   "metadata": {},
   "source": [
    "### Floating point"
   ]
  },
  {
   "cell_type": "code",
   "execution_count": null,
   "metadata": {},
   "outputs": [],
   "source": [
    "5.1 + 2.2"
   ]
  },
  {
   "cell_type": "markdown",
   "metadata": {},
   "source": [
    "### Conversion\n",
    "In order to perform mathmatical operations with numbers in quotation (_strings_) one needs to convert that value to workable numbers"
   ]
  },
  {
   "cell_type": "code",
   "execution_count": null,
   "metadata": {},
   "outputs": [],
   "source": [
    "int('5')"
   ]
  },
  {
   "cell_type": "code",
   "execution_count": null,
   "metadata": {},
   "outputs": [],
   "source": [
    "float('5.1')"
   ]
  },
  {
   "cell_type": "markdown",
   "metadata": {},
   "source": [
    "## Strings\n",
    "String of characters that are treated as text"
   ]
  },
  {
   "cell_type": "code",
   "execution_count": null,
   "metadata": {
    "scrolled": true
   },
   "outputs": [],
   "source": [
    "'Hello String'"
   ]
  },
  {
   "cell_type": "code",
   "execution_count": null,
   "metadata": {
    "scrolled": true
   },
   "outputs": [],
   "source": [
    "\"Hello Double Quotation\""
   ]
  },
  {
   "cell_type": "markdown",
   "metadata": {},
   "source": [
    "### Escaping\n",
    "Python uses backslash `( \\\\ )` for giving special meaning to some characters\n",
    "\n",
    "Examples:\n",
    " - Don't do that\n",
    " - She said \"I want this\"\n",
    " - She said \"I don't do that\""
   ]
  },
  {
   "cell_type": "code",
   "execution_count": null,
   "metadata": {},
   "outputs": [],
   "source": [
    "# Examples:\n",
    "# Don't do that\n",
    "# She said \"I want this\"\n",
    "# She said \"I don't do that\""
   ]
  },
  {
   "cell_type": "markdown",
   "metadata": {},
   "source": [
    "Other examples of escape characters:\n",
    " - `\\n`: break line\n",
    " - `\\t`: tab\n",
    " \n",
    "### Length of a string\n",
    "\n",
    "Example:"
   ]
  },
  {
   "cell_type": "code",
   "execution_count": 12,
   "metadata": {},
   "outputs": [
    {
     "name": "stdout",
     "output_type": "stream",
     "text": [
      "6\n"
     ]
    }
   ],
   "source": [
    "print(len('Python')) # 6 letters"
   ]
  },
  {
   "cell_type": "markdown",
   "metadata": {},
   "source": [
    "### String manipulation\n",
    "#### Concatenation\n",
    "\"Glue\" strings together"
   ]
  },
  {
   "cell_type": "code",
   "execution_count": null,
   "metadata": {},
   "outputs": [],
   "source": [
    "'Hello, ' + \"Class\""
   ]
  },
  {
   "cell_type": "code",
   "execution_count": null,
   "metadata": {},
   "outputs": [],
   "source": [
    "'H' + 'e' + 'l' + 'l' + 'o'"
   ]
  },
  {
   "cell_type": "markdown",
   "metadata": {},
   "source": [
    "#### Conversion\n",
    "The following statement will generate an error because python can't `concatenate` strings and numbers:\n",
    "```py\n",
    "'I have ' + 6 + ' apples'\n",
    "```\n",
    "\n",
    "In order to concatenate numbers to string it is necessary to convert the numbers to string"
   ]
  },
  {
   "cell_type": "code",
   "execution_count": null,
   "metadata": {},
   "outputs": [],
   "source": [
    "'I have ' + 6 + ' apples'"
   ]
  },
  {
   "cell_type": "code",
   "execution_count": null,
   "metadata": {},
   "outputs": [],
   "source": [
    "'I have ' + str(6) + ' apples'"
   ]
  },
  {
   "cell_type": "markdown",
   "metadata": {},
   "source": [
    "### Accessing elements in string\n",
    "> Strings' indexation starts from 0 and ends at the size of the string - 1\n",
    "\n",
    "#### Accesssing each element"
   ]
  },
  {
   "cell_type": "code",
   "execution_count": 10,
   "metadata": {},
   "outputs": [
    {
     "name": "stdout",
     "output_type": "stream",
     "text": [
      "P\n",
      "y\n",
      "t\n",
      "h\n",
      "o\n",
      "n\n"
     ]
    }
   ],
   "source": [
    "print('Python'[0])\n",
    "print('Python'[1])\n",
    "print('Python'[2])\n",
    "print('Python'[3])\n",
    "print('Python'[4])\n",
    "print('Python'[5])"
   ]
  },
  {
   "cell_type": "markdown",
   "metadata": {},
   "source": [
    "#### Accessing the last element"
   ]
  },
  {
   "cell_type": "code",
   "execution_count": 13,
   "metadata": {},
   "outputs": [
    {
     "name": "stdout",
     "output_type": "stream",
     "text": [
      "Say something: something\n",
      "g\n"
     ]
    }
   ],
   "source": [
    "txt = input('Say something: ')\n",
    "last_element = len(txt) - 1\n",
    "\n",
    "print(txt[last_element])"
   ]
  },
  {
   "cell_type": "code",
   "execution_count": 14,
   "metadata": {},
   "outputs": [
    {
     "name": "stdout",
     "output_type": "stream",
     "text": [
      "Say something: IFCE\n",
      "E\n"
     ]
    }
   ],
   "source": [
    "txt = input('Say something: ')\n",
    "print(txt[-1])"
   ]
  },
  {
   "cell_type": "markdown",
   "metadata": {},
   "source": [
    "### String functions\n",
    "#### Split"
   ]
  },
  {
   "cell_type": "code",
   "execution_count": null,
   "metadata": {},
   "outputs": [],
   "source": [
    "'Hello People'.split()"
   ]
  },
  {
   "cell_type": "code",
   "execution_count": null,
   "metadata": {},
   "outputs": [],
   "source": [
    "'Hello     People'.split()"
   ]
  },
  {
   "cell_type": "code",
   "execution_count": null,
   "metadata": {},
   "outputs": [],
   "source": [
    "'Hello People'.split('o')"
   ]
  },
  {
   "cell_type": "code",
   "execution_count": null,
   "metadata": {},
   "outputs": [],
   "source": [
    "'HelloPeople'.split()"
   ]
  },
  {
   "cell_type": "code",
   "execution_count": 15,
   "metadata": {},
   "outputs": [
    {
     "data": {
      "text/plain": [
       "['user.name', 'ifce.edu.br']"
      ]
     },
     "execution_count": 15,
     "metadata": {},
     "output_type": "execute_result"
    }
   ],
   "source": [
    "'user.name@ifce.edu.br'.split('@')"
   ]
  },
  {
   "cell_type": "code",
   "execution_count": 16,
   "metadata": {},
   "outputs": [
    {
     "data": {
      "text/plain": [
       "['ifce', 'edu', 'br']"
      ]
     },
     "execution_count": 16,
     "metadata": {},
     "output_type": "execute_result"
    }
   ],
   "source": [
    "'user.name@ifce.edu.br'.split('@')[1].split('.')"
   ]
  },
  {
   "cell_type": "markdown",
   "metadata": {},
   "source": [
    "#### Replace"
   ]
  },
  {
   "cell_type": "code",
   "execution_count": 4,
   "metadata": {},
   "outputs": [
    {
     "data": {
      "text/plain": [
       "'Jello People'"
      ]
     },
     "execution_count": 4,
     "metadata": {},
     "output_type": "execute_result"
    }
   ],
   "source": [
    "'Hello People'.replace('H', 'J')"
   ]
  },
  {
   "cell_type": "code",
   "execution_count": 3,
   "metadata": {},
   "outputs": [
    {
     "data": {
      "text/plain": [
       "'Hello Shot'"
      ]
     },
     "execution_count": 3,
     "metadata": {},
     "output_type": "execute_result"
    }
   ],
   "source": [
    "'Hello People'.replace('People', 'Shot')"
   ]
  },
  {
   "cell_type": "code",
   "execution_count": 5,
   "metadata": {},
   "outputs": [
    {
     "data": {
      "text/plain": [
       "'Hello People'"
      ]
     },
     "execution_count": 5,
     "metadata": {},
     "output_type": "execute_result"
    }
   ],
   "source": [
    "'Hello People'.replace('Class', 'River')"
   ]
  },
  {
   "cell_type": "code",
   "execution_count": 18,
   "metadata": {},
   "outputs": [
    {
     "data": {
      "text/plain": [
       "'Jello Shot'"
      ]
     },
     "execution_count": 18,
     "metadata": {},
     "output_type": "execute_result"
    }
   ],
   "source": [
    "'Hello People'.replace('H', 'J').replace('People', 'Shot')"
   ]
  },
  {
   "cell_type": "markdown",
   "metadata": {},
   "source": [
    "find\n",
    "rfind\n",
    "startswith\n",
    "endswith\n",
    "\n",
    "strip\n",
    "rjust\n",
    "\n",
    "capitalize\n",
    "swapcase\n",
    "title\n",
    "upper\n",
    "lower"
   ]
  },
  {
   "cell_type": "markdown",
   "metadata": {},
   "source": [
    "#### Case functions"
   ]
  },
  {
   "cell_type": "code",
   "execution_count": 31,
   "metadata": {},
   "outputs": [
    {
     "name": "stdout",
     "output_type": "stream",
     "text": [
      "1 JOHN SNOW\n",
      "2 john snow\n",
      "3 JOHN snow\n",
      "4 John Snow\n",
      "5 John snow\n"
     ]
    }
   ],
   "source": [
    "name = 'john SNOW'\n",
    "\n",
    "print(1, name.upper()) # All upper\n",
    "print(2, name.lower()) # All lower\n",
    "print(3, name.swapcase()) # swapped\n",
    "print(4, name.title()) # First letter of each word upper\n",
    "print(5, name.capitalize()) # Only the first letter upper"
   ]
  },
  {
   "cell_type": "markdown",
   "metadata": {},
   "source": [
    "#### Strip\n",
    "\n",
    "Get rid of extra spaces"
   ]
  },
  {
   "cell_type": "code",
   "execution_count": 47,
   "metadata": {},
   "outputs": [
    {
     "name": "stdout",
     "output_type": "stream",
     "text": [
      ">    John Snow          <\n",
      "> John Snow <\n",
      "> John Snow          <\n",
      ">    John Snow <\n",
      "> John Snow <\n"
     ]
    }
   ],
   "source": [
    "name = '   John Snow         ' # lots of spaces\n",
    "\n",
    "print('>', name, '<') # Normal\n",
    "print('>', name.strip(), '<') # No extra space\n",
    "print('>', name.lstrip(), '<') # No extra space at the left side\n",
    "print('>', name.rstrip(), '<') # No extra space at the right side\n",
    "print('>', name.lstrip().rstrip(), '<') # Equivalent to .strip()"
   ]
  },
  {
   "cell_type": "markdown",
   "metadata": {},
   "source": [
    "#### Find\n",
    "\n",
    "This function tries to finds a given string starting from the left and returns an index where that string starts"
   ]
  },
  {
   "cell_type": "code",
   "execution_count": 52,
   "metadata": {},
   "outputs": [
    {
     "name": "stdout",
     "output_type": "stream",
     "text": [
      "The letter J is at the index 0\n"
     ]
    }
   ],
   "source": [
    "name = 'John Snow'\n",
    "index = name.find('J')\n",
    "\n",
    "print('The letter J is at the index ' + str(index))"
   ]
  },
  {
   "cell_type": "code",
   "execution_count": 54,
   "metadata": {},
   "outputs": [
    {
     "name": "stdout",
     "output_type": "stream",
     "text": [
      "The word John starts at 5\n"
     ]
    }
   ],
   "source": [
    "name = 'John Snow'\n",
    "index = name.find('Snow')\n",
    "\n",
    "print('The word John starts at ' + str(index))"
   ]
  },
  {
   "cell_type": "code",
   "execution_count": 56,
   "metadata": {},
   "outputs": [
    {
     "name": "stdout",
     "output_type": "stream",
     "text": [
      "The word John starts at -1\n"
     ]
    }
   ],
   "source": [
    "name = 'John Snow'\n",
    "index = name.find('snow')\n",
    "\n",
    "print('The word John starts at ' + str(index)) # -1 means not found"
   ]
  },
  {
   "cell_type": "code",
   "execution_count": 65,
   "metadata": {},
   "outputs": [
    {
     "name": "stdout",
     "output_type": "stream",
     "text": [
      "Name: John Snow\n",
      "First 'o': 1\n",
      "Last 'o': 7\n"
     ]
    }
   ],
   "source": [
    "name = 'John Snow'\n",
    "\n",
    "first_o = name.find('o')\n",
    "last_o = name.rfind('o') # starts from the right to the left side\n",
    "\n",
    "print('Name: ' + name)\n",
    "print('First \\'o\\': ' + str(first_o))\n",
    "print('Last \\'o\\': ' + str(last_o))"
   ]
  },
  {
   "cell_type": "code",
   "execution_count": 69,
   "metadata": {},
   "outputs": [
    {
     "name": "stdout",
     "output_type": "stream",
     "text": [
      "S is at index -1\n",
      "S is at index 5\n"
     ]
    }
   ],
   "source": [
    "# Using case and find\n",
    "name = 'John Snow'\n",
    "\n",
    "print('S is at index', name.find('s'))\n",
    "print('S is at index', name.lower().find('s'))"
   ]
  },
  {
   "cell_type": "markdown",
   "metadata": {},
   "source": [
    "#### Startswith & Endswith"
   ]
  },
  {
   "cell_type": "code",
   "execution_count": 76,
   "metadata": {},
   "outputs": [
    {
     "name": "stdout",
     "output_type": "stream",
     "text": [
      "True\n",
      "False\n",
      "True\n",
      "False\n",
      "----------\n",
      "False\n",
      "True\n"
     ]
    }
   ],
   "source": [
    "word = 'homecare'\n",
    "\n",
    "print(word.startswith('home'))\n",
    "print(word.startswith('care'))\n",
    "print(word.endswith('care'))\n",
    "print(word.endswith('home'))\n",
    "\n",
    "print('-'*10)\n",
    "\n",
    "print(word.startswith('Home'))\n",
    "print(word.title().startswith('Home'))"
   ]
  },
  {
   "cell_type": "markdown",
   "metadata": {},
   "source": [
    "#### Justifying"
   ]
  },
  {
   "cell_type": "code",
   "execution_count": 85,
   "metadata": {},
   "outputs": [
    {
     "name": "stdout",
     "output_type": "stream",
     "text": [
      "Name: John\n",
      "Surname: Snow\n",
      "Age: 25\n"
     ]
    }
   ],
   "source": [
    "first_name = 'John'\n",
    "last_name = 'Snow'\n",
    "age = 25\n",
    "\n",
    "print('Name: ' + first_name)\n",
    "print('Surname: ' + last_name)\n",
    "print('Age: ' + str(age))"
   ]
  },
  {
   "cell_type": "code",
   "execution_count": 86,
   "metadata": {},
   "outputs": [
    {
     "name": "stdout",
     "output_type": "stream",
     "text": [
      "Name:     John\n",
      "Surname:  Snow\n",
      "Age:      25\n"
     ]
    }
   ],
   "source": [
    "# Ljust\n",
    "print('Name: '.ljust(10) + first_name)\n",
    "print('Surname: '.ljust(10) + last_name)\n",
    "print('Age: '.ljust(10) + str(age))"
   ]
  },
  {
   "cell_type": "code",
   "execution_count": 87,
   "metadata": {},
   "outputs": [
    {
     "name": "stdout",
     "output_type": "stream",
     "text": [
      "    Name: John\n",
      " Surname: Snow\n",
      "     Age: 25\n"
     ]
    }
   ],
   "source": [
    "# Rjust\n",
    "print('Name: '.rjust(10) + first_name)\n",
    "print('Surname: '.rjust(10) + last_name)\n",
    "print('Age: '.rjust(10) + str(age))"
   ]
  },
  {
   "cell_type": "code",
   "execution_count": 89,
   "metadata": {},
   "outputs": [
    {
     "name": "stdout",
     "output_type": "stream",
     "text": [
      "  Name:   John\n",
      "Surname:  Snow\n",
      "  Age:    25\n"
     ]
    }
   ],
   "source": [
    "# Center\n",
    "print('Name: '.center(10) + first_name)\n",
    "print('Surname: '.center(10) + last_name)\n",
    "print('Age: '.center(10) + str(age))"
   ]
  },
  {
   "cell_type": "markdown",
   "metadata": {},
   "source": [
    "## Exercice (Portuguese)\n",
    "\n",
    "Escreva o programa a seguir:\n",
    "\n",
    "Exemplo 1:\n",
    "\n",
    "```\n",
    "Digite o seu nome e sobrenome: john snow\n",
    "Digite a sua idade: 25\n",
    "Qual é a largura a ficha: 30\n",
    "\n",
    "==============================\n",
    "       FICHA CADASTRAL        \n",
    "------------------------------\n",
    "NOME:                     John\n",
    "SOBRENOME:                SNOW\n",
    "IDADE:                      25\n",
    "==============================\n",
    "```\n",
    "\n",
    "Exemplo 2:\n",
    "\n",
    "```\n",
    "Digite o seu nome e sobrenome: Luther King\n",
    "Digite a sua idade: 33\n",
    "Qual é a largura a ficha: 50\n",
    "\n",
    "==================================================\n",
    "                 FICHA CADASTRAL                  \n",
    "--------------------------------------------------\n",
    "NOME:                                       Luther\n",
    "SOBRENOME:                                    KING\n",
    "IDADE:                                          33\n",
    "==================================================\n",
    "```"
   ]
  },
  {
   "cell_type": "code",
   "execution_count": null,
   "metadata": {},
   "outputs": [],
   "source": []
  },
  {
   "cell_type": "markdown",
   "metadata": {},
   "source": [
    "## Booleans\n",
    " - `True`\n",
    " - `False`"
   ]
  },
  {
   "cell_type": "code",
   "execution_count": null,
   "metadata": {},
   "outputs": [],
   "source": [
    "True"
   ]
  },
  {
   "cell_type": "code",
   "execution_count": null,
   "metadata": {},
   "outputs": [],
   "source": [
    "False"
   ]
  },
  {
   "cell_type": "code",
   "execution_count": null,
   "metadata": {},
   "outputs": [],
   "source": [
    "'True'"
   ]
  },
  {
   "cell_type": "markdown",
   "metadata": {},
   "source": [
    "#### Generating Booleans"
   ]
  },
  {
   "cell_type": "code",
   "execution_count": null,
   "metadata": {},
   "outputs": [],
   "source": [
    "5 == 4"
   ]
  },
  {
   "cell_type": "code",
   "execution_count": null,
   "metadata": {},
   "outputs": [],
   "source": [
    "5 is not 5"
   ]
  },
  {
   "cell_type": "code",
   "execution_count": null,
   "metadata": {},
   "outputs": [],
   "source": [
    "5 is not 6"
   ]
  },
  {
   "cell_type": "code",
   "execution_count": null,
   "metadata": {},
   "outputs": [],
   "source": [
    "'This' is \"This\""
   ]
  },
  {
   "cell_type": "code",
   "execution_count": null,
   "metadata": {},
   "outputs": [],
   "source": [
    "'True' is True"
   ]
  },
  {
   "cell_type": "code",
   "execution_count": null,
   "metadata": {},
   "outputs": [],
   "source": [
    "'True' is str(True)"
   ]
  }
 ],
 "metadata": {
  "kernelspec": {
   "display_name": "Python 3",
   "language": "python",
   "name": "python3"
  },
  "language_info": {
   "codemirror_mode": {
    "name": "ipython",
    "version": 3
   },
   "file_extension": ".py",
   "mimetype": "text/x-python",
   "name": "python",
   "nbconvert_exporter": "python",
   "pygments_lexer": "ipython3",
   "version": "3.6.7"
  }
 },
 "nbformat": 4,
 "nbformat_minor": 2
}
