{
 "cells": [
  {
   "cell_type": "markdown",
   "metadata": {},
   "source": [
    "# Basic types\n",
    "## Numbers\n",
    "There are only two types of numbers in python\n",
    " - integer\n",
    " - floating point\n",
    " \n",
    "### Integers"
   ]
  },
  {
   "cell_type": "code",
   "execution_count": null,
   "metadata": {
    "scrolled": false
   },
   "outputs": [],
   "source": [
    "5"
   ]
  },
  {
   "cell_type": "code",
   "execution_count": null,
   "metadata": {},
   "outputs": [],
   "source": [
    "5 + 6"
   ]
  },
  {
   "cell_type": "code",
   "execution_count": null,
   "metadata": {},
   "outputs": [],
   "source": [
    "5 * 6"
   ]
  },
  {
   "cell_type": "markdown",
   "metadata": {},
   "source": [
    "Numbers in quotation are considered strings"
   ]
  },
  {
   "cell_type": "code",
   "execution_count": null,
   "metadata": {},
   "outputs": [],
   "source": [
    "'5' + '6'"
   ]
  },
  {
   "cell_type": "markdown",
   "metadata": {},
   "source": [
    "The following statement will generate an error because python can't `sum` strings and numbers:\n",
    "```py\n",
    "'5' + 6\n",
    "```"
   ]
  },
  {
   "cell_type": "code",
   "execution_count": null,
   "metadata": {},
   "outputs": [],
   "source": [
    "'5' + 6"
   ]
  },
  {
   "cell_type": "markdown",
   "metadata": {},
   "source": [
    "### Floating point"
   ]
  },
  {
   "cell_type": "code",
   "execution_count": null,
   "metadata": {},
   "outputs": [],
   "source": [
    "5.1 + 2.2"
   ]
  },
  {
   "cell_type": "markdown",
   "metadata": {},
   "source": [
    "### Conversion\n",
    "In order to perform mathmatical operations with numbers in quotation (_strings_) one needs to convert that value to workable numbers"
   ]
  },
  {
   "cell_type": "code",
   "execution_count": null,
   "metadata": {},
   "outputs": [],
   "source": [
    "int('5')"
   ]
  },
  {
   "cell_type": "code",
   "execution_count": null,
   "metadata": {},
   "outputs": [],
   "source": [
    "float('5.1')"
   ]
  },
  {
   "cell_type": "markdown",
   "metadata": {},
   "source": [
    "## Strings\n",
    "String of characters that are treated as text"
   ]
  },
  {
   "cell_type": "code",
   "execution_count": null,
   "metadata": {
    "scrolled": true
   },
   "outputs": [],
   "source": [
    "'Hello String'"
   ]
  },
  {
   "cell_type": "code",
   "execution_count": null,
   "metadata": {
    "scrolled": true
   },
   "outputs": [],
   "source": [
    "\"Hello Double Quotation\""
   ]
  },
  {
   "cell_type": "markdown",
   "metadata": {},
   "source": [
    "### Escaping\n",
    "Python uses backslash `( \\\\ )` for giving special meaning to some characters\n",
    "\n",
    "Examples:\n",
    " - Don't do that\n",
    " - She said \"I want this\"\n",
    " - She said \"I don't do that\""
   ]
  },
  {
   "cell_type": "code",
   "execution_count": null,
   "metadata": {},
   "outputs": [],
   "source": [
    "# Examples:\n",
    "# Don't do that\n",
    "# She said \"I want this\"\n",
    "# She said \"I don't do that\""
   ]
  },
  {
   "cell_type": "markdown",
   "metadata": {},
   "source": [
    "Other examples of escape characters:\n",
    " - `\\n`\n",
    " - `\\t`\n",
    " - `\\r`"
   ]
  },
  {
   "cell_type": "markdown",
   "metadata": {},
   "source": [
    "### String manipulation\n",
    "#### Concatenation\n",
    "\"Glue\" strings together"
   ]
  },
  {
   "cell_type": "code",
   "execution_count": null,
   "metadata": {},
   "outputs": [],
   "source": [
    "'Hello, ' + \"Class\""
   ]
  },
  {
   "cell_type": "code",
   "execution_count": null,
   "metadata": {},
   "outputs": [],
   "source": [
    "'H' + 'e' + 'l' + 'l' + 'o'"
   ]
  },
  {
   "cell_type": "markdown",
   "metadata": {},
   "source": [
    "#### Conversion\n",
    "The following statement will generate an error because python can't `concatenate` strings and numbers:\n",
    "```py\n",
    "'I have ' + 6 + ' apples'\n",
    "```\n",
    "\n",
    "In order to concatenate numbers to string it is necessary to convert the numbers to string"
   ]
  },
  {
   "cell_type": "code",
   "execution_count": null,
   "metadata": {},
   "outputs": [],
   "source": [
    "'I have ' + 6 + ' apples'"
   ]
  },
  {
   "cell_type": "code",
   "execution_count": null,
   "metadata": {},
   "outputs": [],
   "source": [
    "'I have ' + str(6) + ' apples'"
   ]
  },
  {
   "cell_type": "markdown",
   "metadata": {},
   "source": [
    "#### Split"
   ]
  },
  {
   "cell_type": "code",
   "execution_count": null,
   "metadata": {},
   "outputs": [],
   "source": [
    "'Hello People'.split()"
   ]
  },
  {
   "cell_type": "code",
   "execution_count": null,
   "metadata": {},
   "outputs": [],
   "source": [
    "'Hello People'.split('o')"
   ]
  },
  {
   "cell_type": "code",
   "execution_count": null,
   "metadata": {},
   "outputs": [],
   "source": [
    "'HelloPeople'.split()"
   ]
  },
  {
   "cell_type": "markdown",
   "metadata": {},
   "source": [
    "## Booleans\n",
    " - `True`\n",
    " - `False`"
   ]
  },
  {
   "cell_type": "code",
   "execution_count": null,
   "metadata": {},
   "outputs": [],
   "source": [
    "True"
   ]
  },
  {
   "cell_type": "code",
   "execution_count": null,
   "metadata": {},
   "outputs": [],
   "source": [
    "False"
   ]
  },
  {
   "cell_type": "code",
   "execution_count": null,
   "metadata": {},
   "outputs": [],
   "source": [
    "'True'"
   ]
  },
  {
   "cell_type": "markdown",
   "metadata": {},
   "source": [
    "#### Generating Booleans"
   ]
  },
  {
   "cell_type": "code",
   "execution_count": null,
   "metadata": {},
   "outputs": [],
   "source": [
    "5 == 4"
   ]
  },
  {
   "cell_type": "code",
   "execution_count": null,
   "metadata": {},
   "outputs": [],
   "source": [
    "5 is not 5"
   ]
  },
  {
   "cell_type": "code",
   "execution_count": null,
   "metadata": {},
   "outputs": [],
   "source": [
    "5 is not 6"
   ]
  },
  {
   "cell_type": "code",
   "execution_count": null,
   "metadata": {},
   "outputs": [],
   "source": [
    "'This' is \"This\""
   ]
  },
  {
   "cell_type": "code",
   "execution_count": null,
   "metadata": {},
   "outputs": [],
   "source": [
    "'True' is True"
   ]
  },
  {
   "cell_type": "code",
   "execution_count": null,
   "metadata": {},
   "outputs": [],
   "source": [
    "'True' is str(True)"
   ]
  },
  {
   "cell_type": "markdown",
   "metadata": {},
   "source": [
    "## Lists\n",
    " - Vectors / Arrays / Collections of items\n",
    " - Initialization: `[]`, `list()`\n",
    " - Items of mixed types\n",
    " - Indexation by numers\n",
    "   - From 0 to n\n",
    " "
   ]
  },
  {
   "cell_type": "code",
   "execution_count": null,
   "metadata": {},
   "outputs": [],
   "source": [
    "[] # or list()"
   ]
  },
  {
   "cell_type": "code",
   "execution_count": null,
   "metadata": {},
   "outputs": [],
   "source": [
    "['Movies', 'Games', 'Playing', 'Python']"
   ]
  },
  {
   "cell_type": "markdown",
   "metadata": {},
   "source": [
    "### Length\n",
    "Use the built-in function `len()` to find the length of a list"
   ]
  },
  {
   "cell_type": "code",
   "execution_count": null,
   "metadata": {},
   "outputs": [],
   "source": [
    "len(['Movies', 'Games', 'Playing', 'Python'])"
   ]
  },
  {
   "cell_type": "markdown",
   "metadata": {},
   "source": [
    "### Indexing"
   ]
  },
  {
   "cell_type": "code",
   "execution_count": null,
   "metadata": {},
   "outputs": [],
   "source": [
    "# 0         1        2          3        \n",
    "['Movies', 'Games', 'Playing', 'Python'][0]"
   ]
  },
  {
   "cell_type": "code",
   "execution_count": null,
   "metadata": {},
   "outputs": [],
   "source": [
    "# 0         1        2          3\n",
    "['Movies', 'Games', 'Playing', 'Python'][3]"
   ]
  },
  {
   "cell_type": "code",
   "execution_count": null,
   "metadata": {},
   "outputs": [],
   "source": [
    "# -4        -3       -2         -1\n",
    "['Movies', 'Games', 'Playing', 'Python'][-1]"
   ]
  },
  {
   "cell_type": "code",
   "execution_count": null,
   "metadata": {},
   "outputs": [],
   "source": [
    "# -4        -3       -2         -1\n",
    "['Movies', 'Games', 'Playing', 'Python'][-2]"
   ]
  },
  {
   "cell_type": "markdown",
   "metadata": {},
   "source": [
    "### Slicing\n",
    "Slicing works by selecting part of an array accondingly with this semantics `[A:B]`, where `A` (the left term) is **included** and `B` (the right term) is **excluded**."
   ]
  },
  {
   "cell_type": "code",
   "execution_count": null,
   "metadata": {},
   "outputs": [],
   "source": [
    "# 0         1        2          3\n",
    "['Movies', 'Games', 'Playing', 'Python'][0:2]"
   ]
  },
  {
   "cell_type": "code",
   "execution_count": null,
   "metadata": {},
   "outputs": [],
   "source": [
    "# -4        -3       -2         -1\n",
    "['Movies', 'Games', 'Playing', 'Python'][0:-2]"
   ]
  },
  {
   "cell_type": "code",
   "execution_count": null,
   "metadata": {},
   "outputs": [],
   "source": [
    "# -4        -3       -2         -1\n",
    "['Movies', 'Games', 'Playing', 'Python'][-4:-2]"
   ]
  },
  {
   "cell_type": "code",
   "execution_count": null,
   "metadata": {},
   "outputs": [],
   "source": [
    "#  0         1        2          3\n",
    "# -4        -3       -2         -1\n",
    "['Movies', 'Games', 'Playing', 'Python'][-4:2]"
   ]
  },
  {
   "cell_type": "code",
   "execution_count": null,
   "metadata": {},
   "outputs": [],
   "source": [
    "# 0         1        2          3\n",
    "['Movies', 'Games', 'Playing', 'Python'][:2]"
   ]
  },
  {
   "cell_type": "code",
   "execution_count": null,
   "metadata": {},
   "outputs": [],
   "source": [
    "# 0         1        2          3\n",
    "['Movies', 'Games', 'Playing', 'Python'][2:]"
   ]
  },
  {
   "cell_type": "markdown",
   "metadata": {},
   "source": [
    "### Change items\n",
    "#### Individually"
   ]
  },
  {
   "cell_type": "code",
   "execution_count": null,
   "metadata": {},
   "outputs": [],
   "source": [
    "#       0         1        2          3\n",
    "arr = ['Movies', 'Games', 'Playing', 'Python']\n",
    "\n",
    "# Changes\n",
    "arr[0] = 'A'\n",
    "arr[1] = 'B'\n",
    "arr[2] = 0\n",
    "\n",
    "# Showing\n",
    "print(arr)"
   ]
  },
  {
   "cell_type": "markdown",
   "metadata": {},
   "source": [
    "#### Multiple"
   ]
  },
  {
   "cell_type": "code",
   "execution_count": null,
   "metadata": {},
   "outputs": [],
   "source": [
    "#       0         1        2          3\n",
    "arr = ['Movies', 'Games', 'Playing', 'Python']\n",
    "\n",
    "# Changes\n",
    "arr[0:3] = ['A', 'B', 0]\n",
    "\n",
    "# Showing\n",
    "print(arr)"
   ]
  },
  {
   "cell_type": "code",
   "execution_count": null,
   "metadata": {},
   "outputs": [],
   "source": [
    "#       0         1        2          3\n",
    "arr = ['Movies', 'Games', 'Playing', 'Python']\n",
    "\n",
    "# Changes\n",
    "arr[0:2] = ['A', 'B', 0]\n",
    "\n",
    "# Showing\n",
    "print(arr)"
   ]
  },
  {
   "cell_type": "markdown",
   "metadata": {},
   "source": [
    "### Check if Item Exists"
   ]
  },
  {
   "cell_type": "code",
   "execution_count": null,
   "metadata": {},
   "outputs": [],
   "source": [
    "'Python' in ['A', 'B', 0, 'Python']"
   ]
  },
  {
   "cell_type": "code",
   "execution_count": null,
   "metadata": {},
   "outputs": [],
   "source": [
    "'0' in ['A', 'B', 0, 'Python']"
   ]
  },
  {
   "cell_type": "code",
   "execution_count": null,
   "metadata": {},
   "outputs": [],
   "source": [
    "0 in ['A', 'B', 0, 'Python']"
   ]
  },
  {
   "cell_type": "markdown",
   "metadata": {},
   "source": [
    "## Tuples\n",
    " - Vectors / Arrays / Collections of items\n",
    " - Initialization: `()`, `tuple()`\n",
    " - Items of mixed types\n",
    " - Indexation by numers\n",
    "   - From 0 to n"
   ]
  },
  {
   "cell_type": "code",
   "execution_count": null,
   "metadata": {},
   "outputs": [],
   "source": [
    "('A', 'B', 0, 'Python')"
   ]
  },
  {
   "cell_type": "code",
   "execution_count": null,
   "metadata": {},
   "outputs": [],
   "source": [
    "('A', 'B', 0, 'Python')[-1]"
   ]
  },
  {
   "cell_type": "markdown",
   "metadata": {},
   "source": [
    "Tuples are unchangeable, one can not switch its items. For example, the following statement will yield an erro:\n",
    "```py\n",
    "   ('A', 'B', 0, 'Python')[0] = 'X' \n",
    "```"
   ]
  },
  {
   "cell_type": "code",
   "execution_count": null,
   "metadata": {},
   "outputs": [],
   "source": [
    "('A', 'B', 0, 'Python')[0] = 'X'"
   ]
  },
  {
   "cell_type": "markdown",
   "metadata": {},
   "source": [
    "## Dictionaries\n",
    "\n",
    " - Vectors / Arrays / Collections of items\n",
    " - Initialization: {}, dict()\n",
    " - Items of mixed types\n",
    " - Indexation by strings\n",
    "\n",
    "Each position of a dictionary has a `key` and a `value`."
   ]
  },
  {
   "cell_type": "code",
   "execution_count": null,
   "metadata": {},
   "outputs": [],
   "source": [
    "{'name': 'Bob', 'lastname': 'Johnson', 'age': 27}"
   ]
  },
  {
   "cell_type": "code",
   "execution_count": null,
   "metadata": {},
   "outputs": [],
   "source": [
    "{\n",
    "    'name': 'Bob',\n",
    "    'lastname': 'Johnson',\n",
    "    'age': 27,\n",
    "    'social': {\n",
    "        'married': True,\n",
    "        'partner': 'Alice',\n",
    "        'children': ['Mary', 'John'],\n",
    "    }\n",
    "}"
   ]
  },
  {
   "cell_type": "markdown",
   "metadata": {},
   "source": [
    "### Indexing"
   ]
  },
  {
   "cell_type": "code",
   "execution_count": null,
   "metadata": {},
   "outputs": [],
   "source": [
    "{'name': 'Bob', 'lastname': 'Johnson', 'age': 27}['name']"
   ]
  },
  {
   "cell_type": "code",
   "execution_count": null,
   "metadata": {},
   "outputs": [],
   "source": [
    "{'name': 'Bob', 'lastname': 'Johnson', 'age': 27}['age']"
   ]
  },
  {
   "cell_type": "markdown",
   "metadata": {},
   "source": [
    "#### Indexing with numbers*\n",
    "_*Possible depending on the dictionary_"
   ]
  },
  {
   "cell_type": "code",
   "execution_count": null,
   "metadata": {},
   "outputs": [],
   "source": [
    "{'0': 'Bob', 0: 'Johnson'}[0]"
   ]
  },
  {
   "cell_type": "markdown",
   "metadata": {},
   "source": [
    "----------------------\n",
    "# Variables\n",
    "In Python we can use variables for storing values, objects and function. It brings flexibility to the program."
   ]
  },
  {
   "cell_type": "code",
   "execution_count": null,
   "metadata": {},
   "outputs": [],
   "source": [
    "name = 'Bob'\n",
    "age = 27\n",
    "\n",
    "print('Hi, my name is ' + name)\n",
    "print('I am ' + str(age) + ' years-old')"
   ]
  },
  {
   "cell_type": "markdown",
   "metadata": {},
   "source": [
    "## Dinamically setting a variable\n",
    "Variables can have their values stated in the code, can be produced for a calculation and can be inputted by an user"
   ]
  },
  {
   "cell_type": "code",
   "execution_count": null,
   "metadata": {},
   "outputs": [],
   "source": [
    "name = input('Say your name: ')\n",
    "age = input('Tell your age: ')\n",
    "\n",
    "print('\\nPresentation')\n",
    "print('Hi, my name is ' + name)\n",
    "print('I am ' + str(age) + ' years-old')"
   ]
  },
  {
   "cell_type": "markdown",
   "metadata": {},
   "source": [
    "## Dinamically changing a variable\n",
    "**Python is a dynamically-typed language** (in contrast with Java that is a statically-typed language). It means that it is possible to change the type of a variable during the executions of our program."
   ]
  },
  {
   "cell_type": "code",
   "execution_count": null,
   "metadata": {},
   "outputs": [],
   "source": [
    "name = 'Bob'\n",
    "print(name)\n",
    "\n",
    "name = 17\n",
    "print(name + 10)"
   ]
  },
  {
   "cell_type": "markdown",
   "metadata": {},
   "source": [
    "--------\n",
    "# Built-in functions\n",
    " - `print`, `str`, `int`, `float`, `bool`\n",
    " - `len`: arrays, strings\n",
    " - `sorted`"
   ]
  },
  {
   "cell_type": "markdown",
   "metadata": {},
   "source": [
    "#### `len`\n",
    "Length of arrays, dictionaries, strings, etc"
   ]
  },
  {
   "cell_type": "code",
   "execution_count": null,
   "metadata": {},
   "outputs": [],
   "source": [
    "len([3, 1, 4, 1, 5, 9, 2])"
   ]
  },
  {
   "cell_type": "code",
   "execution_count": null,
   "metadata": {},
   "outputs": [],
   "source": [
    "len('H e l l o')"
   ]
  },
  {
   "cell_type": "markdown",
   "metadata": {},
   "source": [
    "#### `sorted`\n",
    "Sort arrays of the same type"
   ]
  },
  {
   "cell_type": "code",
   "execution_count": null,
   "metadata": {},
   "outputs": [],
   "source": [
    "sorted([3, 1, 4, 1, 5, 9, 2])"
   ]
  },
  {
   "cell_type": "code",
   "execution_count": null,
   "metadata": {},
   "outputs": [],
   "source": [
    "sorted(['P', 'y', 't', 'h', 'o'])"
   ]
  },
  {
   "cell_type": "code",
   "execution_count": null,
   "metadata": {},
   "outputs": [],
   "source": [
    "sorted(['a', 'A', 'A1', '1', '0', '0.5', '0.3'])"
   ]
  },
  {
   "cell_type": "markdown",
   "metadata": {},
   "source": [
    "**Note:** The following statement will yield an error because of mixed types:\n",
    "```py\n",
    "    sorted([1, 2, 3, '1', '2', '3'])\n",
    "```"
   ]
  },
  {
   "cell_type": "code",
   "execution_count": null,
   "metadata": {},
   "outputs": [],
   "source": [
    "sorted([1, 2, 3, '1', '2', '3']) # TypeError"
   ]
  },
  {
   "cell_type": "markdown",
   "metadata": {},
   "source": [
    "<table>\n",
    "\t<thead>\n",
    "\t\t<tr><th colspan=5 class='h4 float'>Built-in functions</th></tr>\n",
    "\t</thead>\n",
    "\t<tbody>\n",
    "\t\t<tr><td>abs()</td><td>delattr()</td><td>hash()</td><td>memoryview()</td><td> set()</td></tr>\n",
    "\t\t<tr><td>all()</td><td>dict()</td><td>help()</td><td>min()</td><td> setattr()</td></tr>\n",
    "\t\t<tr><td>any()</td><td>dir()</td><td>hex()</td><td>next()</td><td> slice()</td></tr>\n",
    "\t\t<tr><td>ascii()</td><td>divmod()</td><td>id()</td><td>object()</td><td> sorted()</td></tr>\n",
    "\t\t<tr><td>bin()</td><td>enumerate()</td><td>input()</td><td>oct()</td><td> staticmethod()</td></tr>\n",
    "\t\t<tr><td>bool()</td><td>eval()</td><td>int()</td><td>open()</td><td> str()</td></tr>\n",
    "\t\t<tr><td>breakpoint()</td><td>exec()</td><td>isinstance()</td><td>ord()</td><td> sum()</td></tr>\n",
    "\t\t<tr><td>bytearray()</td><td>filter()</td><td>issubclass()</td><td>pow()</td><td> super()</td></tr>\n",
    "\t\t<tr><td>bytes()</td><td>float()</td><td>iter()</td><td>print()</td><td> tuple()</td></tr>\n",
    "\t\t<tr><td>callable()</td><td>format()</td><td>len()</td><td>property()</td><td> type()</td></tr>\n",
    "\t\t<tr><td>chr()</td><td>frozenset()</td><td>list()</td><td>range()</td><td> vars()</td></tr>\n",
    "\t\t<tr><td>classmethod()</td><td>getattr()</td><td>locals()</td><td>repr()</td><td> zip()</td></tr>\n",
    "\t\t<tr><td>compile()</td><td>globals()</td><td>map()</td><td>reversed()</td><td> __import__()</td></tr>\n",
    "\t\t<tr><td>complex()</td><td>hasattr()</td><td>max()</td><td>round()</td><td></td></tr>\n",
    "\t</tbody>\n",
    "</table>"
   ]
  }
 ],
 "metadata": {
  "kernelspec": {
   "display_name": "Python 3",
   "language": "python",
   "name": "python3"
  },
  "language_info": {
   "codemirror_mode": {
    "name": "ipython",
    "version": 3
   },
   "file_extension": ".py",
   "mimetype": "text/x-python",
   "name": "python",
   "nbconvert_exporter": "python",
   "pygments_lexer": "ipython3",
   "version": "3.6.7"
  }
 },
 "nbformat": 4,
 "nbformat_minor": 2
}
