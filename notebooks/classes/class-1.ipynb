{
 "cells": [
  {
   "cell_type": "markdown",
   "metadata": {},
   "source": [
    "# Variables and constants\n",
    "https://www.programiz.com/python-programming/variables-constants-literals\n",
    "\n",
    "## Variables\n",
    "A variable is a named location used to store data in the **memory**. It is helpful to think of variables as a container that holds data which can be changed later throughout programming.\n",
    "\n",
    "#### Assigning a value to a variable\n",
    "\n",
    "In order to assign a value to a variable we use the operator `=`"
   ]
  },
  {
   "cell_type": "code",
   "execution_count": null,
   "metadata": {},
   "outputs": [],
   "source": [
    "a = 10\n",
    "print(a)"
   ]
  },
  {
   "cell_type": "code",
   "execution_count": null,
   "metadata": {},
   "outputs": [],
   "source": [
    "b = 'www.ifce.edu.br'\n",
    "print(b)"
   ]
  },
  {
   "cell_type": "markdown",
   "metadata": {},
   "source": [
    "#### Reassigning a value to a variable"
   ]
  },
  {
   "cell_type": "code",
   "execution_count": null,
   "metadata": {},
   "outputs": [],
   "source": [
    "c = 10\n",
    "c = 20\n",
    "\n",
    "print(c)"
   ]
  },
  {
   "cell_type": "markdown",
   "metadata": {},
   "source": [
    "#### Assigning multiple variables"
   ]
  },
  {
   "cell_type": "code",
   "execution_count": null,
   "metadata": {},
   "outputs": [],
   "source": [
    "a, b, c = 3, 1, 'hi'\n",
    "\n",
    "print(a)\n",
    "print(b)\n",
    "print(c)"
   ]
  },
  {
   "cell_type": "code",
   "execution_count": null,
   "metadata": {},
   "outputs": [],
   "source": [
    "x = y = z = 'same'\n",
    "\n",
    "print(x)\n",
    "print(y)\n",
    "print(z)"
   ]
  },
  {
   "cell_type": "markdown",
   "metadata": {},
   "source": [
    "## Constants\n",
    "A constant is a type of variable whose value cannot be changed. It is helpful to think of constants as containers that hold information which cannot be changed later.\n",
    "\n",
    "#### Assigning value to a constant in Python"
   ]
  },
  {
   "cell_type": "code",
   "execution_count": null,
   "metadata": {},
   "outputs": [],
   "source": [
    "PI = 3.14\n",
    "GRAVITY = 9.8"
   ]
  },
  {
   "cell_type": "markdown",
   "metadata": {},
   "source": [
    "## Rules and Naming convention\n",
    " 1. Create a name that makes sense\n",
    " 2. Use the PEP notation for naming. For example:\n",
    " ```\n",
    " first_name\n",
    " last_name\n",
    " ```\n",
    " 3. Declare constants with capital letters\n",
    " ```\n",
    " PI\n",
    " MASS\n",
    " TEMP\n",
    " ```\n",
    " 4. Never use special symbols like !, @, #, $, %, etc\n",
    " 5. Don't start name with a digit\n",
    "\n",
    "#### Complementary examples\n",
    "\n",
    "```\n",
    "_my_variable\n",
    "__my_variable\n",
    "_my_variable_\n",
    "__my_variable__\n",
    "```"
   ]
  },
  {
   "cell_type": "code",
   "execution_count": null,
   "metadata": {},
   "outputs": [],
   "source": [
    "_my_variable = 10"
   ]
  },
  {
   "cell_type": "markdown",
   "metadata": {},
   "source": [
    "## Inputing variables (basic)"
   ]
  },
  {
   "cell_type": "code",
   "execution_count": null,
   "metadata": {},
   "outputs": [],
   "source": [
    "my_age = input('Tell us your age: ')\n",
    "print('I am', my_age,'years old')"
   ]
  },
  {
   "cell_type": "markdown",
   "metadata": {},
   "source": [
    "# Operators\n",
    "\n",
    "Operators are used to perform operations on values and variables. Operators can manipulate individual items and returns a result. The data items are referred as operands or arguments. Operators are either represented by keywords or special characters.\n",
    "\n",
    "https://www.tutorialspoint.com/python/python_basic_operators.htm\n",
    "\n",
    "## Arithmetic Operators\n",
    " Arithmetic Operators perform various arithmetic calculations like addition, subtraction, multiplication, division, etc.\n",
    " \n",
    " | Operator | Symbol |\n",
    " |--|--|\n",
    " | Addition | + |\n",
    " | Subtraction | - |\n",
    " | Multiplication | * |\n",
    " | Division | / |\n",
    " | Floor division | // |\n",
    " | Modulus | % |\n",
    " | Exponent | ** |"
   ]
  },
  {
   "cell_type": "markdown",
   "metadata": {},
   "source": [
    "#### Addition"
   ]
  },
  {
   "cell_type": "code",
   "execution_count": null,
   "metadata": {
    "scrolled": true
   },
   "outputs": [],
   "source": [
    "a = 10\n",
    "b = 2\n",
    "\n",
    "print(a + b)"
   ]
  },
  {
   "cell_type": "markdown",
   "metadata": {},
   "source": [
    "#### Subtraction"
   ]
  },
  {
   "cell_type": "code",
   "execution_count": null,
   "metadata": {},
   "outputs": [],
   "source": [
    "a = 0\n",
    "b = 2\n",
    "\n",
    "print(a - b)"
   ]
  },
  {
   "cell_type": "markdown",
   "metadata": {},
   "source": [
    "#### Multiplication"
   ]
  },
  {
   "cell_type": "code",
   "execution_count": null,
   "metadata": {},
   "outputs": [],
   "source": [
    "a = 3\n",
    "b = -2\n",
    "\n",
    "print(a * b)"
   ]
  },
  {
   "cell_type": "markdown",
   "metadata": {},
   "source": [
    "#### Division"
   ]
  },
  {
   "cell_type": "code",
   "execution_count": null,
   "metadata": {},
   "outputs": [],
   "source": [
    "# Division\n",
    "a = 10\n",
    "b = 3\n",
    "\n",
    "print(a / b)\n",
    "\n",
    "# Floor division\n",
    "print(a // b)"
   ]
  },
  {
   "cell_type": "markdown",
   "metadata": {},
   "source": [
    "#### Modulus"
   ]
  },
  {
   "cell_type": "code",
   "execution_count": null,
   "metadata": {},
   "outputs": [],
   "source": [
    "a = 8\n",
    "\n",
    "print(a % 2)\n",
    "print(a % 3)"
   ]
  },
  {
   "cell_type": "markdown",
   "metadata": {},
   "source": [
    "#### Exponent"
   ]
  },
  {
   "cell_type": "code",
   "execution_count": null,
   "metadata": {},
   "outputs": [],
   "source": [
    "a = 4\n",
    "\n",
    "print(a**2)\n",
    "print(a**4)\n",
    "print(2**4)"
   ]
  },
  {
   "cell_type": "markdown",
   "metadata": {},
   "source": [
    "## Exercices (Portuguese)\n",
    "\n",
    " 1. Crie duas variáveis `a` e `b` e assinale-as para 10 e 3, respectivamente. Imprima na tela a soma, subtração, divisão, multiplicação, exponenciação e o módulo de `a` por `b`.\n",
    " "
   ]
  },
  {
   "cell_type": "code",
   "execution_count": null,
   "metadata": {},
   "outputs": [],
   "source": []
  },
  {
   "cell_type": "markdown",
   "metadata": {},
   "source": [
    " 2. Imprima a soma dos dois valores ao quadrado e depois o quadrado da soma."
   ]
  },
  {
   "cell_type": "code",
   "execution_count": null,
   "metadata": {},
   "outputs": [],
   "source": []
  },
  {
   "cell_type": "markdown",
   "metadata": {},
   "source": [
    " 3. Imprima a divisão do produto pela soma dos valores"
   ]
  },
  {
   "cell_type": "code",
   "execution_count": null,
   "metadata": {},
   "outputs": [],
   "source": []
  },
  {
   "cell_type": "markdown",
   "metadata": {},
   "source": [
    " 4. Leia um valor e imprima na tela"
   ]
  },
  {
   "cell_type": "code",
   "execution_count": null,
   "metadata": {},
   "outputs": [],
   "source": []
  },
  {
   "cell_type": "markdown",
   "metadata": {},
   "source": [
    " 5. Leia um valor e imprima o quadrado do valor"
   ]
  },
  {
   "cell_type": "code",
   "execution_count": null,
   "metadata": {},
   "outputs": [],
   "source": []
  },
  {
   "cell_type": "markdown",
   "metadata": {},
   "source": [
    "## Comparison Operators\n",
    "\n",
    "These operators compare the values on either side of the operand and determine the relation between them. It is also referred as relational operators.\n",
    "\n",
    "| Operator | Symbol |\n",
    "|--|--|\n",
    "| Equals | == |\n",
    "| Different | != |\n",
    "| Bigger than | > |\n",
    "| Bigger or equals to | >= |\n",
    "| Smaller than | < |\n",
    "| Smaller or equals to | <= |\n",
    "\n",
    "The result of a comparison is either `True` or `False`.\n",
    "\n",
    "#### Examples"
   ]
  },
  {
   "cell_type": "code",
   "execution_count": null,
   "metadata": {},
   "outputs": [],
   "source": [
    "x = 5\n",
    "y = 4\n",
    "\n",
    "# Equals\n",
    "print('x == y:', x == y)\n",
    "\n",
    "# Different / not equal\n",
    "print('x != y:', x != y)\n",
    "\n",
    "# Bigger\n",
    "print('x > y: ', x > y)\n",
    "print('x >= y:', x >= y)\n",
    "\n",
    "# Smaller\n",
    "print('x < y: ', x < y)\n",
    "print('x <= y:', x <= y)"
   ]
  },
  {
   "cell_type": "markdown",
   "metadata": {},
   "source": [
    "## Assignment Operators\n",
    "These operators compare the values on either side of the operand and determine the relation between them. It is also referred as relational operators.\n",
    "\n",
    "| Operator | Symbol |\n",
    "|--|--|\n",
    "| Attributes | = |\n",
    "| Adds | += |\n",
    "| Subtracts | -= |\n",
    "| Multiply | *= |\n",
    "| Modulus | %= |\n",
    "| Exponent | **= |\n",
    "| Floor | //= |\n",
    "\n",
    "#### Examples"
   ]
  },
  {
   "cell_type": "code",
   "execution_count": null,
   "metadata": {},
   "outputs": [],
   "source": [
    "a = 21\n",
    "b = 10\n",
    "c = 0\n",
    "\n",
    "c = a + b\n",
    "print('1. Value of c is ', c)\n",
    "\n",
    "c += a\n",
    "print('2. Value of c is ', c)\n",
    "\n",
    "c *= a\n",
    "print('3. Value of c is ', c) \n",
    "\n",
    "c /= a \n",
    "print('4. Value of c is ', c)\n",
    "\n",
    "c = 2\n",
    "c %= a\n",
    "print('5. Value of c is ', c)\n",
    "\n",
    "c **= a\n",
    "print('6. Value of c is ', c)\n",
    "\n",
    "c //= a\n",
    "print('7. Value of c is ', c)"
   ]
  },
  {
   "cell_type": "markdown",
   "metadata": {},
   "source": []
  }
 ],
 "metadata": {
  "kernelspec": {
   "display_name": "Python 3",
   "language": "python",
   "name": "python3"
  },
  "language_info": {
   "codemirror_mode": {
    "name": "ipython",
    "version": 3
   },
   "file_extension": ".py",
   "mimetype": "text/x-python",
   "name": "python",
   "nbconvert_exporter": "python",
   "pygments_lexer": "ipython3",
   "version": "3.6.7"
  }
 },
 "nbformat": 4,
 "nbformat_minor": 2
}
