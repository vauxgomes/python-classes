{
 "cells": [
  {
   "cell_type": "markdown",
   "metadata": {},
   "source": [
    "# Decision making\n",
    "\n",
    "Using conditional operators and the reserved words `if` and `else` we can modify the flow of our program, making it more dynamic. \n",
    "\n",
    "\n",
    "### Syntax\n",
    "```\n",
    "if expression:\n",
    "    statement(s)\n",
    "else:\n",
    "    statement(s)\n",
    "```\n",
    "\n",
    "#### Flow diagram\n",
    "<img src=\"https://www.tutorialspoint.com/python/images/if_else_statement.jpg\">\n",
    "\n",
    "### `If` Example"
   ]
  },
  {
   "cell_type": "code",
   "execution_count": null,
   "metadata": {},
   "outputs": [],
   "source": [
    "num = int(input('Type a number: '))\n",
    "\n",
    "if num > 10:\n",
    "    print('Bigger than 10')\n",
    "    \n",
    "if num == 10:\n",
    "    print('Equals to 10')\n",
    "    \n",
    "if num < 10:\n",
    "    print('Smaller than 10')"
   ]
  },
  {
   "cell_type": "markdown",
   "metadata": {},
   "source": [
    "### `If` & `else` Example"
   ]
  },
  {
   "cell_type": "code",
   "execution_count": null,
   "metadata": {},
   "outputs": [],
   "source": [
    "num = int(input('Guess a number: '))\n",
    "\n",
    "if num == 10:\n",
    "    print('You win!')\n",
    "    print('The number is correct')\n",
    "else:\n",
    "    print('You lose!')\n",
    "    print('The number is wrong')\n",
    "    print('Try again!')"
   ]
  },
  {
   "cell_type": "markdown",
   "metadata": {},
   "source": [
    "### Nesting `ifs`"
   ]
  },
  {
   "cell_type": "code",
   "execution_count": null,
   "metadata": {},
   "outputs": [],
   "source": [
    "magic_number = 5656\n",
    "num = int(input('Guess a number: '))\n",
    "\n",
    "if num == magic_number:\n",
    "    print('You win!')\n",
    "else:\n",
    "    if num > magic_number:\n",
    "        print('-')\n",
    "    else:\n",
    "        print('+')"
   ]
  },
  {
   "cell_type": "markdown",
   "metadata": {},
   "source": [
    "## `Elif` Statement\n",
    "\n",
    "### Syntax\n",
    "```\n",
    "if expression1:\n",
    "   statement(s)\n",
    "elif expression2:\n",
    "   statement(s)\n",
    "elif expression3:\n",
    "   statement(s)\n",
    "else:\n",
    "   statement(s)\n",
    "```\n",
    "\n",
    "### Example"
   ]
  },
  {
   "cell_type": "code",
   "execution_count": null,
   "metadata": {},
   "outputs": [],
   "source": [
    "magic_number = 5656\n",
    "num = int(input('Guess a number: '))\n",
    "\n",
    "if num == magic_number:\n",
    "    print('You win!')\n",
    "elif num > magic_number:\n",
    "    print('-')\n",
    "else:\n",
    "    print('+')"
   ]
  },
  {
   "cell_type": "markdown",
   "metadata": {},
   "source": [
    "### Example 2"
   ]
  },
  {
   "cell_type": "code",
   "execution_count": null,
   "metadata": {},
   "outputs": [],
   "source": [
    "magic_number = 5656\n",
    "num = int(input('Guess a number: '))\n",
    "\n",
    "if num == magic_number:\n",
    "    print('You win!')\n",
    "elif num - 1000 > magic_number:\n",
    "    print('----')\n",
    "elif num - 100 > magic_number:\n",
    "    print('---')\n",
    "elif num - 10 > magic_number:\n",
    "    print('--')\n",
    "elif num > magic_number:\n",
    "    print('-')    \n",
    "elif num + 1000 < magic_number:\n",
    "    print('++++')\n",
    "elif num + 100 < magic_number:\n",
    "    print('+++')\n",
    "elif num + 10 < magic_number:\n",
    "    print('++')\n",
    "else:\n",
    "    print('+')"
   ]
  },
  {
   "cell_type": "markdown",
   "metadata": {},
   "source": [
    "## `And` & `or`"
   ]
  },
  {
   "cell_type": "code",
   "execution_count": null,
   "metadata": {},
   "outputs": [],
   "source": [
    "# Birth year\n",
    "birth = int(input('Birth year: '))\n",
    "\n",
    "# Biological sexes\n",
    "sex = input('M/F: ') # !\n",
    "\n",
    "# Whether or not they want to go to army\n",
    "will = input('Army Y/N: ') # !\n",
    "\n",
    "# Current year\n",
    "year = 2019"
   ]
  },
  {
   "cell_type": "markdown",
   "metadata": {},
   "source": [
    "#### Conditions"
   ]
  },
  {
   "cell_type": "code",
   "execution_count": null,
   "metadata": {},
   "outputs": [],
   "source": [
    "# Age\n",
    "age = year - birth # !\n",
    "\n",
    "if age >= 18 and sex == 'M':\n",
    "    print('Go')\n",
    "elif age >= 18 and will == 'Y':\n",
    "    print('Go')\n",
    "else:\n",
    "    print('Stay')"
   ]
  },
  {
   "cell_type": "markdown",
   "metadata": {},
   "source": [
    "#### Improving code"
   ]
  },
  {
   "cell_type": "code",
   "execution_count": null,
   "metadata": {},
   "outputs": [],
   "source": [
    "if age >= 18 and (sex == 'M' or will == 'Y'):\n",
    "    print('Go')\n",
    "else:\n",
    "    print('Stay')"
   ]
  },
  {
   "cell_type": "markdown",
   "metadata": {},
   "source": [
    "### Passing more than one test\n",
    "\n",
    "In all of the examples we have seen so far, only one test can pass. As soon as the first test passes, the rest of the tests are ignored. This is really good, because it allows our code to run more efficiently. Many times only one condition can be true, so testing every condition after one passes would be meaningless.\n",
    "\n",
    "There are situations in which you want to run a series of tests, where every single test runs. These are situations where any or all of the tests could pass, and you want to respond to each passing test. Consider the following example, where we want to greet each dog that is present:"
   ]
  },
  {
   "cell_type": "code",
   "execution_count": null,
   "metadata": {},
   "outputs": [],
   "source": [
    "name = 'John Snow'\n",
    "\n",
    "if name.startswith('John'):\n",
    "    print('Hello John')\n",
    "if name.endswith('Snow'):\n",
    "    print('Hello John')\n",
    "if len(name) > 4:\n",
    "    print('???')\n",
    "    "
   ]
  },
  {
   "cell_type": "markdown",
   "metadata": {},
   "source": [
    "# Practice (Portuguese)\n",
    "\n",
    "1. Receba um número do usuário e imprimar `IMPAR` se o número for impar ou `PAR` se o número for par."
   ]
  },
  {
   "cell_type": "code",
   "execution_count": null,
   "metadata": {},
   "outputs": [],
   "source": []
  },
  {
   "cell_type": "markdown",
   "metadata": {},
   "source": [
    "2. Receba dois números `d1` e `d2` para representar os valores de dois dados. A partir da soma dos valores, escreva `GANHOU` (se 7 ou 11), `PERDEU` (se 2, 3 ou 12) e `JOHN SNOW` (se 4, 2, 6, 8, 9 ou 10)."
   ]
  },
  {
   "cell_type": "code",
   "execution_count": null,
   "metadata": {},
   "outputs": [],
   "source": []
  },
  {
   "cell_type": "markdown",
   "metadata": {},
   "source": [
    "3. Aproveite o código dos dados acima e imprima na tela:\n",
    " - O valor do maior dado\n",
    " - O valor do menor dado\n",
    " - Imprima se os dados são pares ou impares"
   ]
  },
  {
   "cell_type": "code",
   "execution_count": null,
   "metadata": {},
   "outputs": [],
   "source": []
  },
  {
   "cell_type": "markdown",
   "metadata": {},
   "source": [
    "4. Aproveite o código dos dados acima. Imprima na tela:\n",
    " - O dobro da soma dos dados: caso os dados sejam iguais e pares;\n",
    " - O triplo da soma dos dados: caso os dados sejam iguais e ímpares;\n",
    " - O menor dado ao quadrado: se os dados forem diferentes e o menor dado for menor que 4\n",
    " - O menor dado ao cubo: caso os dados forem diferentes e o menor dado for menor que 2\n",
    " - A multiplicação entre os dados: caso os dados sejam diferentes e maiores que 3\n",
    " - 1000 se um dado for 1 e o outro for 6\n",
    " - A soma simples, caso contrário."
   ]
  },
  {
   "cell_type": "code",
   "execution_count": null,
   "metadata": {},
   "outputs": [],
   "source": []
  }
 ],
 "metadata": {
  "kernelspec": {
   "display_name": "Python 3",
   "language": "python",
   "name": "python3"
  },
  "language_info": {
   "codemirror_mode": {
    "name": "ipython",
    "version": 3
   },
   "file_extension": ".py",
   "mimetype": "text/x-python",
   "name": "python",
   "nbconvert_exporter": "python",
   "pygments_lexer": "ipython3",
   "version": "3.6.7"
  }
 },
 "nbformat": 4,
 "nbformat_minor": 2
}
