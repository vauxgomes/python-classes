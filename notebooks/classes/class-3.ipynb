{
 "cells": [
  {
   "cell_type": "markdown",
   "metadata": {},
   "source": [
    "# Advancing with lists and dictionaries\n",
    "## Lists\n",
    "### Appending"
   ]
  },
  {
   "cell_type": "code",
   "execution_count": 1,
   "metadata": {},
   "outputs": [
    {
     "name": "stdout",
     "output_type": "stream",
     "text": [
      "[10, 20, 'a', [1, 2], {'a': 0}]\n"
     ]
    }
   ],
   "source": [
    "arr = []\n",
    "\n",
    "# Appending\n",
    "arr.append(10)\n",
    "arr.append(20)\n",
    "arr.append('a')\n",
    "arr.append([1,2])\n",
    "arr.append({'a': 0})\n",
    "\n",
    "print(arr)"
   ]
  },
  {
   "cell_type": "markdown",
   "metadata": {},
   "source": [
    "### Extending"
   ]
  },
  {
   "cell_type": "code",
   "execution_count": 2,
   "metadata": {},
   "outputs": [
    {
     "name": "stdout",
     "output_type": "stream",
     "text": [
      "[0, 1, 2, 3]\n"
     ]
    }
   ],
   "source": [
    "arr = [0]\n",
    "\n",
    "# Extending\n",
    "arr.extend([1])\n",
    "arr.extend([2, 3])\n",
    "\n",
    "print(arr)"
   ]
  },
  {
   "cell_type": "code",
   "execution_count": 3,
   "metadata": {},
   "outputs": [
    {
     "name": "stdout",
     "output_type": "stream",
     "text": [
      "[4, 5, 6, 7]\n"
     ]
    }
   ],
   "source": [
    "arr = [4]\n",
    "\n",
    "# Extending\n",
    "arr = arr + [5]\n",
    "arr = arr + [6, 7]\n",
    "\n",
    "print(arr)"
   ]
  },
  {
   "cell_type": "markdown",
   "metadata": {},
   "source": [
    "### Checking and finding indexes"
   ]
  },
  {
   "cell_type": "code",
   "execution_count": 4,
   "metadata": {},
   "outputs": [
    {
     "name": "stdout",
     "output_type": "stream",
     "text": [
      "'b' is in array at index 1\n"
     ]
    }
   ],
   "source": [
    "arr = ['a', 'b', 0, 1]\n",
    "val = 'b'\n",
    "\n",
    "# Checking\n",
    "if val in arr:\n",
    "    print('\\'' + val + '\\' is in array at index', arr.index('b')) # Finding index"
   ]
  },
  {
   "cell_type": "markdown",
   "metadata": {},
   "source": [
    "### Removing"
   ]
  },
  {
   "cell_type": "code",
   "execution_count": 5,
   "metadata": {},
   "outputs": [
    {
     "name": "stdout",
     "output_type": "stream",
     "text": [
      "['a', 0, 1]\n"
     ]
    }
   ],
   "source": [
    "arr = ['a', 'b', 0, 1]\n",
    "val = 'b'\n",
    "\n",
    "if val in arr:\n",
    "    arr.remove(val)\n",
    "\n",
    "print(arr)"
   ]
  },
  {
   "cell_type": "markdown",
   "metadata": {},
   "source": [
    "### Other moves \n",
    " - sort\n",
    " - insert\n",
    " - pop\n",
    " - reverse"
   ]
  },
  {
   "cell_type": "code",
   "execution_count": 6,
   "metadata": {},
   "outputs": [
    {
     "name": "stdout",
     "output_type": "stream",
     "text": [
      "['a', 1, 'a', 1]\n"
     ]
    }
   ],
   "source": [
    "arr = ['a', 1]*2 # also works with strings\n",
    "print(arr)"
   ]
  },
  {
   "cell_type": "markdown",
   "metadata": {},
   "source": [
    "## Dictionaries\n",
    "### Appending"
   ]
  },
  {
   "cell_type": "code",
   "execution_count": 7,
   "metadata": {},
   "outputs": [
    {
     "name": "stdout",
     "output_type": "stream",
     "text": [
      "{'name': 'Bob', 'age': 27, 'childre': ['Mary', 'John']}\n"
     ]
    }
   ],
   "source": [
    "person = {}\n",
    "\n",
    "# Appending\n",
    "person['name'] = 'Bob'\n",
    "person['age'] = 27\n",
    "person['childre'] = ['Mary', 'John']\n",
    "\n",
    "print(person)"
   ]
  },
  {
   "cell_type": "markdown",
   "metadata": {},
   "source": [
    "### Popping"
   ]
  },
  {
   "cell_type": "code",
   "execution_count": 8,
   "metadata": {},
   "outputs": [
    {
     "name": "stdout",
     "output_type": "stream",
     "text": [
      "{'name': 'Bob', 'age': 27}\n"
     ]
    }
   ],
   "source": [
    "person = {'name': 'Bob', 'age': 27, 'childre': ['Mary', 'John']}\n",
    "\n",
    "# Popping\n",
    "children = person.pop('childre')\n",
    "\n",
    "print(person)"
   ]
  },
  {
   "cell_type": "markdown",
   "metadata": {},
   "source": [
    "### Searching"
   ]
  },
  {
   "cell_type": "code",
   "execution_count": 9,
   "metadata": {},
   "outputs": [
    {
     "name": "stdout",
     "output_type": "stream",
     "text": [
      "True\n"
     ]
    }
   ],
   "source": [
    "person = {'name': 'Bob', 'age': 27, 'childre': ['Mary', 'John']}\n",
    "\n",
    "# Searching\n",
    "print('name' in person)"
   ]
  },
  {
   "cell_type": "code",
   "execution_count": 10,
   "metadata": {},
   "outputs": [
    {
     "name": "stdout",
     "output_type": "stream",
     "text": [
      "27\n",
      "False\n"
     ]
    }
   ],
   "source": [
    "person = {'name': 'Bob', 'age': 27, 'childre': ['Mary', 'John']}\n",
    "\n",
    "# Searching\n",
    "print(person.get('age'))\n",
    "print(person.get('married', False))"
   ]
  },
  {
   "cell_type": "markdown",
   "metadata": {},
   "source": [
    "#### Exercice\n",
    "Count the words in the text and print them sorted by their counts from the most frequent to the least frequent"
   ]
  },
  {
   "cell_type": "code",
   "execution_count": 11,
   "metadata": {},
   "outputs": [],
   "source": [
    "text = 'Lorem Ipsum is simply dummy text of the printing and typesetting industry. \\\n",
    "Lorem Ipsum has been the industry\\'s standard dummy text ever since the 1500s, \\\n",
    "when an unknown printer took a galley of type and scrambled it to make a type specimen book. \\\n",
    "It has survived not only five centuries, but also the leap into electronic typesetting, \\\n",
    "remaining essentially unchanged. It was popularised in the 1960s with the release of \\\n",
    "Letraset sheets containing Lorem Ipsum passages, and more recently with desktop publishing \\\n",
    "software like Aldus PageMaker including versions of Lorem Ipsum.'"
   ]
  },
  {
   "cell_type": "code",
   "execution_count": 12,
   "metadata": {},
   "outputs": [
    {
     "name": "stdout",
     "output_type": "stream",
     "text": [
      "the 6\n",
      "of 4\n",
      "Lorem 4\n",
      "and 3\n",
      "Ipsum 3\n",
      "with 2\n",
      "type 2\n",
      "text 2\n",
      "has 2\n",
      "dummy 2\n",
      "a 2\n",
      "It 2\n",
      "when 1\n",
      "was 1\n",
      "versions 1\n",
      "unknown 1\n",
      "unchanged. 1\n",
      "typesetting, 1\n",
      "typesetting 1\n",
      "took 1\n",
      "to 1\n",
      "survived 1\n",
      "standard 1\n",
      "specimen 1\n",
      "software 1\n",
      "since 1\n",
      "simply 1\n",
      "sheets 1\n",
      "scrambled 1\n",
      "remaining 1\n",
      "release 1\n",
      "recently 1\n",
      "publishing 1\n",
      "printing 1\n",
      "printer 1\n",
      "popularised 1\n",
      "passages, 1\n",
      "only 1\n",
      "not 1\n",
      "more 1\n",
      "make 1\n",
      "like 1\n",
      "leap 1\n",
      "it 1\n",
      "is 1\n",
      "into 1\n",
      "industry. 1\n",
      "industry's 1\n",
      "including 1\n",
      "in 1\n",
      "galley 1\n",
      "five 1\n",
      "ever 1\n",
      "essentially 1\n",
      "electronic 1\n",
      "desktop 1\n",
      "containing 1\n",
      "centuries, 1\n",
      "but 1\n",
      "book. 1\n",
      "been 1\n",
      "an 1\n",
      "also 1\n",
      "PageMaker 1\n",
      "Letraset 1\n",
      "Ipsum. 1\n",
      "Aldus 1\n",
      "1960s 1\n",
      "1500s, 1\n"
     ]
    }
   ],
   "source": [
    "# Variable\n",
    "counter = {}\n",
    "\n",
    "# Counting\n",
    "for word in text.split():\n",
    "    counter[word] = counter.get(word, 0) + 1\n",
    "    \n",
    "arr = list(counter.items())\n",
    "arr.sort(key = lambda x: (x[1], x[0]), reverse = True)\n",
    "\n",
    "for n in arr:\n",
    "    print(n[0], n[1])"
   ]
  },
  {
   "cell_type": "markdown",
   "metadata": {},
   "source": [
    "---\n",
    "# Files: Input & Output\n",
    "One can easly create or open files in Python with the built-in function `open`. Basically it is expected to pass two arguments:\n",
    " - File name\n",
    " - Mode\n",
    "\n",
    "#### The different modes of open\n",
    "\n",
    "<table>\n",
    "\t<thead>\n",
    "\t\t<tr>\n",
    "\t\t\t<th>Mode</th><th>Description</th>\n",
    "\t\t</tr>\n",
    "\t</thead>\n",
    "\t<tbody>\n",
    "\t\t<tr><td>'r'</td><td> This is the default mode. It Opens file for reading. </td></tr>\n",
    "\t\t<tr><td rowspan='3'>'w'</td><td> This Mode Opens file for writing. </td></tr>\n",
    "\t\t<tr><td> If file does not exist, it creates a new file. </td></tr>\n",
    "\t\t<tr><td>If file exists it truncates the file. </td></tr>\n",
    "\t\t<tr><td>'x'</td><td> Creates a new file. If file already exists, the operation fails. </td></tr>\n",
    "\t\t<tr><td rowspan='2'>'a'</td><td> Open file in append mode. </td></tr>\n",
    "\t\t<tr><td>If file does not exist, it creates a new file. </td></tr>\n",
    "\t\t<tr><td>'t'</td><td> This is the default mode. It opens in text mode. </td></tr>\n",
    "\t\t<tr><td>'b'</td><td> This opens in binary mode. </td></tr>\n",
    "\t\t<tr><td>'+'</td><td> This will open a file for reading and writing (updating</td></tr>\n",
    "    </tbody>\n",
    "</table>\n",
    "\n",
    "## Reading file"
   ]
  },
  {
   "cell_type": "code",
   "execution_count": 13,
   "metadata": {},
   "outputs": [
    {
     "name": "stdout",
     "output_type": "stream",
     "text": [
      "Lorem Ipsum is simply dummy text of the printing and typesetting industry. Lorem Ipsum has been the industry's standard dummy text ever since the 1500s, when an unknown printer took a galley of type and scrambled it to make a type specimen book. It has survived not only five centuries, but also the leap into electronic typesetting, remaining essentially unchanged. It was popularised in the 1960s with the release of Letraset sheets containing Lorem Ipsum passages, and more recently with desktop publishing software like Aldus PageMaker including versions of Lorem Ipsum.\n"
     ]
    }
   ],
   "source": [
    "file = '../../res/lorem_ipsum.txt'\n",
    "handler = open(file, 'r')\n",
    "\n",
    "# Reading & Printing\n",
    "text = handler.read()\n",
    "print(text)\n",
    "\n",
    "# Closing file\n",
    "handler.close()"
   ]
  },
  {
   "cell_type": "code",
   "execution_count": 14,
   "metadata": {},
   "outputs": [
    {
     "name": "stdout",
     "output_type": "stream",
     "text": [
      "Lorem Ipsum is simply dummy text of the printing and typesetting industry. Lorem Ipsum has been the industry's standard dummy text ever since the 1500s, when an unknown printer took a galley of type and scrambled it to make a type specimen book. It has survived not only five centuries, but also the leap into electronic typesetting, remaining essentially unchanged. It was popularised in the 1960s with the release of Letraset sheets containing Lorem Ipsum passages, and more recently with desktop publishing software like Aldus PageMaker including versions of Lorem Ipsum.\n"
     ]
    }
   ],
   "source": [
    "file = '../../res/lorem_ipsum.txt'\n",
    "\n",
    "# The files is open while within the code block and closed afterwards\n",
    "with open(file, 'r') as handler:\n",
    "    text = handler.read()\n",
    "    print(text)"
   ]
  },
  {
   "cell_type": "code",
   "execution_count": 15,
   "metadata": {},
   "outputs": [
    {
     "name": "stdout",
     "output_type": "stream",
     "text": [
      "the 6\n",
      "of 4\n",
      "Lorem 4\n",
      "and 3\n",
      "Ipsum 3\n"
     ]
    }
   ],
   "source": [
    "def top_word_count(text, length = None):\n",
    "    # Variable\n",
    "    counter = {}\n",
    "\n",
    "    # Counting\n",
    "    for word in text.split():\n",
    "        counter[word] = counter.get(word, 0) + 1\n",
    "\n",
    "    arr = list(counter.items())\n",
    "    arr.sort(key = lambda x: (x[1], x[0]), reverse = True)\n",
    "\n",
    "    # Setting length\n",
    "    if length is None:\n",
    "        length = len(arr)\n",
    "        \n",
    "    for n in arr[:length]:\n",
    "        print(n[0], n[1])\n",
    "        \n",
    "file = '../../res/lorem_ipsum.txt'\n",
    "\n",
    "with open(file, 'r') as handler:\n",
    "    text = handler.read()\n",
    "    \n",
    "    # Counting words of a text\n",
    "    top_word_count(text, 5)"
   ]
  },
  {
   "cell_type": "markdown",
   "metadata": {},
   "source": [
    "## Writing"
   ]
  },
  {
   "cell_type": "code",
   "execution_count": 17,
   "metadata": {},
   "outputs": [
    {
     "name": "stdout",
     "output_type": "stream",
     "text": [
      "Input text: exit\n"
     ]
    }
   ],
   "source": [
    "file = '../../res/tmp.txt'\n",
    "text = input('Input text: ')\n",
    "writting_mode = 'w'\n",
    "\n",
    "while text != 'exit':\n",
    "    # Append to the file\n",
    "    with open(file, writting_mode) as handler:\n",
    "        handler.write(text + '\\n')\n",
    "        \n",
    "    # Print\n",
    "    print('Content:')\n",
    "    with open(file, 'r') as handler:\n",
    "        print(handler.read())\n",
    "        \n",
    "    text = input('Input text: ')"
   ]
  },
  {
   "cell_type": "markdown",
   "metadata": {},
   "source": [
    "---\n",
    "# Import\n",
    "One can import modules (equivalent to libraries) to use additional functionalities without having to implement it. In order to import a module we use the keyword `import` follow by the name of a Python module."
   ]
  },
  {
   "cell_type": "code",
   "execution_count": null,
   "metadata": {},
   "outputs": [],
   "source": [
    "# argument parsing module\n",
    "import argparse\n",
    "\n",
    "def arg_parsing(): \n",
    "    parser = argparse.ArgumentParser(description='Our personal script')\n",
    "\n",
    "    # arguments\n",
    "    parser.add_argument('-f', '--file', nargs=1, help='file path', required=True)\n",
    "    parser.add_argument('-v', '--verbosity', help='verbosity', action='store_true')\n",
    "\n",
    "    arg_values = parser.parse_args()"
   ]
  },
  {
   "cell_type": "markdown",
   "metadata": {},
   "source": [
    "On can also import Python files and use its functions and classes.\n",
    "\n",
    "#### my_functions.py\n",
    "```py\n",
    "def add(x, y):\n",
    "    return x + y\n",
    "\n",
    "def sub(x, y):\n",
    "    return x - 7\n",
    "\n",
    "def mult(x, y):\n",
    "    return x * y\n",
    "\n",
    "def div(x, y):\n",
    "    return x / y\n",
    "```"
   ]
  },
  {
   "cell_type": "code",
   "execution_count": 18,
   "metadata": {},
   "outputs": [
    {
     "name": "stdout",
     "output_type": "stream",
     "text": [
      "12\n",
      "3\n",
      "20\n",
      "5.0\n",
      "Value of x\n"
     ]
    }
   ],
   "source": [
    "# Importing and using a label\n",
    "import my_functions as mf \n",
    "\n",
    "a = 10\n",
    "b = 2\n",
    "\n",
    "print(mf.add(a, b))\n",
    "print(mf.sub(a, b))\n",
    "print(mf.mult(a, b))\n",
    "print(mf.div(a, b))\n",
    "print(mf.x)"
   ]
  },
  {
   "cell_type": "markdown",
   "metadata": {},
   "source": [
    "On can also import part of a script file"
   ]
  },
  {
   "cell_type": "code",
   "execution_count": 19,
   "metadata": {},
   "outputs": [
    {
     "name": "stdout",
     "output_type": "stream",
     "text": [
      "12\n",
      "3\n"
     ]
    },
    {
     "ename": "NameError",
     "evalue": "name 'mult' is not defined",
     "output_type": "error",
     "traceback": [
      "\u001b[0;31m---------------------------------------------------------------------------\u001b[0m",
      "\u001b[0;31mNameError\u001b[0m                                 Traceback (most recent call last)",
      "\u001b[0;32m<ipython-input-19-fde7955db64e>\u001b[0m in \u001b[0;36m<module>\u001b[0;34m\u001b[0m\n\u001b[1;32m      8\u001b[0m \u001b[0mprint\u001b[0m\u001b[0;34m(\u001b[0m\u001b[0msub\u001b[0m\u001b[0;34m(\u001b[0m\u001b[0ma\u001b[0m\u001b[0;34m,\u001b[0m \u001b[0mb\u001b[0m\u001b[0;34m)\u001b[0m\u001b[0;34m)\u001b[0m\u001b[0;34m\u001b[0m\u001b[0;34m\u001b[0m\u001b[0m\n\u001b[1;32m      9\u001b[0m \u001b[0;34m\u001b[0m\u001b[0m\n\u001b[0;32m---> 10\u001b[0;31m \u001b[0mprint\u001b[0m\u001b[0;34m(\u001b[0m\u001b[0mmult\u001b[0m\u001b[0;34m(\u001b[0m\u001b[0ma\u001b[0m\u001b[0;34m,\u001b[0m\u001b[0mb\u001b[0m\u001b[0;34m)\u001b[0m\u001b[0;34m)\u001b[0m \u001b[0;31m# Yields an error\u001b[0m\u001b[0;34m\u001b[0m\u001b[0;34m\u001b[0m\u001b[0m\n\u001b[0m\u001b[1;32m     11\u001b[0m \u001b[0mprint\u001b[0m\u001b[0;34m(\u001b[0m\u001b[0mdiv\u001b[0m\u001b[0;34m(\u001b[0m\u001b[0ma\u001b[0m\u001b[0;34m,\u001b[0m\u001b[0mb\u001b[0m\u001b[0;34m)\u001b[0m\u001b[0;34m)\u001b[0m \u001b[0;31m# Yields an error\u001b[0m\u001b[0;34m\u001b[0m\u001b[0;34m\u001b[0m\u001b[0m\n",
      "\u001b[0;31mNameError\u001b[0m: name 'mult' is not defined"
     ]
    }
   ],
   "source": [
    "# Importing part of a script\n",
    "from my_functions import add, sub\n",
    "\n",
    "a = 10\n",
    "b = 2\n",
    "\n",
    "print(add(a, b)) # OK\n",
    "print(sub(a, b)) # OK\n",
    "\n",
    "print(mult(a,b)) # NameError: name 'mult' is not defined\n",
    "print(div(a,b)) # NameError: name 'div' is not defined"
   ]
  }
 ],
 "metadata": {
  "kernelspec": {
   "display_name": "Python 3",
   "language": "python",
   "name": "python3"
  },
  "language_info": {
   "codemirror_mode": {
    "name": "ipython",
    "version": 3
   },
   "file_extension": ".py",
   "mimetype": "text/x-python",
   "name": "python",
   "nbconvert_exporter": "python",
   "pygments_lexer": "ipython3",
   "version": "3.7.3"
  }
 },
 "nbformat": 4,
 "nbformat_minor": 2
}
