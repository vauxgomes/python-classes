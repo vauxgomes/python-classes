{
 "cells": [
  {
   "cell_type": "markdown",
   "metadata": {},
   "source": [
    "# Project #2\n",
    "\n",
    "Implemente um script capaz de receber o **nome de um produto** via linha de comando e listar os preços existentes no site das americanas.\n",
    "\n",
    "Segue o código base:"
   ]
  },
  {
   "cell_type": "code",
   "execution_count": 1,
   "metadata": {},
   "outputs": [
    {
     "name": "stderr",
     "output_type": "stream",
     "text": [
      "usage: ipykernel_launcher.py [-h] -p PROD [-t TOP]\n",
      "ipykernel_launcher.py: error: the following arguments are required: -p/--prod\n"
     ]
    },
    {
     "ename": "SystemExit",
     "evalue": "2",
     "output_type": "error",
     "traceback": [
      "An exception has occurred, use %tb to see the full traceback.\n",
      "\u001b[1;31mSystemExit\u001b[0m\u001b[1;31m:\u001b[0m 2\n"
     ]
    },
    {
     "name": "stderr",
     "output_type": "stream",
     "text": [
      "C:\\Users\\Vaux Gomes\\AppData\\Local\\Programs\\Python\\Python36\\lib\\site-packages\\IPython\\core\\interactiveshell.py:3275: UserWarning: To exit: use 'exit', 'quit', or Ctrl-D.\n",
      "  warn(\"To exit: use 'exit', 'quit', or Ctrl-D.\", stacklevel=1)\n"
     ]
    }
   ],
   "source": [
    "# Imports\n",
    "import argparse\n",
    "import requests\n",
    "from bs4 import BeautifulSoup\n",
    "\n",
    "# Arg parsing\n",
    "def arg_parsing(): \n",
    "    parser = argparse.ArgumentParser(description='Lista precos')\n",
    "\n",
    "    # arguments\n",
    "    parser.add_argument('-p', '--prod', nargs=1, help='Produto', required=True)\n",
    "    parser.add_argument('-t', '--top', nargs=1, help='Produto', default=5)\n",
    "\n",
    "    return parser.parse_args()\n",
    "\n",
    "# Main\n",
    "if __name__ == '__main__':\n",
    "\targs = arg_parsing()\n",
    "\t\n",
    "\tprod = args.prod[0]\n",
    "\ttop = args.top\n",
    "\n",
    "\tbaseURL = 'https://www.americanas.com.br/busca/'\n",
    "\n",
    "\t# Request\n",
    "\n",
    "\t# Soup\n",
    "\n",
    "\t# Find"
   ]
  }
 ],
 "metadata": {
  "kernelspec": {
   "display_name": "Python 3",
   "language": "python",
   "name": "python3"
  },
  "language_info": {
   "codemirror_mode": {
    "name": "ipython",
    "version": 3
   },
   "file_extension": ".py",
   "mimetype": "text/x-python",
   "name": "python",
   "nbconvert_exporter": "python",
   "pygments_lexer": "ipython3",
   "version": "3.6.7"
  }
 },
 "nbformat": 4,
 "nbformat_minor": 2
}
