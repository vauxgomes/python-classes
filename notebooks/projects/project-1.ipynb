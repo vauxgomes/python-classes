{
 "cells": [
  {
   "cell_type": "markdown",
   "metadata": {},
   "source": [
    "# Project #1\n",
    "\n",
    "Utilize conhecimentos adquiridos até aqui para criar um pequeno sistema para gravar contatos em um vetor.\n",
    "Cada posição do vetor deve conter um dicionário no formato a seguir:\n",
    "\n",
    "```py\n",
    "person = {\n",
    "    'nome': '',\n",
    "    'sobrenome': '',\n",
    "    'numero': '',\n",
    "    'email': ''\n",
    "}\n",
    "```\n",
    "\n",
    "Implemente funções para criar uma pessoa (`person`) no formato acima. Adicione condições para que uma pessoa sempre possua um nome, e um número ou um email.\n",
    "\n",
    "Implemente uma função que imprima cada cotato da lista como segue os exemplos:\n",
    "\n",
    "```\n",
    "Johnson, Bob\n",
    "Contacts:\n",
    " > 555-2368\n",
    " > bob.johnson@example.com\n",
    " \n",
    "Alice\n",
    "Contact:\n",
    " > alice.madwoman@example.com\n",
    "```\n",
    "Onde o primeiro exemplo contém todos os dados e o segundo contém apenas o nome e o email.\n",
    "\n",
    "Segue o código base:"
   ]
  },
  {
   "cell_type": "code",
   "execution_count": null,
   "metadata": {},
   "outputs": [],
   "source": [
    "# Variáveis\n",
    "contacts = []\n",
    "options = {\n",
    "    'add':    1,\n",
    "    'remove': 2,\n",
    "    'sort':   3,\n",
    "    'print':  4,\n",
    "    'save':   5,\n",
    "    'exit':   9\n",
    "}"
   ]
  },
  {
   "cell_type": "code",
   "execution_count": null,
   "metadata": {},
   "outputs": [],
   "source": [
    "def print_menu(length = 30):      \n",
    "    print('Menu'.upper().center(30))\n",
    "    print(('-'*25).center(30))\n",
    "    \n",
    "    for k,v in options.items():\n",
    "        print(('{}:'.format(k.title()).ljust(20) + str(v)).center(30))\n",
    "        \n",
    "    print(('-'*25).center(30))"
   ]
  },
  {
   "cell_type": "code",
   "execution_count": null,
   "metadata": {},
   "outputs": [],
   "source": [
    "def create_contact():\n",
    "    ''' Esta função gera um contato com nome e um número de contato ou email '''\n",
    "    return None"
   ]
  },
  {
   "cell_type": "code",
   "execution_count": null,
   "metadata": {},
   "outputs": [],
   "source": [
    "def add_contact(contacts):\n",
    "    '''\n",
    "        Esta função cria e adiciona um contato ao fim do array de contatos.\n",
    "        Cada contato possui a seguinte estrutura:\n",
    "        \n",
    "        person = {\n",
    "            'nome': '',\n",
    "            'sobrenome': '',\n",
    "            'numero': '',\n",
    "            'email': ''\n",
    "        }\n",
    "    '''\n",
    "    pass"
   ]
  },
  {
   "cell_type": "code",
   "execution_count": null,
   "metadata": {},
   "outputs": [],
   "source": [
    "def remove_contact(contacts):\n",
    "    ''' Esta função remove um contato utilizando o nome como pesquisa '''\n",
    "    pass"
   ]
  },
  {
   "cell_type": "code",
   "execution_count": null,
   "metadata": {},
   "outputs": [],
   "source": [
    "def print_contacts(contacts):\n",
    "    ''' Esta função imprime os contatos gera um contato com nome e um número de contato ou email '''\n",
    "    pass"
   ]
  },
  {
   "cell_type": "code",
   "execution_count": null,
   "metadata": {},
   "outputs": [],
   "source": [
    "def sort_contacts(contacts):\n",
    "    ''' Esta função ordena os contatos por nome e sobrenome '''\n",
    "    pass"
   ]
  },
  {
   "cell_type": "code",
   "execution_count": null,
   "metadata": {},
   "outputs": [],
   "source": [
    "def save_contacts(contacts, file = '../../res/tmp.txt'):\n",
    "    ''' Esta função salva os contatos em um arquivo. Utilize qualquer formato '''\n",
    "    pass"
   ]
  },
  {
   "cell_type": "code",
   "execution_count": null,
   "metadata": {},
   "outputs": [],
   "source": [
    "# Main\n",
    "if __name__ == '__main__':\n",
    "    while True:\n",
    "        # Menu\n",
    "        print_menu()\n",
    "            \n",
    "        # Choosing Option\n",
    "        opt = 0\n",
    "        while opt not in options.values():\n",
    "            opt = int(input('    > '))\n",
    "            \n",
    "        # Action\n",
    "        if opt == 9:\n",
    "            break\n",
    "        elif opt == 1:\n",
    "            print('Add'.upper().center(30))\n",
    "            add_contact(contacts)\n",
    "        elif opt == 2:\n",
    "            print('Remove'.upper().center(30))\n",
    "            remove_contact(contacts)\n",
    "        elif opt == 3:\n",
    "            print('Sort'.upper().center(30))\n",
    "            sort_contacts(contacts)\n",
    "        elif opt == 4:\n",
    "            print('Print'.upper().center(30))\n",
    "            print_contacts(contacts)\n",
    "        elif opt == 5:\n",
    "            print('Save'.upper().center(30))\n",
    "            sort_contacts(contacts)\n",
    "            save_contacts(contacts)\n",
    "            \n",
    "    print('Program ended'.upper().center(30))"
   ]
  },
  {
   "cell_type": "code",
   "execution_count": null,
   "metadata": {},
   "outputs": [],
   "source": [
    "help(add_contact)"
   ]
  }
 ],
 "metadata": {
  "kernelspec": {
   "display_name": "Python 3",
   "language": "python",
   "name": "python3"
  },
  "language_info": {
   "codemirror_mode": {
    "name": "ipython",
    "version": 3
   },
   "file_extension": ".py",
   "mimetype": "text/x-python",
   "name": "python",
   "nbconvert_exporter": "python",
   "pygments_lexer": "ipython3",
   "version": "3.7.3"
  }
 },
 "nbformat": 4,
 "nbformat_minor": 2
}
