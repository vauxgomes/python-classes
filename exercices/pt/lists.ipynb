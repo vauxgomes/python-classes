{
 "cells": [
  {
   "cell_type": "markdown",
   "metadata": {},
   "source": [
    "----\n",
    "\n",
    "![Header](img/lists/header.png)\n",
    "\n",
    "----\n",
    "\n",
    "### Questão 1\n",
    "\n",
    "Crie uma lista vazia e, em seguida, insira seu **nome** e **sobrenome** como itens da lista. Imprima a lista ao fim do programa."
   ]
  },
  {
   "cell_type": "code",
   "execution_count": null,
   "metadata": {},
   "outputs": [],
   "source": [
    "# ..."
   ]
  },
  {
   "cell_type": "markdown",
   "metadata": {},
   "source": [
    "### Questão 2\n",
    "\n",
    "Transforma a lista `A` em `B`:\n",
    "\n",
    "```py\n",
    "A = [\"Spurgeon\", \"Luther\"]\n",
    "B = [\"Spurgeon\", \"Whitfield\", \"Edwards\"]\n",
    "```\n",
    "\n",
    "Imprima a lista `B` ao fim do programa."
   ]
  },
  {
   "cell_type": "code",
   "execution_count": null,
   "metadata": {},
   "outputs": [],
   "source": [
    "# ..."
   ]
  },
  {
   "cell_type": "markdown",
   "metadata": {},
   "source": [
    "### Questão 3\n",
    "\n",
    "Transforma a lista `A` em `B`:\n",
    "\n",
    "```py\n",
    "A = [\"Spurgeon\", \"Whitfield\", \"Edwards\", \"Luther\"]\n",
    "B = [\"Whitfield\", \"Spurgeon\", \"Edwards\", \"Luther\"]\n",
    "```\n",
    "\n",
    "Imprima a lista `B` ao fim do programa."
   ]
  },
  {
   "cell_type": "code",
   "execution_count": null,
   "metadata": {},
   "outputs": [],
   "source": [
    "# ..."
   ]
  },
  {
   "cell_type": "markdown",
   "metadata": {},
   "source": [
    "### Questão 4\n",
    "\n",
    "Imprima a sublista composta pelos 3 primeiros elementos da lista `A`\n",
    "\n",
    "```py\n",
    "A = [0, 10, 20, 30, 40, 50, 60, 70, 80]\n",
    "```"
   ]
  },
  {
   "cell_type": "code",
   "execution_count": null,
   "metadata": {},
   "outputs": [],
   "source": [
    "# ..."
   ]
  },
  {
   "cell_type": "markdown",
   "metadata": {},
   "source": [
    "### Questão 5\n",
    "\n",
    "Imprima os elementos de índice ímpar da lista `A`\n",
    "\n",
    "```py\n",
    "A = [0, 10, 20, 30, 40, 50, 60, 70, 80]\n",
    "```\n",
    "\n",
    "Saída esperada:\n",
    "```py\n",
    "[10, 30, 50, 70]\n",
    "```"
   ]
  },
  {
   "cell_type": "code",
   "execution_count": null,
   "metadata": {},
   "outputs": [],
   "source": [
    "# ..."
   ]
  },
  {
   "cell_type": "markdown",
   "metadata": {},
   "source": [
    "### Questão 6\n",
    "\n",
    "Imprima a lista `A` de forma inversa.\n",
    "\n",
    "```py\n",
    "A = [10, 20, 30, 40, 50]\n",
    "```\n",
    "\n",
    "Saída esperada:\n",
    "```py\n",
    "[50, 40, 30, 20, 10]\n",
    "```"
   ]
  },
  {
   "cell_type": "code",
   "execution_count": null,
   "metadata": {},
   "outputs": [],
   "source": [
    "# ..."
   ]
  },
  {
   "cell_type": "markdown",
   "metadata": {},
   "source": [
    "### Questão 7\n",
    "\n",
    "Dados a lista `A` e um valor `n` imprima os *n* valores a partir do centro da lista.\n",
    "\n",
    "```py\n",
    "A = [0, 10, 20, 30, 40, 50, 60, 70, 80]\n",
    "```\n",
    "\n",
    "Saída esperada (*n = 1*):\n",
    "```py\n",
    "[40]\n",
    "```\n",
    "\n",
    "Saída esperada (*n = 2*):\n",
    "```py\n",
    "[30, 40, 50]\n",
    "```"
   ]
  },
  {
   "cell_type": "code",
   "execution_count": null,
   "metadata": {},
   "outputs": [],
   "source": [
    "# ..."
   ]
  }
 ],
 "metadata": {
  "kernelspec": {
   "display_name": "Python 3",
   "language": "python",
   "name": "python3"
  },
  "language_info": {
   "codemirror_mode": {
    "name": "ipython",
    "version": 3
   },
   "file_extension": ".py",
   "mimetype": "text/x-python",
   "name": "python",
   "nbconvert_exporter": "python",
   "pygments_lexer": "ipython3",
   "version": "3.8.1"
  }
 },
 "nbformat": 4,
 "nbformat_minor": 4
}
